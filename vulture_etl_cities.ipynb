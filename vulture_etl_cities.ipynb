{
 "cells": [
  {
   "cell_type": "code",
   "execution_count": 1,
   "metadata": {},
   "outputs": [],
   "source": [
    "import pandas as pd\n",
    "import numpy as np\n",
    "import requests\n",
    "import json\n",
    "from pprint import pprint\n",
    "from citipy import citipy\n",
    "import math\n",
    "import time\n",
    "\n",
    "# Google API Key\n",
    "from config import gkey\n",
    "# OpenWeatherMap API key\n",
    "from api_keys import api_key\n",
    "\n",
    "from sqlalchemy import create_engine\n",
    "\n",
    "import pymysql\n",
    "pymysql.install_as_MySQLdb()\n",
    "\n",
    "# Hide warning messages in notebook\n",
    "import warnings\n",
    "warnings.filterwarnings('ignore')"
   ]
  },
  {
   "cell_type": "markdown",
   "metadata": {
    "slideshow": {
     "slide_type": "-"
    }
   },
   "source": [
    "### Store CSV into DataFrame: Vulture Migration Paths"
   ]
  },
  {
   "cell_type": "code",
   "execution_count": 2,
   "metadata": {},
   "outputs": [
    {
     "data": {
      "text/html": [
       "<div>\n",
       "<style scoped>\n",
       "    .dataframe tbody tr th:only-of-type {\n",
       "        vertical-align: middle;\n",
       "    }\n",
       "\n",
       "    .dataframe tbody tr th {\n",
       "        vertical-align: top;\n",
       "    }\n",
       "\n",
       "    .dataframe thead th {\n",
       "        text-align: right;\n",
       "    }\n",
       "</style>\n",
       "<table border=\"1\" class=\"dataframe\">\n",
       "  <thead>\n",
       "    <tr style=\"text-align: right;\">\n",
       "      <th></th>\n",
       "      <th>event-id</th>\n",
       "      <th>visible</th>\n",
       "      <th>timestamp</th>\n",
       "      <th>location-long</th>\n",
       "      <th>location-lat</th>\n",
       "      <th>manually-marked-outlier</th>\n",
       "      <th>sensor-type</th>\n",
       "      <th>individual-taxon-canonical-name</th>\n",
       "      <th>tag-local-identifier</th>\n",
       "      <th>individual-local-identifier</th>\n",
       "      <th>...</th>\n",
       "      <th>animal-life-stage</th>\n",
       "      <th>animal-mass</th>\n",
       "      <th>attachment-type</th>\n",
       "      <th>deployment-comments</th>\n",
       "      <th>deployment-id</th>\n",
       "      <th>duty-cycle</th>\n",
       "      <th>study-site</th>\n",
       "      <th>tag-manufacturer-name</th>\n",
       "      <th>tag-mass</th>\n",
       "      <th>tag-model</th>\n",
       "    </tr>\n",
       "  </thead>\n",
       "  <tbody>\n",
       "    <tr>\n",
       "      <th>0</th>\n",
       "      <td>283203879</td>\n",
       "      <td>True</td>\n",
       "      <td>2003-11-14 16:00:00.000</td>\n",
       "      <td>-75.39717</td>\n",
       "      <td>40.48933</td>\n",
       "      <td>False</td>\n",
       "      <td>gps</td>\n",
       "      <td>Cathartes aura</td>\n",
       "      <td>42500</td>\n",
       "      <td>Butterball</td>\n",
       "      <td>...</td>\n",
       "      <td>adult</td>\n",
       "      <td>2372.0</td>\n",
       "      <td>harness</td>\n",
       "      <td>trapped in Pennsylvania using padded-leg hold ...</td>\n",
       "      <td>42500-Butterball</td>\n",
       "      <td>1 fix per hour</td>\n",
       "      <td>East Coast of North America</td>\n",
       "      <td>Microwave Telemetry</td>\n",
       "      <td>70</td>\n",
       "      <td>PTT100</td>\n",
       "    </tr>\n",
       "    <tr>\n",
       "      <th>1</th>\n",
       "      <td>283203880</td>\n",
       "      <td>True</td>\n",
       "      <td>2003-11-14 17:00:00.000</td>\n",
       "      <td>-75.39717</td>\n",
       "      <td>40.48933</td>\n",
       "      <td>False</td>\n",
       "      <td>gps</td>\n",
       "      <td>Cathartes aura</td>\n",
       "      <td>42500</td>\n",
       "      <td>Butterball</td>\n",
       "      <td>...</td>\n",
       "      <td>adult</td>\n",
       "      <td>2372.0</td>\n",
       "      <td>harness</td>\n",
       "      <td>trapped in Pennsylvania using padded-leg hold ...</td>\n",
       "      <td>42500-Butterball</td>\n",
       "      <td>1 fix per hour</td>\n",
       "      <td>East Coast of North America</td>\n",
       "      <td>Microwave Telemetry</td>\n",
       "      <td>70</td>\n",
       "      <td>PTT100</td>\n",
       "    </tr>\n",
       "  </tbody>\n",
       "</table>\n",
       "<p>2 rows × 32 columns</p>\n",
       "</div>"
      ],
      "text/plain": [
       "    event-id  visible                timestamp  location-long  location-lat  \\\n",
       "0  283203879     True  2003-11-14 16:00:00.000      -75.39717      40.48933   \n",
       "1  283203880     True  2003-11-14 17:00:00.000      -75.39717      40.48933   \n",
       "\n",
       "   manually-marked-outlier sensor-type individual-taxon-canonical-name  \\\n",
       "0                    False         gps                  Cathartes aura   \n",
       "1                    False         gps                  Cathartes aura   \n",
       "\n",
       "   tag-local-identifier individual-local-identifier    ...     \\\n",
       "0                 42500                  Butterball    ...      \n",
       "1                 42500                  Butterball    ...      \n",
       "\n",
       "  animal-life-stage  animal-mass  attachment-type  \\\n",
       "0             adult       2372.0          harness   \n",
       "1             adult       2372.0          harness   \n",
       "\n",
       "                                 deployment-comments     deployment-id  \\\n",
       "0  trapped in Pennsylvania using padded-leg hold ...  42500-Butterball   \n",
       "1  trapped in Pennsylvania using padded-leg hold ...  42500-Butterball   \n",
       "\n",
       "       duty-cycle                   study-site tag-manufacturer-name tag-mass  \\\n",
       "0  1 fix per hour  East Coast of North America   Microwave Telemetry       70   \n",
       "1  1 fix per hour  East Coast of North America   Microwave Telemetry       70   \n",
       "\n",
       "  tag-model  \n",
       "0    PTT100  \n",
       "1    PTT100  \n",
       "\n",
       "[2 rows x 32 columns]"
      ]
     },
     "execution_count": 2,
     "metadata": {},
     "output_type": "execute_result"
    }
   ],
   "source": [
    "excel_file = \"Resources/Turkey vultures in North and South America - migration.xlsx\"\n",
    "vulture_data_df = pd.read_excel(excel_file, index_col=None)\n",
    "vulture_data_df.head(2)"
   ]
  },
  {
   "cell_type": "code",
   "execution_count": 3,
   "metadata": {},
   "outputs": [
    {
     "data": {
      "text/plain": [
       "Index(['event-id', 'visible', 'timestamp', 'location-long', 'location-lat',\n",
       "       'manually-marked-outlier', 'sensor-type',\n",
       "       'individual-taxon-canonical-name', 'tag-local-identifier',\n",
       "       'individual-local-identifier', 'study-name', 'utm-easting',\n",
       "       'utm-northing', 'utm-zone', 'study-timezone', 'study-local-timestamp',\n",
       "       'tag-id', 'animal-id', 'animal-taxon', 'deploy-on-date',\n",
       "       'deploy-off-date', 'animal-comments', 'animal-life-stage',\n",
       "       'animal-mass', 'attachment-type', 'deployment-comments',\n",
       "       'deployment-id', 'duty-cycle', 'study-site', 'tag-manufacturer-name',\n",
       "       'tag-mass', 'tag-model'],\n",
       "      dtype='object')"
      ]
     },
     "execution_count": 3,
     "metadata": {},
     "output_type": "execute_result"
    }
   ],
   "source": [
    "vulture_data_df.columns"
   ]
  },
  {
   "cell_type": "code",
   "execution_count": 4,
   "metadata": {},
   "outputs": [
    {
     "data": {
      "text/plain": [
       "Index(['event-id', 'visible', 'timestamp', 'location-long', 'location-lat',\n",
       "       'manually-marked-outlier', 'sensor-type',\n",
       "       'individual-taxon-canonical-name', 'tag-local-identifier',\n",
       "       'individual-local-identifier', 'study-name', 'utm-easting',\n",
       "       'utm-northing', 'utm-zone', 'study-timezone', 'study-local-timestamp',\n",
       "       'tag-id', 'animal-id', 'animal-taxon', 'deploy-on-date',\n",
       "       'deploy-off-date', 'animal-comments', 'animal-life-stage',\n",
       "       'animal-mass', 'attachment-type', 'deployment-comments',\n",
       "       'deployment-id', 'duty-cycle', 'study-site', 'tag-manufacturer-name',\n",
       "       'tag-mass', 'tag-model'],\n",
       "      dtype='object')"
      ]
     },
     "execution_count": 4,
     "metadata": {},
     "output_type": "execute_result"
    }
   ],
   "source": [
    "vulture_data_df.keys()"
   ]
  },
  {
   "cell_type": "markdown",
   "metadata": {},
   "source": [
    "### Create new data with select columns"
   ]
  },
  {
   "cell_type": "code",
   "execution_count": 5,
   "metadata": {},
   "outputs": [
    {
     "data": {
      "text/html": [
       "<div>\n",
       "<style scoped>\n",
       "    .dataframe tbody tr th:only-of-type {\n",
       "        vertical-align: middle;\n",
       "    }\n",
       "\n",
       "    .dataframe tbody tr th {\n",
       "        vertical-align: top;\n",
       "    }\n",
       "\n",
       "    .dataframe thead th {\n",
       "        text-align: right;\n",
       "    }\n",
       "</style>\n",
       "<table border=\"1\" class=\"dataframe\">\n",
       "  <thead>\n",
       "    <tr style=\"text-align: right;\">\n",
       "      <th></th>\n",
       "      <th>event-id</th>\n",
       "      <th>timestamp</th>\n",
       "      <th>location-long</th>\n",
       "      <th>location-lat</th>\n",
       "      <th>individual-taxon-canonical-name</th>\n",
       "      <th>tag-local-identifier</th>\n",
       "      <th>animal-id</th>\n",
       "    </tr>\n",
       "  </thead>\n",
       "  <tbody>\n",
       "    <tr>\n",
       "      <th>0</th>\n",
       "      <td>283203879</td>\n",
       "      <td>2003-11-14 16:00:00.000</td>\n",
       "      <td>-75.39717</td>\n",
       "      <td>40.48933</td>\n",
       "      <td>Cathartes aura</td>\n",
       "      <td>42500</td>\n",
       "      <td>Butterball</td>\n",
       "    </tr>\n",
       "    <tr>\n",
       "      <th>1</th>\n",
       "      <td>283203880</td>\n",
       "      <td>2003-11-14 17:00:00.000</td>\n",
       "      <td>-75.39717</td>\n",
       "      <td>40.48933</td>\n",
       "      <td>Cathartes aura</td>\n",
       "      <td>42500</td>\n",
       "      <td>Butterball</td>\n",
       "    </tr>\n",
       "    <tr>\n",
       "      <th>2</th>\n",
       "      <td>283203881</td>\n",
       "      <td>2003-11-14 18:00:00.000</td>\n",
       "      <td>-75.33317</td>\n",
       "      <td>40.32467</td>\n",
       "      <td>Cathartes aura</td>\n",
       "      <td>42500</td>\n",
       "      <td>Butterball</td>\n",
       "    </tr>\n",
       "    <tr>\n",
       "      <th>3</th>\n",
       "      <td>283203882</td>\n",
       "      <td>2003-11-14 19:00:00.000</td>\n",
       "      <td>-75.35617</td>\n",
       "      <td>40.33983</td>\n",
       "      <td>Cathartes aura</td>\n",
       "      <td>42500</td>\n",
       "      <td>Butterball</td>\n",
       "    </tr>\n",
       "    <tr>\n",
       "      <th>4</th>\n",
       "      <td>283203883</td>\n",
       "      <td>2003-11-14 20:00:00.000</td>\n",
       "      <td>-75.42650</td>\n",
       "      <td>40.31550</td>\n",
       "      <td>Cathartes aura</td>\n",
       "      <td>42500</td>\n",
       "      <td>Butterball</td>\n",
       "    </tr>\n",
       "  </tbody>\n",
       "</table>\n",
       "</div>"
      ],
      "text/plain": [
       "    event-id                timestamp  location-long  location-lat  \\\n",
       "0  283203879  2003-11-14 16:00:00.000      -75.39717      40.48933   \n",
       "1  283203880  2003-11-14 17:00:00.000      -75.39717      40.48933   \n",
       "2  283203881  2003-11-14 18:00:00.000      -75.33317      40.32467   \n",
       "3  283203882  2003-11-14 19:00:00.000      -75.35617      40.33983   \n",
       "4  283203883  2003-11-14 20:00:00.000      -75.42650      40.31550   \n",
       "\n",
       "  individual-taxon-canonical-name  tag-local-identifier   animal-id  \n",
       "0                  Cathartes aura                 42500  Butterball  \n",
       "1                  Cathartes aura                 42500  Butterball  \n",
       "2                  Cathartes aura                 42500  Butterball  \n",
       "3                  Cathartes aura                 42500  Butterball  \n",
       "4                  Cathartes aura                 42500  Butterball  "
      ]
     },
     "execution_count": 5,
     "metadata": {},
     "output_type": "execute_result"
    }
   ],
   "source": [
    "# Select columns \n",
    "new_vulture_data_df = vulture_data_df[['event-id', 'timestamp', 'location-long', 'location-lat','individual-taxon-canonical-name', 'tag-local-identifier',\n",
    "       'animal-id']].copy()\n",
    "new_vulture_data_df.head()"
   ]
  },
  {
   "cell_type": "markdown",
   "metadata": {},
   "source": [
    "### Clean DataFrame"
   ]
  },
  {
   "cell_type": "code",
   "execution_count": 6,
   "metadata": {},
   "outputs": [
    {
     "data": {
      "text/plain": [
       "event-id                           220077\n",
       "timestamp                          220077\n",
       "location-long                      220077\n",
       "location-lat                       220077\n",
       "individual-taxon-canonical-name    220077\n",
       "tag-local-identifier               220077\n",
       "animal-id                          220077\n",
       "dtype: int64"
      ]
     },
     "execution_count": 6,
     "metadata": {},
     "output_type": "execute_result"
    }
   ],
   "source": [
    "new_vulture_data_df.count()"
   ]
  },
  {
   "cell_type": "code",
   "execution_count": 7,
   "metadata": {},
   "outputs": [
    {
     "data": {
      "text/plain": [
       "event-id                           220077\n",
       "timestamp                          220077\n",
       "location-long                      220077\n",
       "location-lat                       220077\n",
       "individual-taxon-canonical-name    220077\n",
       "tag-local-identifier               220077\n",
       "animal-id                          220077\n",
       "dtype: int64"
      ]
     },
     "execution_count": 7,
     "metadata": {},
     "output_type": "execute_result"
    }
   ],
   "source": [
    "# drop rows without long and lat\n",
    "new_vulture_data_df = new_vulture_data_df.dropna(how=\"any\")\n",
    "new_vulture_data_df.count()"
   ]
  },
  {
   "cell_type": "code",
   "execution_count": 8,
   "metadata": {},
   "outputs": [
    {
     "data": {
      "text/plain": [
       "event-id                           220077\n",
       "timestamp                          220077\n",
       "location-long                      220077\n",
       "location-lat                       220077\n",
       "individual-taxon-canonical-name    220077\n",
       "tag-local-identifier               220077\n",
       "animal-id                          220077\n",
       "dtype: int64"
      ]
     },
     "execution_count": 8,
     "metadata": {},
     "output_type": "execute_result"
    }
   ],
   "source": [
    "# filter data to only keep turkey vulture (Cathartes aura) data\n",
    "new_vulture_data_df = new_vulture_data_df.loc[new_vulture_data_df\n",
    "                                              [\"individual-taxon-canonical-name\"] == \"Cathartes aura\", :]\n",
    "new_vulture_data_df.count()"
   ]
  },
  {
   "cell_type": "code",
   "execution_count": 9,
   "metadata": {},
   "outputs": [
    {
     "data": {
      "text/plain": [
       "event-id                             int64\n",
       "timestamp                           object\n",
       "location-long                      float64\n",
       "location-lat                       float64\n",
       "individual-taxon-canonical-name     object\n",
       "tag-local-identifier                 int64\n",
       "animal-id                           object\n",
       "dtype: object"
      ]
     },
     "execution_count": 9,
     "metadata": {},
     "output_type": "execute_result"
    }
   ],
   "source": [
    "new_vulture_data_df.dtypes"
   ]
  },
  {
   "cell_type": "code",
   "execution_count": 10,
   "metadata": {},
   "outputs": [],
   "source": [
    "# check to prevent duplicate loading (inqury for database)"
   ]
  },
  {
   "cell_type": "markdown",
   "metadata": {},
   "source": [
    "### Connect to local database"
   ]
  },
  {
   "cell_type": "code",
   "execution_count": 11,
   "metadata": {},
   "outputs": [],
   "source": [
    "database_path = \"vulture_etl\"\n",
    "engine = create_engine(f\"sqlite:///{database_path}\")"
   ]
  },
  {
   "cell_type": "markdown",
   "metadata": {},
   "source": [
    "### Check for tables"
   ]
  },
  {
   "cell_type": "code",
   "execution_count": 12,
   "metadata": {},
   "outputs": [
    {
     "data": {
      "text/plain": [
       "['city_data',\n",
       " 'city_df',\n",
       " 'counts_per_bird',\n",
       " 'migration_join',\n",
       " 'migration_paths',\n",
       " 'vulture_detail']"
      ]
     },
     "execution_count": 12,
     "metadata": {},
     "output_type": "execute_result"
    }
   ],
   "source": [
    "engine.table_names()"
   ]
  },
  {
   "cell_type": "markdown",
   "metadata": {},
   "source": [
    "### Use pandas to load csv converted DataFrame into database"
   ]
  },
  {
   "cell_type": "code",
   "execution_count": 13,
   "metadata": {},
   "outputs": [],
   "source": [
    "new_vulture_data_df.to_sql(name='migration_paths', con=engine, if_exists='replace', index=False)"
   ]
  },
  {
   "cell_type": "markdown",
   "metadata": {},
   "source": [
    "### Use pandas to import second csv: Vulture Info by name"
   ]
  },
  {
   "cell_type": "code",
   "execution_count": 14,
   "metadata": {},
   "outputs": [
    {
     "data": {
      "text/html": [
       "<div>\n",
       "<style scoped>\n",
       "    .dataframe tbody tr th:only-of-type {\n",
       "        vertical-align: middle;\n",
       "    }\n",
       "\n",
       "    .dataframe tbody tr th {\n",
       "        vertical-align: top;\n",
       "    }\n",
       "\n",
       "    .dataframe thead th {\n",
       "        text-align: right;\n",
       "    }\n",
       "</style>\n",
       "<table border=\"1\" class=\"dataframe\">\n",
       "  <thead>\n",
       "    <tr style=\"text-align: right;\">\n",
       "      <th></th>\n",
       "      <th>tag-id</th>\n",
       "      <th>animal-id</th>\n",
       "      <th>animal-taxon</th>\n",
       "      <th>deploy-on-date</th>\n",
       "      <th>deploy-off-date</th>\n",
       "      <th>animal-comments</th>\n",
       "      <th>animal-life-stage</th>\n",
       "      <th>animal-mass</th>\n",
       "      <th>attachment-type</th>\n",
       "      <th>deployment-comments</th>\n",
       "      <th>deployment-id</th>\n",
       "      <th>duty-cycle</th>\n",
       "      <th>study-site</th>\n",
       "      <th>tag-manufacturer-name</th>\n",
       "      <th>tag-mass</th>\n",
       "      <th>tag-model</th>\n",
       "    </tr>\n",
       "  </thead>\n",
       "  <tbody>\n",
       "    <tr>\n",
       "      <th>0</th>\n",
       "      <td>42500</td>\n",
       "      <td>Butterball</td>\n",
       "      <td>Cathartes aura</td>\n",
       "      <td>2003-11-14 16:00:00.000</td>\n",
       "      <td>2004-03-14 20:00:01.000</td>\n",
       "      <td>migratory</td>\n",
       "      <td>adult</td>\n",
       "      <td>2372.0</td>\n",
       "      <td>harness</td>\n",
       "      <td>trapped in Pennsylvania using padded-leg hold ...</td>\n",
       "      <td>42500-Butterball</td>\n",
       "      <td>1 fix per hour</td>\n",
       "      <td>East Coast of North America</td>\n",
       "      <td>Microwave Telemetry</td>\n",
       "      <td>70.0</td>\n",
       "      <td>PTT100</td>\n",
       "    </tr>\n",
       "    <tr>\n",
       "      <th>1</th>\n",
       "      <td>52067</td>\n",
       "      <td>Irma</td>\n",
       "      <td>Cathartes aura</td>\n",
       "      <td>2004-09-06 17:00:00.000</td>\n",
       "      <td>2013-03-18 22:00:01.000</td>\n",
       "      <td>non-migratory</td>\n",
       "      <td>adult</td>\n",
       "      <td>2012.0</td>\n",
       "      <td>harness</td>\n",
       "      <td>trapped in Pennsylvania using padded-leg hold ...</td>\n",
       "      <td>52067-Irma</td>\n",
       "      <td>1 fix per hour</td>\n",
       "      <td>East Coast of North America</td>\n",
       "      <td>Microwave Telemetry</td>\n",
       "      <td>70.0</td>\n",
       "      <td>PTT100</td>\n",
       "    </tr>\n",
       "    <tr>\n",
       "      <th>2</th>\n",
       "      <td>42500</td>\n",
       "      <td>Schaumboch</td>\n",
       "      <td>Cathartes aura</td>\n",
       "      <td>2004-10-08 15:00:00.000</td>\n",
       "      <td>2006-03-29 17:00:01.000</td>\n",
       "      <td>migratory</td>\n",
       "      <td>adult</td>\n",
       "      <td>1951.0</td>\n",
       "      <td>harness</td>\n",
       "      <td>trapped in Pennsylvania using padded-leg hold ...</td>\n",
       "      <td>42500-Schaumboch</td>\n",
       "      <td>1 fix per hour</td>\n",
       "      <td>East Coast of North America</td>\n",
       "      <td>Microwave Telemetry</td>\n",
       "      <td>70.0</td>\n",
       "      <td>PTT100</td>\n",
       "    </tr>\n",
       "    <tr>\n",
       "      <th>3</th>\n",
       "      <td>52069</td>\n",
       "      <td>Disney</td>\n",
       "      <td>Cathartes aura</td>\n",
       "      <td>2004-10-11 14:00:00.000</td>\n",
       "      <td>2011-10-18 23:00:01.000</td>\n",
       "      <td>migratory</td>\n",
       "      <td>adult</td>\n",
       "      <td>2108.0</td>\n",
       "      <td>harness</td>\n",
       "      <td>trapped in Pennsylvania using padded-leg hold ...</td>\n",
       "      <td>52069-Disney</td>\n",
       "      <td>1 fix per hour</td>\n",
       "      <td>East Coast of North America</td>\n",
       "      <td>Microwave Telemetry</td>\n",
       "      <td>70.0</td>\n",
       "      <td>PTT100</td>\n",
       "    </tr>\n",
       "    <tr>\n",
       "      <th>4</th>\n",
       "      <td>57954</td>\n",
       "      <td>Prado</td>\n",
       "      <td>Cathartes aura</td>\n",
       "      <td>2005-11-02 15:00:00.000</td>\n",
       "      <td>2009-07-07 00:00:01.000</td>\n",
       "      <td>non-migratory</td>\n",
       "      <td>adult</td>\n",
       "      <td>1710.0</td>\n",
       "      <td>harness</td>\n",
       "      <td>trapped in California using walk-in traps</td>\n",
       "      <td>57954-Prado</td>\n",
       "      <td>1 fix per hour</td>\n",
       "      <td>West Coast of North America</td>\n",
       "      <td>Microwave Telemetry</td>\n",
       "      <td>70.0</td>\n",
       "      <td>PTT100</td>\n",
       "    </tr>\n",
       "  </tbody>\n",
       "</table>\n",
       "</div>"
      ],
      "text/plain": [
       "   tag-id   animal-id    animal-taxon           deploy-on-date  \\\n",
       "0   42500  Butterball  Cathartes aura  2003-11-14 16:00:00.000   \n",
       "1   52067        Irma  Cathartes aura  2004-09-06 17:00:00.000   \n",
       "2   42500  Schaumboch  Cathartes aura  2004-10-08 15:00:00.000   \n",
       "3   52069      Disney  Cathartes aura  2004-10-11 14:00:00.000   \n",
       "4   57954       Prado  Cathartes aura  2005-11-02 15:00:00.000   \n",
       "\n",
       "           deploy-off-date animal-comments animal-life-stage  animal-mass  \\\n",
       "0  2004-03-14 20:00:01.000       migratory             adult       2372.0   \n",
       "1  2013-03-18 22:00:01.000   non-migratory             adult       2012.0   \n",
       "2  2006-03-29 17:00:01.000       migratory             adult       1951.0   \n",
       "3  2011-10-18 23:00:01.000       migratory             adult       2108.0   \n",
       "4  2009-07-07 00:00:01.000   non-migratory             adult       1710.0   \n",
       "\n",
       "  attachment-type                                deployment-comments  \\\n",
       "0         harness  trapped in Pennsylvania using padded-leg hold ...   \n",
       "1         harness  trapped in Pennsylvania using padded-leg hold ...   \n",
       "2         harness  trapped in Pennsylvania using padded-leg hold ...   \n",
       "3         harness  trapped in Pennsylvania using padded-leg hold ...   \n",
       "4         harness          trapped in California using walk-in traps   \n",
       "\n",
       "      deployment-id      duty-cycle                   study-site  \\\n",
       "0  42500-Butterball  1 fix per hour  East Coast of North America   \n",
       "1        52067-Irma  1 fix per hour  East Coast of North America   \n",
       "2  42500-Schaumboch  1 fix per hour  East Coast of North America   \n",
       "3      52069-Disney  1 fix per hour  East Coast of North America   \n",
       "4       57954-Prado  1 fix per hour  West Coast of North America   \n",
       "\n",
       "  tag-manufacturer-name  tag-mass tag-model  \n",
       "0   Microwave Telemetry      70.0    PTT100  \n",
       "1   Microwave Telemetry      70.0    PTT100  \n",
       "2   Microwave Telemetry      70.0    PTT100  \n",
       "3   Microwave Telemetry      70.0    PTT100  \n",
       "4   Microwave Telemetry      70.0    PTT100  "
      ]
     },
     "execution_count": 14,
     "metadata": {},
     "output_type": "execute_result"
    }
   ],
   "source": [
    "csv_file = \"Resources/Turkey vultures in North and South America-reference-data.csv\"\n",
    "vulture_info_df = pd.read_csv(csv_file, low_memory=False)\n",
    "vulture_info_df.head()"
   ]
  },
  {
   "cell_type": "code",
   "execution_count": 15,
   "metadata": {},
   "outputs": [
    {
     "data": {
      "text/plain": [
       "Index(['tag-id', 'animal-id', 'animal-taxon', 'deploy-on-date',\n",
       "       'deploy-off-date', 'animal-comments', 'animal-life-stage',\n",
       "       'animal-mass', 'attachment-type', 'deployment-comments',\n",
       "       'deployment-id', 'duty-cycle', 'study-site', 'tag-manufacturer-name',\n",
       "       'tag-mass', 'tag-model'],\n",
       "      dtype='object')"
      ]
     },
     "execution_count": 15,
     "metadata": {},
     "output_type": "execute_result"
    }
   ],
   "source": [
    "vulture_info_df.columns"
   ]
  },
  {
   "cell_type": "code",
   "execution_count": 16,
   "metadata": {},
   "outputs": [
    {
     "data": {
      "text/html": [
       "<div>\n",
       "<style scoped>\n",
       "    .dataframe tbody tr th:only-of-type {\n",
       "        vertical-align: middle;\n",
       "    }\n",
       "\n",
       "    .dataframe tbody tr th {\n",
       "        vertical-align: top;\n",
       "    }\n",
       "\n",
       "    .dataframe thead th {\n",
       "        text-align: right;\n",
       "    }\n",
       "</style>\n",
       "<table border=\"1\" class=\"dataframe\">\n",
       "  <thead>\n",
       "    <tr style=\"text-align: right;\">\n",
       "      <th></th>\n",
       "      <th>tag-id</th>\n",
       "      <th>animal-id</th>\n",
       "      <th>animal-taxon</th>\n",
       "      <th>deploy-on-date</th>\n",
       "      <th>deploy-off-date</th>\n",
       "      <th>animal-comments</th>\n",
       "      <th>animal-life-stage</th>\n",
       "      <th>animal-mass</th>\n",
       "      <th>deployment-comments</th>\n",
       "      <th>study-site</th>\n",
       "    </tr>\n",
       "  </thead>\n",
       "  <tbody>\n",
       "    <tr>\n",
       "      <th>0</th>\n",
       "      <td>42500</td>\n",
       "      <td>Butterball</td>\n",
       "      <td>Cathartes aura</td>\n",
       "      <td>2003-11-14 16:00:00.000</td>\n",
       "      <td>2004-03-14 20:00:01.000</td>\n",
       "      <td>migratory</td>\n",
       "      <td>adult</td>\n",
       "      <td>2372.0</td>\n",
       "      <td>trapped in Pennsylvania using padded-leg hold ...</td>\n",
       "      <td>East Coast of North America</td>\n",
       "    </tr>\n",
       "  </tbody>\n",
       "</table>\n",
       "</div>"
      ],
      "text/plain": [
       "   tag-id   animal-id    animal-taxon           deploy-on-date  \\\n",
       "0   42500  Butterball  Cathartes aura  2003-11-14 16:00:00.000   \n",
       "\n",
       "           deploy-off-date animal-comments animal-life-stage  animal-mass  \\\n",
       "0  2004-03-14 20:00:01.000       migratory             adult       2372.0   \n",
       "\n",
       "                                 deployment-comments  \\\n",
       "0  trapped in Pennsylvania using padded-leg hold ...   \n",
       "\n",
       "                    study-site  \n",
       "0  East Coast of North America  "
      ]
     },
     "execution_count": 16,
     "metadata": {},
     "output_type": "execute_result"
    }
   ],
   "source": [
    "# Select columns \n",
    "new_vulture_info_df = vulture_info_df[['tag-id', 'animal-id', 'animal-taxon', 'deploy-on-date',\n",
    "       'deploy-off-date', 'animal-comments', 'animal-life-stage',\n",
    "       'animal-mass',  'deployment-comments',\n",
    "        'study-site']].copy()\n",
    "new_vulture_info_df.head(1)"
   ]
  },
  {
   "cell_type": "code",
   "execution_count": 17,
   "metadata": {},
   "outputs": [
    {
     "data": {
      "text/plain": [
       "tag-id                 19\n",
       "animal-id              19\n",
       "animal-taxon           19\n",
       "deploy-on-date         19\n",
       "deploy-off-date        19\n",
       "animal-comments        19\n",
       "animal-life-stage      19\n",
       "animal-mass            12\n",
       "deployment-comments    19\n",
       "study-site             19\n",
       "dtype: int64"
      ]
     },
     "execution_count": 17,
     "metadata": {},
     "output_type": "execute_result"
    }
   ],
   "source": [
    "new_vulture_info_df.count()"
   ]
  },
  {
   "cell_type": "code",
   "execution_count": 18,
   "metadata": {},
   "outputs": [],
   "source": [
    "new_vulture_info_df.to_sql(name='vulture_detail', con=engine, if_exists='replace', index=False)"
   ]
  },
  {
   "cell_type": "markdown",
   "metadata": {},
   "source": [
    "### Confirm data has been added by querying\n",
    "* NOTE: can also check using pgAdmin"
   ]
  },
  {
   "cell_type": "code",
   "execution_count": null,
   "metadata": {},
   "outputs": [
    {
     "data": {
      "text/html": [
       "<div>\n",
       "<style scoped>\n",
       "    .dataframe tbody tr th:only-of-type {\n",
       "        vertical-align: middle;\n",
       "    }\n",
       "\n",
       "    .dataframe tbody tr th {\n",
       "        vertical-align: top;\n",
       "    }\n",
       "\n",
       "    .dataframe thead th {\n",
       "        text-align: right;\n",
       "    }\n",
       "</style>\n",
       "<table border=\"1\" class=\"dataframe\">\n",
       "  <thead>\n",
       "    <tr style=\"text-align: right;\">\n",
       "      <th></th>\n",
       "      <th>event-id</th>\n",
       "      <th>timestamp</th>\n",
       "      <th>location-long</th>\n",
       "      <th>location-lat</th>\n",
       "      <th>individual-taxon-canonical-name</th>\n",
       "      <th>tag-local-identifier</th>\n",
       "      <th>animal-id</th>\n",
       "    </tr>\n",
       "  </thead>\n",
       "  <tbody>\n",
       "    <tr>\n",
       "      <th>0</th>\n",
       "      <td>283203879</td>\n",
       "      <td>2003-11-14 16:00:00.000</td>\n",
       "      <td>-75.39717</td>\n",
       "      <td>40.48933</td>\n",
       "      <td>Cathartes aura</td>\n",
       "      <td>42500</td>\n",
       "      <td>Butterball</td>\n",
       "    </tr>\n",
       "    <tr>\n",
       "      <th>1</th>\n",
       "      <td>283203880</td>\n",
       "      <td>2003-11-14 17:00:00.000</td>\n",
       "      <td>-75.39717</td>\n",
       "      <td>40.48933</td>\n",
       "      <td>Cathartes aura</td>\n",
       "      <td>42500</td>\n",
       "      <td>Butterball</td>\n",
       "    </tr>\n",
       "    <tr>\n",
       "      <th>2</th>\n",
       "      <td>283203881</td>\n",
       "      <td>2003-11-14 18:00:00.000</td>\n",
       "      <td>-75.33317</td>\n",
       "      <td>40.32467</td>\n",
       "      <td>Cathartes aura</td>\n",
       "      <td>42500</td>\n",
       "      <td>Butterball</td>\n",
       "    </tr>\n",
       "    <tr>\n",
       "      <th>3</th>\n",
       "      <td>283203882</td>\n",
       "      <td>2003-11-14 19:00:00.000</td>\n",
       "      <td>-75.35617</td>\n",
       "      <td>40.33983</td>\n",
       "      <td>Cathartes aura</td>\n",
       "      <td>42500</td>\n",
       "      <td>Butterball</td>\n",
       "    </tr>\n",
       "    <tr>\n",
       "      <th>4</th>\n",
       "      <td>283203883</td>\n",
       "      <td>2003-11-14 20:00:00.000</td>\n",
       "      <td>-75.42650</td>\n",
       "      <td>40.31550</td>\n",
       "      <td>Cathartes aura</td>\n",
       "      <td>42500</td>\n",
       "      <td>Butterball</td>\n",
       "    </tr>\n",
       "  </tbody>\n",
       "</table>\n",
       "</div>"
      ],
      "text/plain": [
       "    event-id                timestamp  location-long  location-lat  \\\n",
       "0  283203879  2003-11-14 16:00:00.000      -75.39717      40.48933   \n",
       "1  283203880  2003-11-14 17:00:00.000      -75.39717      40.48933   \n",
       "2  283203881  2003-11-14 18:00:00.000      -75.33317      40.32467   \n",
       "3  283203882  2003-11-14 19:00:00.000      -75.35617      40.33983   \n",
       "4  283203883  2003-11-14 20:00:00.000      -75.42650      40.31550   \n",
       "\n",
       "  individual-taxon-canonical-name  tag-local-identifier   animal-id  \n",
       "0                  Cathartes aura                 42500  Butterball  \n",
       "1                  Cathartes aura                 42500  Butterball  \n",
       "2                  Cathartes aura                 42500  Butterball  \n",
       "3                  Cathartes aura                 42500  Butterball  \n",
       "4                  Cathartes aura                 42500  Butterball  "
      ]
     },
     "execution_count": 19,
     "metadata": {},
     "output_type": "execute_result"
    }
   ],
   "source": [
    "pd.read_sql_query('select * from migration_paths', con=engine).head()"
   ]
  },
  {
   "cell_type": "code",
   "execution_count": null,
   "metadata": {},
   "outputs": [
    {
     "data": {
      "text/html": [
       "<div>\n",
       "<style scoped>\n",
       "    .dataframe tbody tr th:only-of-type {\n",
       "        vertical-align: middle;\n",
       "    }\n",
       "\n",
       "    .dataframe tbody tr th {\n",
       "        vertical-align: top;\n",
       "    }\n",
       "\n",
       "    .dataframe thead th {\n",
       "        text-align: right;\n",
       "    }\n",
       "</style>\n",
       "<table border=\"1\" class=\"dataframe\">\n",
       "  <thead>\n",
       "    <tr style=\"text-align: right;\">\n",
       "      <th></th>\n",
       "      <th>tag-id</th>\n",
       "      <th>animal-id</th>\n",
       "      <th>animal-taxon</th>\n",
       "      <th>deploy-on-date</th>\n",
       "      <th>deploy-off-date</th>\n",
       "      <th>animal-comments</th>\n",
       "      <th>animal-life-stage</th>\n",
       "      <th>animal-mass</th>\n",
       "      <th>deployment-comments</th>\n",
       "      <th>study-site</th>\n",
       "    </tr>\n",
       "  </thead>\n",
       "  <tbody>\n",
       "    <tr>\n",
       "      <th>0</th>\n",
       "      <td>42500</td>\n",
       "      <td>Butterball</td>\n",
       "      <td>Cathartes aura</td>\n",
       "      <td>2003-11-14 16:00:00.000</td>\n",
       "      <td>2004-03-14 20:00:01.000</td>\n",
       "      <td>migratory</td>\n",
       "      <td>adult</td>\n",
       "      <td>2372.0</td>\n",
       "      <td>trapped in Pennsylvania using padded-leg hold ...</td>\n",
       "      <td>East Coast of North America</td>\n",
       "    </tr>\n",
       "    <tr>\n",
       "      <th>1</th>\n",
       "      <td>52067</td>\n",
       "      <td>Irma</td>\n",
       "      <td>Cathartes aura</td>\n",
       "      <td>2004-09-06 17:00:00.000</td>\n",
       "      <td>2013-03-18 22:00:01.000</td>\n",
       "      <td>non-migratory</td>\n",
       "      <td>adult</td>\n",
       "      <td>2012.0</td>\n",
       "      <td>trapped in Pennsylvania using padded-leg hold ...</td>\n",
       "      <td>East Coast of North America</td>\n",
       "    </tr>\n",
       "    <tr>\n",
       "      <th>2</th>\n",
       "      <td>42500</td>\n",
       "      <td>Schaumboch</td>\n",
       "      <td>Cathartes aura</td>\n",
       "      <td>2004-10-08 15:00:00.000</td>\n",
       "      <td>2006-03-29 17:00:01.000</td>\n",
       "      <td>migratory</td>\n",
       "      <td>adult</td>\n",
       "      <td>1951.0</td>\n",
       "      <td>trapped in Pennsylvania using padded-leg hold ...</td>\n",
       "      <td>East Coast of North America</td>\n",
       "    </tr>\n",
       "    <tr>\n",
       "      <th>3</th>\n",
       "      <td>52069</td>\n",
       "      <td>Disney</td>\n",
       "      <td>Cathartes aura</td>\n",
       "      <td>2004-10-11 14:00:00.000</td>\n",
       "      <td>2011-10-18 23:00:01.000</td>\n",
       "      <td>migratory</td>\n",
       "      <td>adult</td>\n",
       "      <td>2108.0</td>\n",
       "      <td>trapped in Pennsylvania using padded-leg hold ...</td>\n",
       "      <td>East Coast of North America</td>\n",
       "    </tr>\n",
       "    <tr>\n",
       "      <th>4</th>\n",
       "      <td>57954</td>\n",
       "      <td>Prado</td>\n",
       "      <td>Cathartes aura</td>\n",
       "      <td>2005-11-02 15:00:00.000</td>\n",
       "      <td>2009-07-07 00:00:01.000</td>\n",
       "      <td>non-migratory</td>\n",
       "      <td>adult</td>\n",
       "      <td>1710.0</td>\n",
       "      <td>trapped in California using walk-in traps</td>\n",
       "      <td>West Coast of North America</td>\n",
       "    </tr>\n",
       "  </tbody>\n",
       "</table>\n",
       "</div>"
      ],
      "text/plain": [
       "   tag-id   animal-id    animal-taxon           deploy-on-date  \\\n",
       "0   42500  Butterball  Cathartes aura  2003-11-14 16:00:00.000   \n",
       "1   52067        Irma  Cathartes aura  2004-09-06 17:00:00.000   \n",
       "2   42500  Schaumboch  Cathartes aura  2004-10-08 15:00:00.000   \n",
       "3   52069      Disney  Cathartes aura  2004-10-11 14:00:00.000   \n",
       "4   57954       Prado  Cathartes aura  2005-11-02 15:00:00.000   \n",
       "\n",
       "           deploy-off-date animal-comments animal-life-stage  animal-mass  \\\n",
       "0  2004-03-14 20:00:01.000       migratory             adult       2372.0   \n",
       "1  2013-03-18 22:00:01.000   non-migratory             adult       2012.0   \n",
       "2  2006-03-29 17:00:01.000       migratory             adult       1951.0   \n",
       "3  2011-10-18 23:00:01.000       migratory             adult       2108.0   \n",
       "4  2009-07-07 00:00:01.000   non-migratory             adult       1710.0   \n",
       "\n",
       "                                 deployment-comments  \\\n",
       "0  trapped in Pennsylvania using padded-leg hold ...   \n",
       "1  trapped in Pennsylvania using padded-leg hold ...   \n",
       "2  trapped in Pennsylvania using padded-leg hold ...   \n",
       "3  trapped in Pennsylvania using padded-leg hold ...   \n",
       "4          trapped in California using walk-in traps   \n",
       "\n",
       "                    study-site  \n",
       "0  East Coast of North America  \n",
       "1  East Coast of North America  \n",
       "2  East Coast of North America  \n",
       "3  East Coast of North America  \n",
       "4  West Coast of North America  "
      ]
     },
     "execution_count": 20,
     "metadata": {},
     "output_type": "execute_result"
    }
   ],
   "source": [
    "pd.read_sql_query('select * from vulture_detail', con=engine).head()"
   ]
  },
  {
   "cell_type": "code",
   "execution_count": null,
   "metadata": {},
   "outputs": [
    {
     "data": {
      "text/plain": [
       "['city_data',\n",
       " 'city_df',\n",
       " 'counts_per_bird',\n",
       " 'migration_join',\n",
       " 'migration_paths',\n",
       " 'vulture_detail']"
      ]
     },
     "execution_count": 21,
     "metadata": {},
     "output_type": "execute_result"
    }
   ],
   "source": [
    "engine.table_names()"
   ]
  },
  {
   "cell_type": "code",
   "execution_count": null,
   "metadata": {},
   "outputs": [],
   "source": [
    "conn = engine.connect()\n",
    "\n",
    "from sqlalchemy.orm import Session\n",
    "from sqlalchemy.ext.declarative import declarative_base\n",
    "Base = declarative_base()\n",
    "\n",
    "session = Session(bind=engine)\n",
    "Base.metadata.create_all(engine)\n",
    "session.commit()"
   ]
  },
  {
   "cell_type": "code",
   "execution_count": null,
   "metadata": {},
   "outputs": [
    {
     "data": {
      "text/html": [
       "<div>\n",
       "<style scoped>\n",
       "    .dataframe tbody tr th:only-of-type {\n",
       "        vertical-align: middle;\n",
       "    }\n",
       "\n",
       "    .dataframe tbody tr th {\n",
       "        vertical-align: top;\n",
       "    }\n",
       "\n",
       "    .dataframe thead th {\n",
       "        text-align: right;\n",
       "    }\n",
       "</style>\n",
       "<table border=\"1\" class=\"dataframe\">\n",
       "  <thead>\n",
       "    <tr style=\"text-align: right;\">\n",
       "      <th></th>\n",
       "      <th>event-id</th>\n",
       "      <th>timestamp</th>\n",
       "      <th>location-long</th>\n",
       "      <th>location-lat</th>\n",
       "      <th>individual-taxon-canonical-name</th>\n",
       "      <th>tag-local-identifier</th>\n",
       "      <th>animal-id</th>\n",
       "    </tr>\n",
       "  </thead>\n",
       "  <tbody>\n",
       "    <tr>\n",
       "      <th>0</th>\n",
       "      <td>283203879</td>\n",
       "      <td>2003-11-14 16:00:00.000</td>\n",
       "      <td>-75.39717</td>\n",
       "      <td>40.48933</td>\n",
       "      <td>Cathartes aura</td>\n",
       "      <td>42500</td>\n",
       "      <td>Butterball</td>\n",
       "    </tr>\n",
       "    <tr>\n",
       "      <th>1</th>\n",
       "      <td>283203880</td>\n",
       "      <td>2003-11-14 17:00:00.000</td>\n",
       "      <td>-75.39717</td>\n",
       "      <td>40.48933</td>\n",
       "      <td>Cathartes aura</td>\n",
       "      <td>42500</td>\n",
       "      <td>Butterball</td>\n",
       "    </tr>\n",
       "    <tr>\n",
       "      <th>2</th>\n",
       "      <td>283203881</td>\n",
       "      <td>2003-11-14 18:00:00.000</td>\n",
       "      <td>-75.33317</td>\n",
       "      <td>40.32467</td>\n",
       "      <td>Cathartes aura</td>\n",
       "      <td>42500</td>\n",
       "      <td>Butterball</td>\n",
       "    </tr>\n",
       "    <tr>\n",
       "      <th>3</th>\n",
       "      <td>283203882</td>\n",
       "      <td>2003-11-14 19:00:00.000</td>\n",
       "      <td>-75.35617</td>\n",
       "      <td>40.33983</td>\n",
       "      <td>Cathartes aura</td>\n",
       "      <td>42500</td>\n",
       "      <td>Butterball</td>\n",
       "    </tr>\n",
       "    <tr>\n",
       "      <th>4</th>\n",
       "      <td>283203883</td>\n",
       "      <td>2003-11-14 20:00:00.000</td>\n",
       "      <td>-75.42650</td>\n",
       "      <td>40.31550</td>\n",
       "      <td>Cathartes aura</td>\n",
       "      <td>42500</td>\n",
       "      <td>Butterball</td>\n",
       "    </tr>\n",
       "  </tbody>\n",
       "</table>\n",
       "</div>"
      ],
      "text/plain": [
       "    event-id                timestamp  location-long  location-lat  \\\n",
       "0  283203879  2003-11-14 16:00:00.000      -75.39717      40.48933   \n",
       "1  283203880  2003-11-14 17:00:00.000      -75.39717      40.48933   \n",
       "2  283203881  2003-11-14 18:00:00.000      -75.33317      40.32467   \n",
       "3  283203882  2003-11-14 19:00:00.000      -75.35617      40.33983   \n",
       "4  283203883  2003-11-14 20:00:00.000      -75.42650      40.31550   \n",
       "\n",
       "  individual-taxon-canonical-name  tag-local-identifier   animal-id  \n",
       "0                  Cathartes aura                 42500  Butterball  \n",
       "1                  Cathartes aura                 42500  Butterball  \n",
       "2                  Cathartes aura                 42500  Butterball  \n",
       "3                  Cathartes aura                 42500  Butterball  \n",
       "4                  Cathartes aura                 42500  Butterball  "
      ]
     },
     "execution_count": 23,
     "metadata": {},
     "output_type": "execute_result"
    }
   ],
   "source": [
    "new_vulture_data_df.head()"
   ]
  },
  {
   "cell_type": "code",
   "execution_count": null,
   "metadata": {},
   "outputs": [
    {
     "data": {
      "text/html": [
       "<div>\n",
       "<style scoped>\n",
       "    .dataframe tbody tr th:only-of-type {\n",
       "        vertical-align: middle;\n",
       "    }\n",
       "\n",
       "    .dataframe tbody tr th {\n",
       "        vertical-align: top;\n",
       "    }\n",
       "\n",
       "    .dataframe thead th {\n",
       "        text-align: right;\n",
       "    }\n",
       "</style>\n",
       "<table border=\"1\" class=\"dataframe\">\n",
       "  <thead>\n",
       "    <tr style=\"text-align: right;\">\n",
       "      <th></th>\n",
       "      <th>location-lat</th>\n",
       "      <th>location-long</th>\n",
       "    </tr>\n",
       "  </thead>\n",
       "  <tbody>\n",
       "    <tr>\n",
       "      <th>0</th>\n",
       "      <td>40.48933</td>\n",
       "      <td>-75.39717</td>\n",
       "    </tr>\n",
       "    <tr>\n",
       "      <th>1</th>\n",
       "      <td>40.48933</td>\n",
       "      <td>-75.39717</td>\n",
       "    </tr>\n",
       "    <tr>\n",
       "      <th>2</th>\n",
       "      <td>40.32467</td>\n",
       "      <td>-75.33317</td>\n",
       "    </tr>\n",
       "    <tr>\n",
       "      <th>3</th>\n",
       "      <td>40.33983</td>\n",
       "      <td>-75.35617</td>\n",
       "    </tr>\n",
       "    <tr>\n",
       "      <th>4</th>\n",
       "      <td>40.31550</td>\n",
       "      <td>-75.42650</td>\n",
       "    </tr>\n",
       "  </tbody>\n",
       "</table>\n",
       "</div>"
      ],
      "text/plain": [
       "   location-lat  location-long\n",
       "0      40.48933      -75.39717\n",
       "1      40.48933      -75.39717\n",
       "2      40.32467      -75.33317\n",
       "3      40.33983      -75.35617\n",
       "4      40.31550      -75.42650"
      ]
     },
     "execution_count": 24,
     "metadata": {},
     "output_type": "execute_result"
    }
   ],
   "source": [
    "vulture_city = new_vulture_data_df[['location-lat', 'location-long']]\n",
    "vulture_city.head()"
   ]
  },
  {
   "cell_type": "markdown",
   "metadata": {},
   "source": [
    "# list of cities"
   ]
  },
  {
   "cell_type": "code",
   "execution_count": null,
   "metadata": {},
   "outputs": [
    {
     "data": {
      "text/plain": [
       "list"
      ]
     },
     "execution_count": 25,
     "metadata": {},
     "output_type": "execute_result"
    }
   ],
   "source": [
    "lats = new_vulture_data_df['location-lat'].values.tolist()\n",
    "lngs = new_vulture_data_df['location-long'].values.tolist()\n",
    "type(lngs)"
   ]
  },
  {
   "cell_type": "code",
   "execution_count": null,
   "metadata": {},
   "outputs": [
    {
     "name": "stdout",
     "output_type": "stream",
     "text": [
      "(31.75567, -82.64317)\n"
     ]
    }
   ],
   "source": [
    "lat_lngs = []\n",
    "cities = []\n",
    "lat_lngs = zip(lats, lngs)\n",
    "lat_lngs_s = set(lat_lngs)\n",
    "lat_lngs_a = list(lat_lngs_s)\n",
    "print(lat_lngs_a[0])"
   ]
  },
  {
   "cell_type": "code",
   "execution_count": null,
   "metadata": {},
   "outputs": [
    {
     "name": "stdout",
     "output_type": "stream",
     "text": [
      "(31.75567, -82.64317)\n",
      "31.75567\n"
     ]
    }
   ],
   "source": [
    "ll_arraycut = lat_lngs_a[::500]\n",
    "print(ll_arraycut[0])\n",
    "print(ll_arraycut[0][0])"
   ]
  },
  {
   "cell_type": "code",
   "execution_count": null,
   "metadata": {},
   "outputs": [
    {
     "name": "stdout",
     "output_type": "stream",
     "text": [
      "'Could not find information'\n",
      "'Could not find information'\n",
      "'Could not find information'\n",
      "'Could not find information'\n",
      "'Could not find information'\n",
      "'Could not find information'\n",
      "'Could not find information'\n",
      "'Could not find information'\n",
      "                      cities                               1          2     3\n",
      "0                     Denton                              GA        USA  None\n",
      "1                  Weatherly                              PA        USA  None\n",
      "2                       Fame                              WV        USA  None\n",
      "3                   Leoville                              SK     Canada  None\n",
      "4                  Bethlehem                              PA        USA  None\n",
      "5                    Anaheim                              CA        USA  None\n",
      "6               Spring Creek                              SD        USA  None\n",
      "7                     Zigler                              WV        USA  None\n",
      "8               Ataliva Roca                        La Pampa  Argentina  None\n",
      "9             East Cathlamet                              WA        USA  None\n",
      "10                    Bamepa                            Sin.     Mexico  None\n",
      "11                  Leoville                              SK     Canada  None\n",
      "12                    Borden                              SK     Canada  None\n",
      "13                   Glendon                              PA        USA  None\n",
      "14                  Leoville                              SK     Canada  None\n",
      "15  Porto Quinze de Novembro  Governador Jorge Teixeira - RO     Brazil  None\n",
      "16                   Numidia                              PA        USA  None\n",
      "17                Hinesville                              GA        USA  None\n",
      "18               Cherry Hill                              SC        USA  None\n",
      "19                     Choro                       Venezuela       None  None\n"
     ]
    }
   ],
   "source": [
    "add_array = []\n",
    "for i in range(200):\n",
    "    target_lat = ll_arraycut[i][0]\n",
    "    target_lng = ll_arraycut[i][1]\n",
    "    base_url = ('https://maps.googleapis.com/maps/api/geocode/json?latlng={0},{1}&key={2}').format(target_lat, target_lng, gkey)\n",
    "    geo_data = requests.get(base_url).json()\n",
    "    \n",
    "    try:\n",
    "        res = geo_data[\"plus_code\"][\"compound_code\"]\n",
    "        res_arr = res.split(\", \")\n",
    "        add_array.append(res_arr)\n",
    "    except (KeyError, IndexError):\n",
    "        pprint(\"Could not find information\")\n",
    "\n",
    "city_arr = pd.DataFrame(add_array) \n",
    "city_arr[0] = city_arr[0].map(lambda x: str(x)[8:])\n",
    "city_arr = city_arr.rename(columns={0: 'cities'})\n",
    "# city_array = new_array.loc[:, '1':'3']\n",
    "print(city_arr.head(20))"
   ]
  },
  {
   "cell_type": "code",
   "execution_count": null,
   "metadata": {},
   "outputs": [
    {
     "name": "stdout",
     "output_type": "stream",
     "text": [
      "                      cities Max Temp\n",
      "0                     Denton         \n",
      "1                  Weatherly         \n",
      "2                       Fame         \n",
      "3                   Leoville         \n",
      "4                  Bethlehem         \n",
      "5                    Anaheim         \n",
      "6               Spring Creek         \n",
      "7                     Zigler         \n",
      "8               Ataliva Roca         \n",
      "9             East Cathlamet         \n",
      "10                    Bamepa         \n",
      "11                  Leoville         \n",
      "12                    Borden         \n",
      "13                   Glendon         \n",
      "14                  Leoville         \n",
      "15  Porto Quinze de Novembro         \n",
      "16                   Numidia         \n",
      "17                Hinesville         \n",
      "18               Cherry Hill         \n",
      "19                     Choro         \n"
     ]
    }
   ],
   "source": [
    "city_arr['Max Temp'] = \"\"\n",
    "# print(city_arr)\n",
    "city_df = city_arr[[\"cities\", \"Max Temp\"]]\n",
    "print(city_df.head(20))"
   ]
  },
  {
   "cell_type": "code",
   "execution_count": null,
   "metadata": {},
   "outputs": [
    {
     "name": "stdout",
     "output_type": "stream",
     "text": [
      "'Could not find information'\n",
      "'Could not find information'\n",
      "'Could not find information'\n",
      "'Could not find information'\n",
      "'Could not find information'\n",
      "'Could not find information'\n",
      "'Could not find information'\n",
      "'Could not find information'\n",
      "'Could not find information'\n",
      "'Could not find information'\n",
      "'Could not find information'\n",
      "'Could not find information'\n",
      "'Could not find information'\n",
      "'Could not find information'\n",
      "'Could not find information'\n",
      "'Could not find information'\n",
      "'Could not find information'\n",
      "'Could not find information'\n",
      "'Could not find information'\n",
      "'Could not find information'\n",
      "'Could not find information'\n",
      "'Could not find information'\n",
      "'Could not find information'\n",
      "'Could not find information'\n",
      "'Could not find information'\n",
      "'Could not find information'\n",
      "'Could not find information'\n",
      "'Could not find information'\n",
      "'Could not find information'\n",
      "'Could not find information'\n",
      "'Could not find information'\n",
      "'Could not find information'\n",
      "'Could not find information'\n",
      "'Could not find information'\n",
      "'Could not find information'\n",
      "'Could not find information'\n",
      "'Could not find information'\n",
      "'Could not find information'\n",
      "'Could not find information'\n",
      "'Could not find information'\n",
      "'Could not find information'\n",
      "'Could not find information'\n",
      "'Could not find information'\n",
      "'Could not find information'\n",
      "'Could not find information'\n",
      "'Could not find information'\n",
      "'Could not find information'\n",
      "'Could not find information'\n",
      "'Could not find information'\n",
      "'Could not find information'\n",
      "'Could not find information'\n",
      "'Could not find information'\n",
      "'Could not find information'\n",
      "'Could not find information'\n",
      "'Could not find information'\n",
      "'Could not find information'\n",
      "'Could not find information'\n",
      "'Could not find information'\n"
     ]
    }
   ],
   "source": [
    "limit = len(city_df)/50\n",
    "set_var = 1\n",
    "data_count = 50\n",
    "dummy_array = [];\n",
    "\n",
    "base_url = \"http://api.openweathermap.org/data/2.5/weather?\"\n",
    "params = {'appid': api_key, 'units': 'Imperial'}\n",
    "\n",
    "for index, row in city_df.iterrows():\n",
    "    if len(dummy_array) < data_count and set_var <= math.ceil(limit):\n",
    "        city_row = row[\"cities\"]\n",
    "        dummy_array.append(city_row)\n",
    "       \n",
    "        params['q'] = city_row\n",
    "\n",
    "        response = requests.get(base_url, params=params).json()\n",
    "    \n",
    "    else:\n",
    "        set_var = set_var + 1\n",
    "        data_count = data_count + 49\n",
    "        time.sleep(60)\n",
    "\n",
    "    try:\n",
    "        city_df.loc[index, 'Max Temp'] = response['main']['temp_max']\n",
    "        \n",
    "    except (KeyError, IndexError):\n",
    "        pprint(\"Could not find information\")"
   ]
  },
  {
   "cell_type": "code",
   "execution_count": null,
   "metadata": {},
   "outputs": [
    {
     "data": {
      "text/html": [
       "<div>\n",
       "<style scoped>\n",
       "    .dataframe tbody tr th:only-of-type {\n",
       "        vertical-align: middle;\n",
       "    }\n",
       "\n",
       "    .dataframe tbody tr th {\n",
       "        vertical-align: top;\n",
       "    }\n",
       "\n",
       "    .dataframe thead th {\n",
       "        text-align: right;\n",
       "    }\n",
       "</style>\n",
       "<table border=\"1\" class=\"dataframe\">\n",
       "  <thead>\n",
       "    <tr style=\"text-align: right;\">\n",
       "      <th></th>\n",
       "      <th>cities</th>\n",
       "      <th>Max Temp</th>\n",
       "    </tr>\n",
       "  </thead>\n",
       "  <tbody>\n",
       "    <tr>\n",
       "      <th>0</th>\n",
       "      <td>Denton</td>\n",
       "      <td>79</td>\n",
       "    </tr>\n",
       "    <tr>\n",
       "      <th>1</th>\n",
       "      <td>Weatherly</td>\n",
       "      <td>53.01</td>\n",
       "    </tr>\n",
       "    <tr>\n",
       "      <th>2</th>\n",
       "      <td>Fame</td>\n",
       "      <td>73.4</td>\n",
       "    </tr>\n",
       "    <tr>\n",
       "      <th>3</th>\n",
       "      <td>Leoville</td>\n",
       "      <td>50.71</td>\n",
       "    </tr>\n",
       "    <tr>\n",
       "      <th>4</th>\n",
       "      <td>Bethlehem</td>\n",
       "      <td>54</td>\n",
       "    </tr>\n",
       "    <tr>\n",
       "      <th>5</th>\n",
       "      <td>Anaheim</td>\n",
       "      <td>64.4</td>\n",
       "    </tr>\n",
       "    <tr>\n",
       "      <th>6</th>\n",
       "      <td>Spring Creek</td>\n",
       "      <td>61</td>\n",
       "    </tr>\n",
       "    <tr>\n",
       "      <th>7</th>\n",
       "      <td>Zigler</td>\n",
       "      <td>53.6</td>\n",
       "    </tr>\n",
       "    <tr>\n",
       "      <th>8</th>\n",
       "      <td>Ataliva Roca</td>\n",
       "      <td></td>\n",
       "    </tr>\n",
       "    <tr>\n",
       "      <th>9</th>\n",
       "      <td>East Cathlamet</td>\n",
       "      <td>53.6</td>\n",
       "    </tr>\n",
       "    <tr>\n",
       "      <th>10</th>\n",
       "      <td>Bamepa</td>\n",
       "      <td></td>\n",
       "    </tr>\n",
       "    <tr>\n",
       "      <th>11</th>\n",
       "      <td>Leoville</td>\n",
       "      <td>50.71</td>\n",
       "    </tr>\n",
       "    <tr>\n",
       "      <th>12</th>\n",
       "      <td>Borden</td>\n",
       "      <td>48.99</td>\n",
       "    </tr>\n",
       "    <tr>\n",
       "      <th>13</th>\n",
       "      <td>Glendon</td>\n",
       "      <td>48.2</td>\n",
       "    </tr>\n",
       "    <tr>\n",
       "      <th>14</th>\n",
       "      <td>Leoville</td>\n",
       "      <td>50.71</td>\n",
       "    </tr>\n",
       "    <tr>\n",
       "      <th>15</th>\n",
       "      <td>Porto Quinze de Novembro</td>\n",
       "      <td></td>\n",
       "    </tr>\n",
       "    <tr>\n",
       "      <th>16</th>\n",
       "      <td>Numidia</td>\n",
       "      <td>54</td>\n",
       "    </tr>\n",
       "    <tr>\n",
       "      <th>17</th>\n",
       "      <td>Hinesville</td>\n",
       "      <td>73.4</td>\n",
       "    </tr>\n",
       "    <tr>\n",
       "      <th>18</th>\n",
       "      <td>Cherry Hill</td>\n",
       "      <td>54</td>\n",
       "    </tr>\n",
       "    <tr>\n",
       "      <th>19</th>\n",
       "      <td>Choro</td>\n",
       "      <td>62.6</td>\n",
       "    </tr>\n",
       "    <tr>\n",
       "      <th>20</th>\n",
       "      <td>Zigler</td>\n",
       "      <td>53.6</td>\n",
       "    </tr>\n",
       "    <tr>\n",
       "      <th>21</th>\n",
       "      <td>Southwest Jacksonville</td>\n",
       "      <td></td>\n",
       "    </tr>\n",
       "    <tr>\n",
       "      <th>22</th>\n",
       "      <td>Pohatcong</td>\n",
       "      <td></td>\n",
       "    </tr>\n",
       "    <tr>\n",
       "      <th>23</th>\n",
       "      <td>Southside</td>\n",
       "      <td>68</td>\n",
       "    </tr>\n",
       "    <tr>\n",
       "      <th>24</th>\n",
       "      <td>Bamepa</td>\n",
       "      <td></td>\n",
       "    </tr>\n",
       "    <tr>\n",
       "      <th>25</th>\n",
       "      <td>Ranger</td>\n",
       "      <td>73.99</td>\n",
       "    </tr>\n",
       "    <tr>\n",
       "      <th>26</th>\n",
       "      <td>Tyee</td>\n",
       "      <td></td>\n",
       "    </tr>\n",
       "    <tr>\n",
       "      <th>27</th>\n",
       "      <td>Freeland</td>\n",
       "      <td>70</td>\n",
       "    </tr>\n",
       "    <tr>\n",
       "      <th>28</th>\n",
       "      <td>Tepahui</td>\n",
       "      <td></td>\n",
       "    </tr>\n",
       "    <tr>\n",
       "      <th>29</th>\n",
       "      <td>Zigler</td>\n",
       "      <td>53.6</td>\n",
       "    </tr>\n",
       "  </tbody>\n",
       "</table>\n",
       "</div>"
      ],
      "text/plain": [
       "                      cities Max Temp\n",
       "0                     Denton       79\n",
       "1                  Weatherly    53.01\n",
       "2                       Fame     73.4\n",
       "3                   Leoville    50.71\n",
       "4                  Bethlehem       54\n",
       "5                    Anaheim     64.4\n",
       "6               Spring Creek       61\n",
       "7                     Zigler     53.6\n",
       "8               Ataliva Roca         \n",
       "9             East Cathlamet     53.6\n",
       "10                    Bamepa         \n",
       "11                  Leoville    50.71\n",
       "12                    Borden    48.99\n",
       "13                   Glendon     48.2\n",
       "14                  Leoville    50.71\n",
       "15  Porto Quinze de Novembro         \n",
       "16                   Numidia       54\n",
       "17                Hinesville     73.4\n",
       "18               Cherry Hill       54\n",
       "19                     Choro     62.6\n",
       "20                    Zigler     53.6\n",
       "21    Southwest Jacksonville         \n",
       "22                 Pohatcong         \n",
       "23                 Southside       68\n",
       "24                    Bamepa         \n",
       "25                    Ranger    73.99\n",
       "26                      Tyee         \n",
       "27                  Freeland       70\n",
       "28                   Tepahui         \n",
       "29                    Zigler     53.6"
      ]
     },
     "execution_count": 31,
     "metadata": {},
     "output_type": "execute_result"
    }
   ],
   "source": [
    "city_df.head(30)"
   ]
  },
  {
   "cell_type": "code",
   "execution_count": null,
   "metadata": {},
   "outputs": [
    {
     "data": {
      "text/html": [
       "<div>\n",
       "<style scoped>\n",
       "    .dataframe tbody tr th:only-of-type {\n",
       "        vertical-align: middle;\n",
       "    }\n",
       "\n",
       "    .dataframe tbody tr th {\n",
       "        vertical-align: top;\n",
       "    }\n",
       "\n",
       "    .dataframe thead th {\n",
       "        text-align: right;\n",
       "    }\n",
       "</style>\n",
       "<table border=\"1\" class=\"dataframe\">\n",
       "  <thead>\n",
       "    <tr style=\"text-align: right;\">\n",
       "      <th></th>\n",
       "      <th>cities</th>\n",
       "      <th>Max Temp</th>\n",
       "    </tr>\n",
       "  </thead>\n",
       "  <tbody>\n",
       "    <tr>\n",
       "      <th>count</th>\n",
       "      <td>192</td>\n",
       "      <td>192</td>\n",
       "    </tr>\n",
       "    <tr>\n",
       "      <th>unique</th>\n",
       "      <td>118</td>\n",
       "      <td>50</td>\n",
       "    </tr>\n",
       "    <tr>\n",
       "      <th>top</th>\n",
       "      <td>Leoville</td>\n",
       "      <td></td>\n",
       "    </tr>\n",
       "    <tr>\n",
       "      <th>freq</th>\n",
       "      <td>10</td>\n",
       "      <td>58</td>\n",
       "    </tr>\n",
       "  </tbody>\n",
       "</table>\n",
       "</div>"
      ],
      "text/plain": [
       "          cities Max Temp\n",
       "count        192      192\n",
       "unique       118       50\n",
       "top     Leoville         \n",
       "freq          10       58"
      ]
     },
     "execution_count": 32,
     "metadata": {},
     "output_type": "execute_result"
    }
   ],
   "source": [
    "\n",
    "city_df.describe()"
   ]
  },
  {
   "cell_type": "raw",
   "metadata": {},
   "source": [
    "city_df.to_sql(name='city_df', con=engine, if_exists='replace', index=False)"
   ]
  },
  {
   "cell_type": "code",
   "execution_count": null,
   "metadata": {},
   "outputs": [],
   "source": [
    "lat_lngs = zip(lats, lngs)\n",
    "\n",
    "# Identify nearest city for each lat, lng combination\n",
    "for lat_lng in lat_lngs:\n",
    "    city = citipy.nearest_city(lat_lng[0], lat_lng[1]).city_name\n",
    "    cities.append(city)"
   ]
  },
  {
   "cell_type": "code",
   "execution_count": null,
   "metadata": {},
   "outputs": [],
   "source": [
    "len(cities)\n",
    "cities[-1]"
   ]
  },
  {
   "cell_type": "code",
   "execution_count": null,
   "metadata": {},
   "outputs": [],
   "source": [
    "cities_citypy = new_vulture_data_df[['event-id', 'location-lat', 'location-long']]\n",
    "cities_citypy[\"cities\"] = pd.DataFrame({\"cities\" : cities})\n",
    "cities_citypy = cities_citypy[['event-id', 'location-lat', 'location-long', 'cities']]\n",
    "cities_citypy.head(30)"
   ]
  },
  {
   "cell_type": "code",
   "execution_count": null,
   "metadata": {},
   "outputs": [],
   "source": [
    "cities_citypy.to_sql(name='city_data', con=engine, if_exists='replace', index=False)"
   ]
  },
  {
   "cell_type": "code",
   "execution_count": null,
   "metadata": {},
   "outputs": [],
   "source": []
  },
  {
   "cell_type": "code",
   "execution_count": null,
   "metadata": {},
   "outputs": [],
   "source": [
    "migration_join = pd.merge(new_vulture_data_df, new_vulture_info_df,  how='left', on='animal-id')\n",
    "migration_join = migration_join.drop(axis = 1, columns=['individual-taxon-canonical-name','tag-id', \n",
    "                                                        'deploy-on-date', 'deploy-off-date', 'deployment-comments',\n",
    "                                                       'study-site'])\n",
    "migration_join.head(10)\n"
   ]
  },
  {
   "cell_type": "code",
   "execution_count": null,
   "metadata": {},
   "outputs": [],
   "source": [
    "counts_per_bird = migration_join.groupby('animal-id').count()['event-id']\n",
    "counts_per_bird"
   ]
  },
  {
   "cell_type": "code",
   "execution_count": null,
   "metadata": {},
   "outputs": [],
   "source": [
    "migration_join.groupby('animal-id').count()['event-id']"
   ]
  },
  {
   "cell_type": "code",
   "execution_count": null,
   "metadata": {},
   "outputs": [],
   "source": [
    "migration_join.describe()"
   ]
  },
  {
   "cell_type": "code",
   "execution_count": null,
   "metadata": {},
   "outputs": [],
   "source": [
    "migration_join.to_sql(name='migration_join', con=engine, if_exists='replace', index=False)\n",
    "counts_per_bird.to_sql(name='counts_per_bird', con=engine, if_exists='replace', index=False)"
   ]
  },
  {
   "cell_type": "code",
   "execution_count": null,
   "metadata": {},
   "outputs": [],
   "source": [
    "session.commit()"
   ]
  },
  {
   "cell_type": "code",
   "execution_count": null,
   "metadata": {},
   "outputs": [],
   "source": [
    "engine.table_names()"
   ]
  },
  {
   "cell_type": "code",
   "execution_count": null,
   "metadata": {},
   "outputs": [],
   "source": []
  }
 ],
 "metadata": {
  "kernelspec": {
   "display_name": "Python 3",
   "language": "python",
   "name": "python3"
  },
  "language_info": {
   "codemirror_mode": {
    "name": "ipython",
    "version": 3
   },
   "file_extension": ".py",
   "mimetype": "text/x-python",
   "name": "python",
   "nbconvert_exporter": "python",
   "pygments_lexer": "ipython3",
   "version": "3.6.7"
  },
  "nteract": {
   "version": "0.12.3"
  }
 },
 "nbformat": 4,
 "nbformat_minor": 2
}
