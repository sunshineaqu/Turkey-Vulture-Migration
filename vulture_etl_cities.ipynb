{
 "cells": [
  {
   "cell_type": "code",
   "execution_count": 1,
   "metadata": {},
   "outputs": [],
   "source": [
    "import pandas as pd\n",
    "from sqlalchemy import create_engine"
   ]
  },
  {
   "cell_type": "markdown",
   "metadata": {
    "slideshow": {
     "slide_type": "-"
    }
   },
   "source": [
    "### Store CSV into DataFrame: Vulture Migration Paths"
   ]
  },
  {
   "cell_type": "code",
   "execution_count": 10,
   "metadata": {},
   "outputs": [
    {
     "data": {
      "text/html": [
       "<div>\n",
       "<style scoped>\n",
       "    .dataframe tbody tr th:only-of-type {\n",
       "        vertical-align: middle;\n",
       "    }\n",
       "\n",
       "    .dataframe tbody tr th {\n",
       "        vertical-align: top;\n",
       "    }\n",
       "\n",
       "    .dataframe thead th {\n",
       "        text-align: right;\n",
       "    }\n",
       "</style>\n",
       "<table border=\"1\" class=\"dataframe\">\n",
       "  <thead>\n",
       "    <tr style=\"text-align: right;\">\n",
       "      <th></th>\n",
       "      <th>event-id</th>\n",
       "      <th>visible</th>\n",
       "      <th>timestamp</th>\n",
       "      <th>location-long</th>\n",
       "      <th>location-lat</th>\n",
       "      <th>manually-marked-outlier</th>\n",
       "      <th>sensor-type</th>\n",
       "      <th>individual-taxon-canonical-name</th>\n",
       "      <th>tag-local-identifier</th>\n",
       "      <th>individual-local-identifier</th>\n",
       "      <th>...</th>\n",
       "      <th>animal-life-stage</th>\n",
       "      <th>animal-mass</th>\n",
       "      <th>attachment-type</th>\n",
       "      <th>deployment-comments</th>\n",
       "      <th>deployment-id</th>\n",
       "      <th>duty-cycle</th>\n",
       "      <th>study-site</th>\n",
       "      <th>tag-manufacturer-name</th>\n",
       "      <th>tag-mass</th>\n",
       "      <th>tag-model</th>\n",
       "    </tr>\n",
       "  </thead>\n",
       "  <tbody>\n",
       "    <tr>\n",
       "      <th>0</th>\n",
       "      <td>283203879</td>\n",
       "      <td>True</td>\n",
       "      <td>2003-11-14 16:00:00.000</td>\n",
       "      <td>-75.39717</td>\n",
       "      <td>40.48933</td>\n",
       "      <td>False</td>\n",
       "      <td>gps</td>\n",
       "      <td>Cathartes aura</td>\n",
       "      <td>42500</td>\n",
       "      <td>Butterball</td>\n",
       "      <td>...</td>\n",
       "      <td>adult</td>\n",
       "      <td>2372.0</td>\n",
       "      <td>harness</td>\n",
       "      <td>trapped in Pennsylvania using padded-leg hold ...</td>\n",
       "      <td>42500-Butterball</td>\n",
       "      <td>1 fix per hour</td>\n",
       "      <td>East Coast of North America</td>\n",
       "      <td>Microwave Telemetry</td>\n",
       "      <td>70</td>\n",
       "      <td>PTT100</td>\n",
       "    </tr>\n",
       "    <tr>\n",
       "      <th>1</th>\n",
       "      <td>283203880</td>\n",
       "      <td>True</td>\n",
       "      <td>2003-11-14 17:00:00.000</td>\n",
       "      <td>-75.39717</td>\n",
       "      <td>40.48933</td>\n",
       "      <td>False</td>\n",
       "      <td>gps</td>\n",
       "      <td>Cathartes aura</td>\n",
       "      <td>42500</td>\n",
       "      <td>Butterball</td>\n",
       "      <td>...</td>\n",
       "      <td>adult</td>\n",
       "      <td>2372.0</td>\n",
       "      <td>harness</td>\n",
       "      <td>trapped in Pennsylvania using padded-leg hold ...</td>\n",
       "      <td>42500-Butterball</td>\n",
       "      <td>1 fix per hour</td>\n",
       "      <td>East Coast of North America</td>\n",
       "      <td>Microwave Telemetry</td>\n",
       "      <td>70</td>\n",
       "      <td>PTT100</td>\n",
       "    </tr>\n",
       "  </tbody>\n",
       "</table>\n",
       "<p>2 rows × 32 columns</p>\n",
       "</div>"
      ],
      "text/plain": [
       "    event-id  visible                timestamp  location-long  location-lat  \\\n",
       "0  283203879     True  2003-11-14 16:00:00.000      -75.39717      40.48933   \n",
       "1  283203880     True  2003-11-14 17:00:00.000      -75.39717      40.48933   \n",
       "\n",
       "   manually-marked-outlier sensor-type individual-taxon-canonical-name  \\\n",
       "0                    False         gps                  Cathartes aura   \n",
       "1                    False         gps                  Cathartes aura   \n",
       "\n",
       "   tag-local-identifier individual-local-identifier    ...     \\\n",
       "0                 42500                  Butterball    ...      \n",
       "1                 42500                  Butterball    ...      \n",
       "\n",
       "  animal-life-stage  animal-mass  attachment-type  \\\n",
       "0             adult       2372.0          harness   \n",
       "1             adult       2372.0          harness   \n",
       "\n",
       "                                 deployment-comments     deployment-id  \\\n",
       "0  trapped in Pennsylvania using padded-leg hold ...  42500-Butterball   \n",
       "1  trapped in Pennsylvania using padded-leg hold ...  42500-Butterball   \n",
       "\n",
       "       duty-cycle                   study-site tag-manufacturer-name tag-mass  \\\n",
       "0  1 fix per hour  East Coast of North America   Microwave Telemetry       70   \n",
       "1  1 fix per hour  East Coast of North America   Microwave Telemetry       70   \n",
       "\n",
       "  tag-model  \n",
       "0    PTT100  \n",
       "1    PTT100  \n",
       "\n",
       "[2 rows x 32 columns]"
      ]
     },
     "execution_count": 10,
     "metadata": {},
     "output_type": "execute_result"
    }
   ],
   "source": [
    "csv_file = \"Resources/Turkey vultures in North and South America - migration.csv\"\n",
    "vulture_data_df = pd.read_csv(csv_file, low_memory=False)\n",
    "vulture_data_df.head(2)"
   ]
  },
  {
   "cell_type": "code",
   "execution_count": 12,
   "metadata": {},
   "outputs": [
    {
     "data": {
      "text/plain": [
       "Index(['event-id', 'visible', 'timestamp', 'location-long', 'location-lat',\n",
       "       'manually-marked-outlier', 'sensor-type',\n",
       "       'individual-taxon-canonical-name', 'tag-local-identifier',\n",
       "       'individual-local-identifier', 'study-name', 'utm-easting',\n",
       "       'utm-northing', 'utm-zone', 'study-timezone', 'study-local-timestamp',\n",
       "       'tag-id', 'animal-id', 'animal-taxon', 'deploy-on-date',\n",
       "       'deploy-off-date', 'animal-comments', 'animal-life-stage',\n",
       "       'animal-mass', 'attachment-type', 'deployment-comments',\n",
       "       'deployment-id', 'duty-cycle', 'study-site', 'tag-manufacturer-name',\n",
       "       'tag-mass', 'tag-model'],\n",
       "      dtype='object')"
      ]
     },
     "execution_count": 12,
     "metadata": {},
     "output_type": "execute_result"
    }
   ],
   "source": [
    "vulture_data_df.columns"
   ]
  },
  {
   "cell_type": "code",
   "execution_count": 3,
   "metadata": {},
   "outputs": [
    {
     "data": {
      "text/plain": [
       "Index(['event-id', 'visible', 'timestamp', 'location-long', 'location-lat',\n",
       "       'manually-marked-outlier', 'sensor-type',\n",
       "       'individual-taxon-canonical-name', 'tag-local-identifier',\n",
       "       'individual-local-identifier', 'study-name', 'utm-easting',\n",
       "       'utm-northing', 'utm-zone', 'study-timezone', 'study-local-timestamp',\n",
       "       'tag-id', 'animal-id', 'animal-taxon', 'deploy-on-date',\n",
       "       'deploy-off-date', 'animal-comments', 'animal-life-stage',\n",
       "       'animal-mass', 'attachment-type', 'deployment-comments',\n",
       "       'deployment-id', 'duty-cycle', 'study-site', 'tag-manufacturer-name',\n",
       "       'tag-mass', 'tag-model'],\n",
       "      dtype='object')"
      ]
     },
     "execution_count": 3,
     "metadata": {},
     "output_type": "execute_result"
    }
   ],
   "source": [
    "vulture_data_df.keys()"
   ]
  },
  {
   "cell_type": "markdown",
   "metadata": {},
   "source": [
    "### Create new data with select columns"
   ]
  },
  {
   "cell_type": "code",
   "execution_count": 24,
   "metadata": {},
   "outputs": [
    {
     "data": {
      "text/html": [
       "<div>\n",
       "<style scoped>\n",
       "    .dataframe tbody tr th:only-of-type {\n",
       "        vertical-align: middle;\n",
       "    }\n",
       "\n",
       "    .dataframe tbody tr th {\n",
       "        vertical-align: top;\n",
       "    }\n",
       "\n",
       "    .dataframe thead th {\n",
       "        text-align: right;\n",
       "    }\n",
       "</style>\n",
       "<table border=\"1\" class=\"dataframe\">\n",
       "  <thead>\n",
       "    <tr style=\"text-align: right;\">\n",
       "      <th></th>\n",
       "      <th>timestamp</th>\n",
       "      <th>location-long</th>\n",
       "      <th>location-lat</th>\n",
       "      <th>individual-taxon-canonical-name</th>\n",
       "      <th>tag-local-identifier</th>\n",
       "      <th>individual-local-identifier</th>\n",
       "    </tr>\n",
       "  </thead>\n",
       "  <tbody>\n",
       "    <tr>\n",
       "      <th>0</th>\n",
       "      <td>2003-11-14 16:00:00.000</td>\n",
       "      <td>-75.39717</td>\n",
       "      <td>40.48933</td>\n",
       "      <td>Cathartes aura</td>\n",
       "      <td>42500</td>\n",
       "      <td>Butterball</td>\n",
       "    </tr>\n",
       "    <tr>\n",
       "      <th>1</th>\n",
       "      <td>2003-11-14 17:00:00.000</td>\n",
       "      <td>-75.39717</td>\n",
       "      <td>40.48933</td>\n",
       "      <td>Cathartes aura</td>\n",
       "      <td>42500</td>\n",
       "      <td>Butterball</td>\n",
       "    </tr>\n",
       "    <tr>\n",
       "      <th>2</th>\n",
       "      <td>2003-11-14 18:00:00.000</td>\n",
       "      <td>-75.33317</td>\n",
       "      <td>40.32467</td>\n",
       "      <td>Cathartes aura</td>\n",
       "      <td>42500</td>\n",
       "      <td>Butterball</td>\n",
       "    </tr>\n",
       "    <tr>\n",
       "      <th>3</th>\n",
       "      <td>2003-11-14 19:00:00.000</td>\n",
       "      <td>-75.35617</td>\n",
       "      <td>40.33983</td>\n",
       "      <td>Cathartes aura</td>\n",
       "      <td>42500</td>\n",
       "      <td>Butterball</td>\n",
       "    </tr>\n",
       "    <tr>\n",
       "      <th>4</th>\n",
       "      <td>2003-11-14 20:00:00.000</td>\n",
       "      <td>-75.42650</td>\n",
       "      <td>40.31550</td>\n",
       "      <td>Cathartes aura</td>\n",
       "      <td>42500</td>\n",
       "      <td>Butterball</td>\n",
       "    </tr>\n",
       "  </tbody>\n",
       "</table>\n",
       "</div>"
      ],
      "text/plain": [
       "                 timestamp  location-long  location-lat  \\\n",
       "0  2003-11-14 16:00:00.000      -75.39717      40.48933   \n",
       "1  2003-11-14 17:00:00.000      -75.39717      40.48933   \n",
       "2  2003-11-14 18:00:00.000      -75.33317      40.32467   \n",
       "3  2003-11-14 19:00:00.000      -75.35617      40.33983   \n",
       "4  2003-11-14 20:00:00.000      -75.42650      40.31550   \n",
       "\n",
       "  individual-taxon-canonical-name  tag-local-identifier  \\\n",
       "0                  Cathartes aura                 42500   \n",
       "1                  Cathartes aura                 42500   \n",
       "2                  Cathartes aura                 42500   \n",
       "3                  Cathartes aura                 42500   \n",
       "4                  Cathartes aura                 42500   \n",
       "\n",
       "  individual-local-identifier  \n",
       "0                  Butterball  \n",
       "1                  Butterball  \n",
       "2                  Butterball  \n",
       "3                  Butterball  \n",
       "4                  Butterball  "
      ]
     },
     "execution_count": 24,
     "metadata": {},
     "output_type": "execute_result"
    }
   ],
   "source": [
    "# Select columns \n",
    "new_vulture_data_df = vulture_data_df[['timestamp', 'location-long', 'location-lat','individual-taxon-canonical-name', 'tag-local-identifier',\n",
    "       'individual-local-identifier']].copy()\n",
    "new_vulture_data_df.head()"
   ]
  },
  {
   "cell_type": "markdown",
   "metadata": {},
   "source": [
    "### Clean DataFrame"
   ]
  },
  {
   "cell_type": "code",
   "execution_count": 5,
   "metadata": {},
   "outputs": [
    {
     "data": {
      "text/plain": [
       "timestamp                          220077\n",
       "location-long                      220077\n",
       "location-lat                       220077\n",
       "individual-taxon-canonical-name    220077\n",
       "tag-local-identifier               220077\n",
       "individual-local-identifier        220077\n",
       "dtype: int64"
      ]
     },
     "execution_count": 5,
     "metadata": {},
     "output_type": "execute_result"
    }
   ],
   "source": [
    "new_vulture_data_df.count()"
   ]
  },
  {
   "cell_type": "code",
   "execution_count": 6,
   "metadata": {},
   "outputs": [
    {
     "data": {
      "text/plain": [
       "timestamp                          220077\n",
       "location-long                      220077\n",
       "location-lat                       220077\n",
       "individual-taxon-canonical-name    220077\n",
       "tag-local-identifier               220077\n",
       "individual-local-identifier        220077\n",
       "dtype: int64"
      ]
     },
     "execution_count": 6,
     "metadata": {},
     "output_type": "execute_result"
    }
   ],
   "source": [
    "# drop rows without long and lat\n",
    "new_vulture_data_df = new_vulture_data_df.dropna(how=\"any\")\n",
    "new_vulture_data_df.count()"
   ]
  },
  {
   "cell_type": "code",
   "execution_count": 7,
   "metadata": {},
   "outputs": [
    {
     "data": {
      "text/plain": [
       "timestamp                          220077\n",
       "location-long                      220077\n",
       "location-lat                       220077\n",
       "individual-taxon-canonical-name    220077\n",
       "tag-local-identifier               220077\n",
       "individual-local-identifier        220077\n",
       "dtype: int64"
      ]
     },
     "execution_count": 7,
     "metadata": {},
     "output_type": "execute_result"
    }
   ],
   "source": [
    "# filter data to only keep turkey vulture (Cathartes aura) data\n",
    "new_vulture_data_df = new_vulture_data_df.loc[new_vulture_data_df\n",
    "                                              [\"individual-taxon-canonical-name\"] == \"Cathartes aura\", :]\n",
    "new_vulture_data_df.count()"
   ]
  },
  {
   "cell_type": "code",
   "execution_count": 8,
   "metadata": {},
   "outputs": [
    {
     "data": {
      "text/plain": [
       "timestamp                           object\n",
       "location-long                      float64\n",
       "location-lat                       float64\n",
       "individual-taxon-canonical-name     object\n",
       "tag-local-identifier                 int64\n",
       "individual-local-identifier         object\n",
       "dtype: object"
      ]
     },
     "execution_count": 8,
     "metadata": {},
     "output_type": "execute_result"
    }
   ],
   "source": [
    "new_vulture_data_df.dtypes"
   ]
  },
  {
   "cell_type": "code",
   "execution_count": null,
   "metadata": {},
   "outputs": [],
   "source": [
    "# check to prevent duplicate loading (inqury for database)\n"
   ]
  },
  {
   "cell_type": "markdown",
   "metadata": {},
   "source": [
    "### Store Info CSV to DataFrame"
   ]
  },
  {
   "cell_type": "code",
   "execution_count": null,
   "metadata": {},
   "outputs": [],
   "source": [
    "#new_vulture_data_df"
   ]
  },
  {
   "cell_type": "code",
   "execution_count": null,
   "metadata": {},
   "outputs": [],
   "source": []
  },
  {
   "cell_type": "markdown",
   "metadata": {},
   "source": []
  },
  {
   "cell_type": "markdown",
   "metadata": {},
   "source": [
    "### Connect to local database"
   ]
  },
  {
   "cell_type": "code",
   "execution_count": 25,
   "metadata": {},
   "outputs": [],
   "source": [
    "database_path = \"vulture_etl\"\n",
    "engine = create_engine(f\"sqlite:///{database_path}\")"
   ]
  },
  {
   "cell_type": "markdown",
   "metadata": {},
   "source": [
    "### Check for tables"
   ]
  },
  {
   "cell_type": "code",
   "execution_count": 27,
   "metadata": {},
   "outputs": [
    {
     "data": {
      "text/plain": [
       "[]"
      ]
     },
     "execution_count": 27,
     "metadata": {},
     "output_type": "execute_result"
    }
   ],
   "source": [
    "engine.table_names()"
   ]
  },
  {
   "cell_type": "markdown",
   "metadata": {},
   "source": [
    "### Use pandas to load csv converted DataFrame into database"
   ]
  },
  {
   "cell_type": "code",
   "execution_count": 28,
   "metadata": {},
   "outputs": [],
   "source": [
    "new_vulture_data_df.to_sql(name='migration_paths', con=engine, if_exists='append', index=False)"
   ]
  },
  {
   "cell_type": "markdown",
   "metadata": {},
   "source": [
    "### Use pandas to import second csv: Vulture Info by name"
   ]
  },
  {
   "cell_type": "code",
   "execution_count": 29,
   "metadata": {},
   "outputs": [
    {
     "data": {
      "text/html": [
       "<div>\n",
       "<style scoped>\n",
       "    .dataframe tbody tr th:only-of-type {\n",
       "        vertical-align: middle;\n",
       "    }\n",
       "\n",
       "    .dataframe tbody tr th {\n",
       "        vertical-align: top;\n",
       "    }\n",
       "\n",
       "    .dataframe thead th {\n",
       "        text-align: right;\n",
       "    }\n",
       "</style>\n",
       "<table border=\"1\" class=\"dataframe\">\n",
       "  <thead>\n",
       "    <tr style=\"text-align: right;\">\n",
       "      <th></th>\n",
       "      <th>tag-id</th>\n",
       "      <th>animal-id</th>\n",
       "      <th>animal-taxon</th>\n",
       "      <th>deploy-on-date</th>\n",
       "      <th>deploy-off-date</th>\n",
       "      <th>animal-comments</th>\n",
       "      <th>animal-life-stage</th>\n",
       "      <th>animal-mass</th>\n",
       "      <th>attachment-type</th>\n",
       "      <th>deployment-comments</th>\n",
       "      <th>deployment-id</th>\n",
       "      <th>duty-cycle</th>\n",
       "      <th>study-site</th>\n",
       "      <th>tag-manufacturer-name</th>\n",
       "      <th>tag-mass</th>\n",
       "      <th>tag-model</th>\n",
       "    </tr>\n",
       "  </thead>\n",
       "  <tbody>\n",
       "    <tr>\n",
       "      <th>0</th>\n",
       "      <td>42500</td>\n",
       "      <td>Butterball</td>\n",
       "      <td>Cathartes aura</td>\n",
       "      <td>2003-11-14 16:00:00.000</td>\n",
       "      <td>2004-03-14 20:00:01.000</td>\n",
       "      <td>migratory</td>\n",
       "      <td>adult</td>\n",
       "      <td>2372.0</td>\n",
       "      <td>harness</td>\n",
       "      <td>trapped in Pennsylvania using padded-leg hold ...</td>\n",
       "      <td>42500-Butterball</td>\n",
       "      <td>1 fix per hour</td>\n",
       "      <td>East Coast of North America</td>\n",
       "      <td>Microwave Telemetry</td>\n",
       "      <td>70.0</td>\n",
       "      <td>PTT100</td>\n",
       "    </tr>\n",
       "    <tr>\n",
       "      <th>1</th>\n",
       "      <td>52067</td>\n",
       "      <td>Irma</td>\n",
       "      <td>Cathartes aura</td>\n",
       "      <td>2004-09-06 17:00:00.000</td>\n",
       "      <td>2013-03-18 22:00:01.000</td>\n",
       "      <td>non-migratory</td>\n",
       "      <td>adult</td>\n",
       "      <td>2012.0</td>\n",
       "      <td>harness</td>\n",
       "      <td>trapped in Pennsylvania using padded-leg hold ...</td>\n",
       "      <td>52067-Irma</td>\n",
       "      <td>1 fix per hour</td>\n",
       "      <td>East Coast of North America</td>\n",
       "      <td>Microwave Telemetry</td>\n",
       "      <td>70.0</td>\n",
       "      <td>PTT100</td>\n",
       "    </tr>\n",
       "    <tr>\n",
       "      <th>2</th>\n",
       "      <td>42500</td>\n",
       "      <td>Schaumboch</td>\n",
       "      <td>Cathartes aura</td>\n",
       "      <td>2004-10-08 15:00:00.000</td>\n",
       "      <td>2006-03-29 17:00:01.000</td>\n",
       "      <td>migratory</td>\n",
       "      <td>adult</td>\n",
       "      <td>1951.0</td>\n",
       "      <td>harness</td>\n",
       "      <td>trapped in Pennsylvania using padded-leg hold ...</td>\n",
       "      <td>42500-Schaumboch</td>\n",
       "      <td>1 fix per hour</td>\n",
       "      <td>East Coast of North America</td>\n",
       "      <td>Microwave Telemetry</td>\n",
       "      <td>70.0</td>\n",
       "      <td>PTT100</td>\n",
       "    </tr>\n",
       "    <tr>\n",
       "      <th>3</th>\n",
       "      <td>52069</td>\n",
       "      <td>Disney</td>\n",
       "      <td>Cathartes aura</td>\n",
       "      <td>2004-10-11 14:00:00.000</td>\n",
       "      <td>2011-10-18 23:00:01.000</td>\n",
       "      <td>migratory</td>\n",
       "      <td>adult</td>\n",
       "      <td>2108.0</td>\n",
       "      <td>harness</td>\n",
       "      <td>trapped in Pennsylvania using padded-leg hold ...</td>\n",
       "      <td>52069-Disney</td>\n",
       "      <td>1 fix per hour</td>\n",
       "      <td>East Coast of North America</td>\n",
       "      <td>Microwave Telemetry</td>\n",
       "      <td>70.0</td>\n",
       "      <td>PTT100</td>\n",
       "    </tr>\n",
       "    <tr>\n",
       "      <th>4</th>\n",
       "      <td>57954</td>\n",
       "      <td>Prado</td>\n",
       "      <td>Cathartes aura</td>\n",
       "      <td>2005-11-02 15:00:00.000</td>\n",
       "      <td>2009-07-07 00:00:01.000</td>\n",
       "      <td>non-migratory</td>\n",
       "      <td>adult</td>\n",
       "      <td>1710.0</td>\n",
       "      <td>harness</td>\n",
       "      <td>trapped in California using walk-in traps</td>\n",
       "      <td>57954-Prado</td>\n",
       "      <td>1 fix per hour</td>\n",
       "      <td>West Coast of North America</td>\n",
       "      <td>Microwave Telemetry</td>\n",
       "      <td>70.0</td>\n",
       "      <td>PTT100</td>\n",
       "    </tr>\n",
       "    <tr>\n",
       "      <th>5</th>\n",
       "      <td>57955</td>\n",
       "      <td>Sarkis</td>\n",
       "      <td>Cathartes aura</td>\n",
       "      <td>2006-02-25 23:00:00.000</td>\n",
       "      <td>2007-06-02 20:00:01.000</td>\n",
       "      <td>migratory</td>\n",
       "      <td>adult</td>\n",
       "      <td>1810.0</td>\n",
       "      <td>harness</td>\n",
       "      <td>trapped in California using walk-in traps</td>\n",
       "      <td>57955-Sarkis</td>\n",
       "      <td>1 fix per hour</td>\n",
       "      <td>West Coast of North America</td>\n",
       "      <td>Microwave Telemetry</td>\n",
       "      <td>70.0</td>\n",
       "      <td>PTT100</td>\n",
       "    </tr>\n",
       "    <tr>\n",
       "      <th>6</th>\n",
       "      <td>57957</td>\n",
       "      <td>Morongo</td>\n",
       "      <td>Cathartes aura</td>\n",
       "      <td>2006-04-10 04:00:00.000</td>\n",
       "      <td>2009-04-05 22:00:01.000</td>\n",
       "      <td>migratory</td>\n",
       "      <td>adult</td>\n",
       "      <td>1750.0</td>\n",
       "      <td>harness</td>\n",
       "      <td>trapped in California using walk-in traps</td>\n",
       "      <td>57957-Morongo</td>\n",
       "      <td>1 fix per hour</td>\n",
       "      <td>West Coast of North America</td>\n",
       "      <td>Microwave Telemetry</td>\n",
       "      <td>70.0</td>\n",
       "      <td>PTT100</td>\n",
       "    </tr>\n",
       "    <tr>\n",
       "      <th>7</th>\n",
       "      <td>57956</td>\n",
       "      <td>Rosalie</td>\n",
       "      <td>Cathartes aura</td>\n",
       "      <td>2006-04-11 04:00:00.000</td>\n",
       "      <td>2010-03-28 00:00:01.000</td>\n",
       "      <td>migratory</td>\n",
       "      <td>adult</td>\n",
       "      <td>1975.0</td>\n",
       "      <td>harness</td>\n",
       "      <td>trapped in California using walk-in traps</td>\n",
       "      <td>57956-Rosalie</td>\n",
       "      <td>1 fix per hour</td>\n",
       "      <td>West Coast of North America</td>\n",
       "      <td>Microwave Telemetry</td>\n",
       "      <td>70.0</td>\n",
       "      <td>PTT100</td>\n",
       "    </tr>\n",
       "    <tr>\n",
       "      <th>8</th>\n",
       "      <td>65545</td>\n",
       "      <td>Leo</td>\n",
       "      <td>Cathartes aura</td>\n",
       "      <td>2007-09-24 17:00:00.000</td>\n",
       "      <td>2013-03-15 12:00:01.000</td>\n",
       "      <td>migratory</td>\n",
       "      <td>adult</td>\n",
       "      <td>NaN</td>\n",
       "      <td>harness</td>\n",
       "      <td>trapped on their nests in Saskatchewan</td>\n",
       "      <td>65545-Leo</td>\n",
       "      <td>1 fix per hour</td>\n",
       "      <td>Interior of North America</td>\n",
       "      <td>Microwave Telemetry</td>\n",
       "      <td>70.0</td>\n",
       "      <td>PTT100</td>\n",
       "    </tr>\n",
       "    <tr>\n",
       "      <th>9</th>\n",
       "      <td>65544</td>\n",
       "      <td>Mac</td>\n",
       "      <td>Cathartes aura</td>\n",
       "      <td>2007-09-27 20:00:00.000</td>\n",
       "      <td>2008-09-13 16:00:01.000</td>\n",
       "      <td>migratory</td>\n",
       "      <td>adult</td>\n",
       "      <td>NaN</td>\n",
       "      <td>harness</td>\n",
       "      <td>trapped on their nests in Saskatchewan</td>\n",
       "      <td>65544-Mac</td>\n",
       "      <td>1 fix per hour</td>\n",
       "      <td>Interior of North America</td>\n",
       "      <td>Microwave Telemetry</td>\n",
       "      <td>70.0</td>\n",
       "      <td>PTT100</td>\n",
       "    </tr>\n",
       "    <tr>\n",
       "      <th>10</th>\n",
       "      <td>84796</td>\n",
       "      <td>Young Luro</td>\n",
       "      <td>Cathartes aura</td>\n",
       "      <td>2009-03-31 15:00:00.000</td>\n",
       "      <td>2012-09-19 21:00:01.000</td>\n",
       "      <td>migratory</td>\n",
       "      <td>juvenile</td>\n",
       "      <td>NaN</td>\n",
       "      <td>harness</td>\n",
       "      <td>trapped in La Pampa Argentina using walk-in an...</td>\n",
       "      <td>84796-Young Luro</td>\n",
       "      <td>1 fix every 3 hours</td>\n",
       "      <td>Interior of South America</td>\n",
       "      <td>Northstar Science and Technology</td>\n",
       "      <td>40.0</td>\n",
       "      <td>40GPS</td>\n",
       "    </tr>\n",
       "    <tr>\n",
       "      <th>11</th>\n",
       "      <td>85753</td>\n",
       "      <td>Steamhouse 1</td>\n",
       "      <td>Cathartes aura</td>\n",
       "      <td>2009-09-25 18:20:39.000</td>\n",
       "      <td>2011-11-25 06:01:01.000</td>\n",
       "      <td>migratory</td>\n",
       "      <td>adult</td>\n",
       "      <td>1600.0</td>\n",
       "      <td>harness</td>\n",
       "      <td>trapped on their nests in Saskatchewan</td>\n",
       "      <td>85753-Steamhouse 1</td>\n",
       "      <td>1 fix every 3 hours</td>\n",
       "      <td>Interior of North America</td>\n",
       "      <td>Northstar Science and Technology</td>\n",
       "      <td>40.0</td>\n",
       "      <td>40GPS</td>\n",
       "    </tr>\n",
       "    <tr>\n",
       "      <th>12</th>\n",
       "      <td>85754</td>\n",
       "      <td>Steamhouse 2</td>\n",
       "      <td>Cathartes aura</td>\n",
       "      <td>2009-09-30 15:00:39.000</td>\n",
       "      <td>2013-03-19 03:00:01.000</td>\n",
       "      <td>migratory</td>\n",
       "      <td>adult</td>\n",
       "      <td>1900.0</td>\n",
       "      <td>harness</td>\n",
       "      <td>trapped on their nests in Saskatchewan</td>\n",
       "      <td>85754-Steamhouse 2</td>\n",
       "      <td>1 fix every 3 hours</td>\n",
       "      <td>Interior of North America</td>\n",
       "      <td>Northstar Science and Technology</td>\n",
       "      <td>40.0</td>\n",
       "      <td>40GPS</td>\n",
       "    </tr>\n",
       "    <tr>\n",
       "      <th>13</th>\n",
       "      <td>85756</td>\n",
       "      <td>Mary</td>\n",
       "      <td>Cathartes aura</td>\n",
       "      <td>2009-10-20 09:00:46.000</td>\n",
       "      <td>2012-10-21 21:01:01.000</td>\n",
       "      <td>non-migratory</td>\n",
       "      <td>adult</td>\n",
       "      <td>2426.0</td>\n",
       "      <td>harness</td>\n",
       "      <td>trapped in Pennsylvania using padded-leg hold ...</td>\n",
       "      <td>85756-Mary</td>\n",
       "      <td>1 fix every 3 hours</td>\n",
       "      <td>East Coast of North America</td>\n",
       "      <td>Northstar Science and Technology</td>\n",
       "      <td>40.0</td>\n",
       "      <td>40GPS</td>\n",
       "    </tr>\n",
       "    <tr>\n",
       "      <th>14</th>\n",
       "      <td>85755</td>\n",
       "      <td>Mark</td>\n",
       "      <td>Cathartes aura</td>\n",
       "      <td>2009-10-26 18:00:24.000</td>\n",
       "      <td>2012-10-03 21:00:01.000</td>\n",
       "      <td>migratory</td>\n",
       "      <td>adult</td>\n",
       "      <td>2431.0</td>\n",
       "      <td>harness</td>\n",
       "      <td>trapped in Pennsylvania using padded-leg hold ...</td>\n",
       "      <td>85755-Mark</td>\n",
       "      <td>1 fix every 3 hours</td>\n",
       "      <td>East Coast of North America</td>\n",
       "      <td>Northstar Science and Technology</td>\n",
       "      <td>40.0</td>\n",
       "      <td>40GPS</td>\n",
       "    </tr>\n",
       "    <tr>\n",
       "      <th>15</th>\n",
       "      <td>84797</td>\n",
       "      <td>Domingo</td>\n",
       "      <td>Cathartes aura</td>\n",
       "      <td>2011-03-20 12:00:00.000</td>\n",
       "      <td>2012-05-30 18:00:01.000</td>\n",
       "      <td>migratory</td>\n",
       "      <td>adult</td>\n",
       "      <td>NaN</td>\n",
       "      <td>harness</td>\n",
       "      <td>trapped in La Pampa Argentina using walk-in an...</td>\n",
       "      <td>84797-Domingo</td>\n",
       "      <td>1 fix every 3 hours</td>\n",
       "      <td>Interior of South America</td>\n",
       "      <td>Northstar Science and Technology</td>\n",
       "      <td>40.0</td>\n",
       "      <td>40GPS</td>\n",
       "    </tr>\n",
       "    <tr>\n",
       "      <th>16</th>\n",
       "      <td>53798</td>\n",
       "      <td>Whitey</td>\n",
       "      <td>Cathartes aura</td>\n",
       "      <td>2011-03-26 13:52:00.000</td>\n",
       "      <td>2012-10-12 03:39:01.000</td>\n",
       "      <td>migratory</td>\n",
       "      <td>adult</td>\n",
       "      <td>NaN</td>\n",
       "      <td>harness</td>\n",
       "      <td>trapped in La Pampa Argentina using walk-in an...</td>\n",
       "      <td>53798-Whitey</td>\n",
       "      <td>1 fix every 3 hours</td>\n",
       "      <td>Interior of South America</td>\n",
       "      <td>Northstar Science and Techology</td>\n",
       "      <td>40.0</td>\n",
       "      <td>40GPS</td>\n",
       "    </tr>\n",
       "    <tr>\n",
       "      <th>17</th>\n",
       "      <td>53797</td>\n",
       "      <td>La Pampa</td>\n",
       "      <td>Cathartes aura</td>\n",
       "      <td>2011-04-16 15:51:00.000</td>\n",
       "      <td>2012-09-26 00:54:01.000</td>\n",
       "      <td>migratory</td>\n",
       "      <td>adult</td>\n",
       "      <td>NaN</td>\n",
       "      <td>harness</td>\n",
       "      <td>trapped in La Pampa Argentina using walk-in an...</td>\n",
       "      <td>53797-La Pampa</td>\n",
       "      <td>1 fix every 3 hours</td>\n",
       "      <td>Interior of South America</td>\n",
       "      <td>Northstar Science and Technology</td>\n",
       "      <td>40.0</td>\n",
       "      <td>40GPS</td>\n",
       "    </tr>\n",
       "    <tr>\n",
       "      <th>18</th>\n",
       "      <td>53800</td>\n",
       "      <td>Argentina</td>\n",
       "      <td>Cathartes aura</td>\n",
       "      <td>2011-04-19 16:36:00.000</td>\n",
       "      <td>2012-09-23 03:13:01.000</td>\n",
       "      <td>migratory</td>\n",
       "      <td>adult</td>\n",
       "      <td>NaN</td>\n",
       "      <td>harness</td>\n",
       "      <td>trapped in La Pampa Argentina using walk-in an...</td>\n",
       "      <td>53800-Argentina</td>\n",
       "      <td>1 fix every 3 hours</td>\n",
       "      <td>Interior of South America</td>\n",
       "      <td>Northstar Science and Technology</td>\n",
       "      <td>40.0</td>\n",
       "      <td>40GPS</td>\n",
       "    </tr>\n",
       "  </tbody>\n",
       "</table>\n",
       "</div>"
      ],
      "text/plain": [
       "    tag-id     animal-id    animal-taxon           deploy-on-date  \\\n",
       "0    42500    Butterball  Cathartes aura  2003-11-14 16:00:00.000   \n",
       "1    52067          Irma  Cathartes aura  2004-09-06 17:00:00.000   \n",
       "2    42500    Schaumboch  Cathartes aura  2004-10-08 15:00:00.000   \n",
       "3    52069        Disney  Cathartes aura  2004-10-11 14:00:00.000   \n",
       "4    57954         Prado  Cathartes aura  2005-11-02 15:00:00.000   \n",
       "5    57955        Sarkis  Cathartes aura  2006-02-25 23:00:00.000   \n",
       "6    57957       Morongo  Cathartes aura  2006-04-10 04:00:00.000   \n",
       "7    57956       Rosalie  Cathartes aura  2006-04-11 04:00:00.000   \n",
       "8    65545           Leo  Cathartes aura  2007-09-24 17:00:00.000   \n",
       "9    65544           Mac  Cathartes aura  2007-09-27 20:00:00.000   \n",
       "10   84796    Young Luro  Cathartes aura  2009-03-31 15:00:00.000   \n",
       "11   85753  Steamhouse 1  Cathartes aura  2009-09-25 18:20:39.000   \n",
       "12   85754  Steamhouse 2  Cathartes aura  2009-09-30 15:00:39.000   \n",
       "13   85756          Mary  Cathartes aura  2009-10-20 09:00:46.000   \n",
       "14   85755          Mark  Cathartes aura  2009-10-26 18:00:24.000   \n",
       "15   84797       Domingo  Cathartes aura  2011-03-20 12:00:00.000   \n",
       "16   53798        Whitey  Cathartes aura  2011-03-26 13:52:00.000   \n",
       "17   53797      La Pampa  Cathartes aura  2011-04-16 15:51:00.000   \n",
       "18   53800     Argentina  Cathartes aura  2011-04-19 16:36:00.000   \n",
       "\n",
       "            deploy-off-date animal-comments animal-life-stage  animal-mass  \\\n",
       "0   2004-03-14 20:00:01.000       migratory             adult       2372.0   \n",
       "1   2013-03-18 22:00:01.000   non-migratory             adult       2012.0   \n",
       "2   2006-03-29 17:00:01.000       migratory             adult       1951.0   \n",
       "3   2011-10-18 23:00:01.000       migratory             adult       2108.0   \n",
       "4   2009-07-07 00:00:01.000   non-migratory             adult       1710.0   \n",
       "5   2007-06-02 20:00:01.000       migratory             adult       1810.0   \n",
       "6   2009-04-05 22:00:01.000       migratory             adult       1750.0   \n",
       "7   2010-03-28 00:00:01.000       migratory             adult       1975.0   \n",
       "8   2013-03-15 12:00:01.000       migratory             adult          NaN   \n",
       "9   2008-09-13 16:00:01.000       migratory             adult          NaN   \n",
       "10  2012-09-19 21:00:01.000       migratory          juvenile          NaN   \n",
       "11  2011-11-25 06:01:01.000       migratory             adult       1600.0   \n",
       "12  2013-03-19 03:00:01.000       migratory             adult       1900.0   \n",
       "13  2012-10-21 21:01:01.000   non-migratory             adult       2426.0   \n",
       "14  2012-10-03 21:00:01.000       migratory             adult       2431.0   \n",
       "15  2012-05-30 18:00:01.000       migratory             adult          NaN   \n",
       "16  2012-10-12 03:39:01.000       migratory             adult          NaN   \n",
       "17  2012-09-26 00:54:01.000       migratory             adult          NaN   \n",
       "18  2012-09-23 03:13:01.000       migratory             adult          NaN   \n",
       "\n",
       "   attachment-type                                deployment-comments  \\\n",
       "0          harness  trapped in Pennsylvania using padded-leg hold ...   \n",
       "1          harness  trapped in Pennsylvania using padded-leg hold ...   \n",
       "2          harness  trapped in Pennsylvania using padded-leg hold ...   \n",
       "3          harness  trapped in Pennsylvania using padded-leg hold ...   \n",
       "4          harness          trapped in California using walk-in traps   \n",
       "5          harness          trapped in California using walk-in traps   \n",
       "6          harness          trapped in California using walk-in traps   \n",
       "7          harness          trapped in California using walk-in traps   \n",
       "8          harness             trapped on their nests in Saskatchewan   \n",
       "9          harness             trapped on their nests in Saskatchewan   \n",
       "10         harness  trapped in La Pampa Argentina using walk-in an...   \n",
       "11         harness             trapped on their nests in Saskatchewan   \n",
       "12         harness             trapped on their nests in Saskatchewan   \n",
       "13         harness  trapped in Pennsylvania using padded-leg hold ...   \n",
       "14         harness  trapped in Pennsylvania using padded-leg hold ...   \n",
       "15         harness  trapped in La Pampa Argentina using walk-in an...   \n",
       "16         harness  trapped in La Pampa Argentina using walk-in an...   \n",
       "17         harness  trapped in La Pampa Argentina using walk-in an...   \n",
       "18         harness  trapped in La Pampa Argentina using walk-in an...   \n",
       "\n",
       "         deployment-id           duty-cycle                   study-site  \\\n",
       "0     42500-Butterball       1 fix per hour  East Coast of North America   \n",
       "1           52067-Irma       1 fix per hour  East Coast of North America   \n",
       "2     42500-Schaumboch       1 fix per hour  East Coast of North America   \n",
       "3         52069-Disney       1 fix per hour  East Coast of North America   \n",
       "4          57954-Prado       1 fix per hour  West Coast of North America   \n",
       "5         57955-Sarkis       1 fix per hour  West Coast of North America   \n",
       "6        57957-Morongo       1 fix per hour  West Coast of North America   \n",
       "7        57956-Rosalie       1 fix per hour  West Coast of North America   \n",
       "8            65545-Leo       1 fix per hour    Interior of North America   \n",
       "9            65544-Mac       1 fix per hour    Interior of North America   \n",
       "10    84796-Young Luro  1 fix every 3 hours    Interior of South America   \n",
       "11  85753-Steamhouse 1  1 fix every 3 hours    Interior of North America   \n",
       "12  85754-Steamhouse 2  1 fix every 3 hours    Interior of North America   \n",
       "13          85756-Mary  1 fix every 3 hours  East Coast of North America   \n",
       "14          85755-Mark  1 fix every 3 hours  East Coast of North America   \n",
       "15       84797-Domingo  1 fix every 3 hours    Interior of South America   \n",
       "16        53798-Whitey  1 fix every 3 hours    Interior of South America   \n",
       "17      53797-La Pampa  1 fix every 3 hours    Interior of South America   \n",
       "18     53800-Argentina  1 fix every 3 hours    Interior of South America   \n",
       "\n",
       "               tag-manufacturer-name  tag-mass tag-model  \n",
       "0                Microwave Telemetry      70.0    PTT100  \n",
       "1                Microwave Telemetry      70.0    PTT100  \n",
       "2                Microwave Telemetry      70.0    PTT100  \n",
       "3                Microwave Telemetry      70.0    PTT100  \n",
       "4                Microwave Telemetry      70.0    PTT100  \n",
       "5                Microwave Telemetry      70.0    PTT100  \n",
       "6                Microwave Telemetry      70.0    PTT100  \n",
       "7                Microwave Telemetry      70.0    PTT100  \n",
       "8                Microwave Telemetry      70.0    PTT100  \n",
       "9                Microwave Telemetry      70.0    PTT100  \n",
       "10  Northstar Science and Technology      40.0     40GPS  \n",
       "11  Northstar Science and Technology      40.0     40GPS  \n",
       "12  Northstar Science and Technology      40.0     40GPS  \n",
       "13  Northstar Science and Technology      40.0     40GPS  \n",
       "14  Northstar Science and Technology      40.0     40GPS  \n",
       "15  Northstar Science and Technology      40.0     40GPS  \n",
       "16   Northstar Science and Techology      40.0     40GPS  \n",
       "17  Northstar Science and Technology      40.0     40GPS  \n",
       "18  Northstar Science and Technology      40.0     40GPS  "
      ]
     },
     "execution_count": 29,
     "metadata": {},
     "output_type": "execute_result"
    }
   ],
   "source": [
    "csv_file = \"Resources/Turkey vultures in North and South America-reference-data.csv\"\n",
    "vulture_info_df = pd.read_csv(csv_file, low_memory=False)\n",
    "vulture_info_df"
   ]
  },
  {
   "cell_type": "code",
   "execution_count": 30,
   "metadata": {},
   "outputs": [
    {
     "data": {
      "text/plain": [
       "Index(['tag-id', 'animal-id', 'animal-taxon', 'deploy-on-date',\n",
       "       'deploy-off-date', 'animal-comments', 'animal-life-stage',\n",
       "       'animal-mass', 'attachment-type', 'deployment-comments',\n",
       "       'deployment-id', 'duty-cycle', 'study-site', 'tag-manufacturer-name',\n",
       "       'tag-mass', 'tag-model'],\n",
       "      dtype='object')"
      ]
     },
     "execution_count": 30,
     "metadata": {},
     "output_type": "execute_result"
    }
   ],
   "source": [
    "vulture_info_df.columns"
   ]
  },
  {
   "cell_type": "code",
   "execution_count": 31,
   "metadata": {},
   "outputs": [
    {
     "data": {
      "text/html": [
       "<div>\n",
       "<style scoped>\n",
       "    .dataframe tbody tr th:only-of-type {\n",
       "        vertical-align: middle;\n",
       "    }\n",
       "\n",
       "    .dataframe tbody tr th {\n",
       "        vertical-align: top;\n",
       "    }\n",
       "\n",
       "    .dataframe thead th {\n",
       "        text-align: right;\n",
       "    }\n",
       "</style>\n",
       "<table border=\"1\" class=\"dataframe\">\n",
       "  <thead>\n",
       "    <tr style=\"text-align: right;\">\n",
       "      <th></th>\n",
       "      <th>tag-id</th>\n",
       "      <th>animal-id</th>\n",
       "      <th>animal-taxon</th>\n",
       "      <th>deploy-on-date</th>\n",
       "      <th>deploy-off-date</th>\n",
       "      <th>animal-comments</th>\n",
       "      <th>animal-life-stage</th>\n",
       "      <th>animal-mass</th>\n",
       "      <th>deployment-comments</th>\n",
       "      <th>study-site</th>\n",
       "    </tr>\n",
       "  </thead>\n",
       "  <tbody>\n",
       "    <tr>\n",
       "      <th>0</th>\n",
       "      <td>42500</td>\n",
       "      <td>Butterball</td>\n",
       "      <td>Cathartes aura</td>\n",
       "      <td>2003-11-14 16:00:00.000</td>\n",
       "      <td>2004-03-14 20:00:01.000</td>\n",
       "      <td>migratory</td>\n",
       "      <td>adult</td>\n",
       "      <td>2372.0</td>\n",
       "      <td>trapped in Pennsylvania using padded-leg hold ...</td>\n",
       "      <td>East Coast of North America</td>\n",
       "    </tr>\n",
       "  </tbody>\n",
       "</table>\n",
       "</div>"
      ],
      "text/plain": [
       "   tag-id   animal-id    animal-taxon           deploy-on-date  \\\n",
       "0   42500  Butterball  Cathartes aura  2003-11-14 16:00:00.000   \n",
       "\n",
       "           deploy-off-date animal-comments animal-life-stage  animal-mass  \\\n",
       "0  2004-03-14 20:00:01.000       migratory             adult       2372.0   \n",
       "\n",
       "                                 deployment-comments  \\\n",
       "0  trapped in Pennsylvania using padded-leg hold ...   \n",
       "\n",
       "                    study-site  \n",
       "0  East Coast of North America  "
      ]
     },
     "execution_count": 31,
     "metadata": {},
     "output_type": "execute_result"
    }
   ],
   "source": [
    "# Select columns \n",
    "new_vulture_info_df = vulture_info_df[['tag-id', 'animal-id', 'animal-taxon', 'deploy-on-date',\n",
    "       'deploy-off-date', 'animal-comments', 'animal-life-stage',\n",
    "       'animal-mass',  'deployment-comments',\n",
    "        'study-site']].copy()\n",
    "new_vulture_info_df.head(1)"
   ]
  },
  {
   "cell_type": "code",
   "execution_count": 32,
   "metadata": {},
   "outputs": [
    {
     "data": {
      "text/plain": [
       "tag-id                 19\n",
       "animal-id              19\n",
       "animal-taxon           19\n",
       "deploy-on-date         19\n",
       "deploy-off-date        19\n",
       "animal-comments        19\n",
       "animal-life-stage      19\n",
       "animal-mass            12\n",
       "deployment-comments    19\n",
       "study-site             19\n",
       "dtype: int64"
      ]
     },
     "execution_count": 32,
     "metadata": {},
     "output_type": "execute_result"
    }
   ],
   "source": [
    "new_vulture_info_df.count()"
   ]
  },
  {
   "cell_type": "code",
   "execution_count": 34,
   "metadata": {},
   "outputs": [],
   "source": [
    "new_vulture_info_df.to_sql(name='vulture_detail', con=engine, if_exists='append', index=False)"
   ]
  },
  {
   "cell_type": "code",
   "execution_count": null,
   "metadata": {},
   "outputs": [],
   "source": []
  },
  {
   "cell_type": "markdown",
   "metadata": {},
   "source": [
    "### Confirm data has been added by querying the customer_name table\n",
    "* NOTE: can also check using pgAdmin"
   ]
  },
  {
   "cell_type": "code",
   "execution_count": 35,
   "metadata": {},
   "outputs": [
    {
     "data": {
      "text/html": [
       "<div>\n",
       "<style scoped>\n",
       "    .dataframe tbody tr th:only-of-type {\n",
       "        vertical-align: middle;\n",
       "    }\n",
       "\n",
       "    .dataframe tbody tr th {\n",
       "        vertical-align: top;\n",
       "    }\n",
       "\n",
       "    .dataframe thead th {\n",
       "        text-align: right;\n",
       "    }\n",
       "</style>\n",
       "<table border=\"1\" class=\"dataframe\">\n",
       "  <thead>\n",
       "    <tr style=\"text-align: right;\">\n",
       "      <th></th>\n",
       "      <th>timestamp</th>\n",
       "      <th>location-long</th>\n",
       "      <th>location-lat</th>\n",
       "      <th>individual-taxon-canonical-name</th>\n",
       "      <th>tag-local-identifier</th>\n",
       "      <th>individual-local-identifier</th>\n",
       "    </tr>\n",
       "  </thead>\n",
       "  <tbody>\n",
       "    <tr>\n",
       "      <th>0</th>\n",
       "      <td>2003-11-14 16:00:00.000</td>\n",
       "      <td>-75.39717</td>\n",
       "      <td>40.48933</td>\n",
       "      <td>Cathartes aura</td>\n",
       "      <td>42500</td>\n",
       "      <td>Butterball</td>\n",
       "    </tr>\n",
       "    <tr>\n",
       "      <th>1</th>\n",
       "      <td>2003-11-14 17:00:00.000</td>\n",
       "      <td>-75.39717</td>\n",
       "      <td>40.48933</td>\n",
       "      <td>Cathartes aura</td>\n",
       "      <td>42500</td>\n",
       "      <td>Butterball</td>\n",
       "    </tr>\n",
       "    <tr>\n",
       "      <th>2</th>\n",
       "      <td>2003-11-14 18:00:00.000</td>\n",
       "      <td>-75.33317</td>\n",
       "      <td>40.32467</td>\n",
       "      <td>Cathartes aura</td>\n",
       "      <td>42500</td>\n",
       "      <td>Butterball</td>\n",
       "    </tr>\n",
       "    <tr>\n",
       "      <th>3</th>\n",
       "      <td>2003-11-14 19:00:00.000</td>\n",
       "      <td>-75.35617</td>\n",
       "      <td>40.33983</td>\n",
       "      <td>Cathartes aura</td>\n",
       "      <td>42500</td>\n",
       "      <td>Butterball</td>\n",
       "    </tr>\n",
       "    <tr>\n",
       "      <th>4</th>\n",
       "      <td>2003-11-14 20:00:00.000</td>\n",
       "      <td>-75.42650</td>\n",
       "      <td>40.31550</td>\n",
       "      <td>Cathartes aura</td>\n",
       "      <td>42500</td>\n",
       "      <td>Butterball</td>\n",
       "    </tr>\n",
       "  </tbody>\n",
       "</table>\n",
       "</div>"
      ],
      "text/plain": [
       "                 timestamp  location-long  location-lat  \\\n",
       "0  2003-11-14 16:00:00.000      -75.39717      40.48933   \n",
       "1  2003-11-14 17:00:00.000      -75.39717      40.48933   \n",
       "2  2003-11-14 18:00:00.000      -75.33317      40.32467   \n",
       "3  2003-11-14 19:00:00.000      -75.35617      40.33983   \n",
       "4  2003-11-14 20:00:00.000      -75.42650      40.31550   \n",
       "\n",
       "  individual-taxon-canonical-name  tag-local-identifier  \\\n",
       "0                  Cathartes aura                 42500   \n",
       "1                  Cathartes aura                 42500   \n",
       "2                  Cathartes aura                 42500   \n",
       "3                  Cathartes aura                 42500   \n",
       "4                  Cathartes aura                 42500   \n",
       "\n",
       "  individual-local-identifier  \n",
       "0                  Butterball  \n",
       "1                  Butterball  \n",
       "2                  Butterball  \n",
       "3                  Butterball  \n",
       "4                  Butterball  "
      ]
     },
     "execution_count": 35,
     "metadata": {},
     "output_type": "execute_result"
    }
   ],
   "source": [
    "pd.read_sql_query('select * from migration_paths', con=engine).head()"
   ]
  },
  {
   "cell_type": "markdown",
   "metadata": {},
   "source": [
    "### Confirm data has been added by querying the customer_location table"
   ]
  },
  {
   "cell_type": "code",
   "execution_count": 36,
   "metadata": {},
   "outputs": [
    {
     "data": {
      "text/html": [
       "<div>\n",
       "<style scoped>\n",
       "    .dataframe tbody tr th:only-of-type {\n",
       "        vertical-align: middle;\n",
       "    }\n",
       "\n",
       "    .dataframe tbody tr th {\n",
       "        vertical-align: top;\n",
       "    }\n",
       "\n",
       "    .dataframe thead th {\n",
       "        text-align: right;\n",
       "    }\n",
       "</style>\n",
       "<table border=\"1\" class=\"dataframe\">\n",
       "  <thead>\n",
       "    <tr style=\"text-align: right;\">\n",
       "      <th></th>\n",
       "      <th>tag-id</th>\n",
       "      <th>animal-id</th>\n",
       "      <th>animal-taxon</th>\n",
       "      <th>deploy-on-date</th>\n",
       "      <th>deploy-off-date</th>\n",
       "      <th>animal-comments</th>\n",
       "      <th>animal-life-stage</th>\n",
       "      <th>animal-mass</th>\n",
       "      <th>deployment-comments</th>\n",
       "      <th>study-site</th>\n",
       "    </tr>\n",
       "  </thead>\n",
       "  <tbody>\n",
       "    <tr>\n",
       "      <th>0</th>\n",
       "      <td>42500</td>\n",
       "      <td>Butterball</td>\n",
       "      <td>Cathartes aura</td>\n",
       "      <td>2003-11-14 16:00:00.000</td>\n",
       "      <td>2004-03-14 20:00:01.000</td>\n",
       "      <td>migratory</td>\n",
       "      <td>adult</td>\n",
       "      <td>2372.0</td>\n",
       "      <td>trapped in Pennsylvania using padded-leg hold ...</td>\n",
       "      <td>East Coast of North America</td>\n",
       "    </tr>\n",
       "    <tr>\n",
       "      <th>1</th>\n",
       "      <td>52067</td>\n",
       "      <td>Irma</td>\n",
       "      <td>Cathartes aura</td>\n",
       "      <td>2004-09-06 17:00:00.000</td>\n",
       "      <td>2013-03-18 22:00:01.000</td>\n",
       "      <td>non-migratory</td>\n",
       "      <td>adult</td>\n",
       "      <td>2012.0</td>\n",
       "      <td>trapped in Pennsylvania using padded-leg hold ...</td>\n",
       "      <td>East Coast of North America</td>\n",
       "    </tr>\n",
       "    <tr>\n",
       "      <th>2</th>\n",
       "      <td>42500</td>\n",
       "      <td>Schaumboch</td>\n",
       "      <td>Cathartes aura</td>\n",
       "      <td>2004-10-08 15:00:00.000</td>\n",
       "      <td>2006-03-29 17:00:01.000</td>\n",
       "      <td>migratory</td>\n",
       "      <td>adult</td>\n",
       "      <td>1951.0</td>\n",
       "      <td>trapped in Pennsylvania using padded-leg hold ...</td>\n",
       "      <td>East Coast of North America</td>\n",
       "    </tr>\n",
       "    <tr>\n",
       "      <th>3</th>\n",
       "      <td>52069</td>\n",
       "      <td>Disney</td>\n",
       "      <td>Cathartes aura</td>\n",
       "      <td>2004-10-11 14:00:00.000</td>\n",
       "      <td>2011-10-18 23:00:01.000</td>\n",
       "      <td>migratory</td>\n",
       "      <td>adult</td>\n",
       "      <td>2108.0</td>\n",
       "      <td>trapped in Pennsylvania using padded-leg hold ...</td>\n",
       "      <td>East Coast of North America</td>\n",
       "    </tr>\n",
       "    <tr>\n",
       "      <th>4</th>\n",
       "      <td>57954</td>\n",
       "      <td>Prado</td>\n",
       "      <td>Cathartes aura</td>\n",
       "      <td>2005-11-02 15:00:00.000</td>\n",
       "      <td>2009-07-07 00:00:01.000</td>\n",
       "      <td>non-migratory</td>\n",
       "      <td>adult</td>\n",
       "      <td>1710.0</td>\n",
       "      <td>trapped in California using walk-in traps</td>\n",
       "      <td>West Coast of North America</td>\n",
       "    </tr>\n",
       "  </tbody>\n",
       "</table>\n",
       "</div>"
      ],
      "text/plain": [
       "   tag-id   animal-id    animal-taxon           deploy-on-date  \\\n",
       "0   42500  Butterball  Cathartes aura  2003-11-14 16:00:00.000   \n",
       "1   52067        Irma  Cathartes aura  2004-09-06 17:00:00.000   \n",
       "2   42500  Schaumboch  Cathartes aura  2004-10-08 15:00:00.000   \n",
       "3   52069      Disney  Cathartes aura  2004-10-11 14:00:00.000   \n",
       "4   57954       Prado  Cathartes aura  2005-11-02 15:00:00.000   \n",
       "\n",
       "           deploy-off-date animal-comments animal-life-stage  animal-mass  \\\n",
       "0  2004-03-14 20:00:01.000       migratory             adult       2372.0   \n",
       "1  2013-03-18 22:00:01.000   non-migratory             adult       2012.0   \n",
       "2  2006-03-29 17:00:01.000       migratory             adult       1951.0   \n",
       "3  2011-10-18 23:00:01.000       migratory             adult       2108.0   \n",
       "4  2009-07-07 00:00:01.000   non-migratory             adult       1710.0   \n",
       "\n",
       "                                 deployment-comments  \\\n",
       "0  trapped in Pennsylvania using padded-leg hold ...   \n",
       "1  trapped in Pennsylvania using padded-leg hold ...   \n",
       "2  trapped in Pennsylvania using padded-leg hold ...   \n",
       "3  trapped in Pennsylvania using padded-leg hold ...   \n",
       "4          trapped in California using walk-in traps   \n",
       "\n",
       "                    study-site  \n",
       "0  East Coast of North America  \n",
       "1  East Coast of North America  \n",
       "2  East Coast of North America  \n",
       "3  East Coast of North America  \n",
       "4  West Coast of North America  "
      ]
     },
     "execution_count": 36,
     "metadata": {},
     "output_type": "execute_result"
    }
   ],
   "source": [
    "pd.read_sql_query('select * from vulture_detail', con=engine).head()"
   ]
  },
  {
   "cell_type": "code",
   "execution_count": 37,
   "metadata": {},
   "outputs": [
    {
     "data": {
      "text/plain": [
       "['migration_paths', 'vulture_detail']"
      ]
     },
     "execution_count": 37,
     "metadata": {},
     "output_type": "execute_result"
    }
   ],
   "source": [
    "engine.table_names()"
   ]
  },
  {
   "cell_type": "code",
   "execution_count": 48,
   "metadata": {},
   "outputs": [],
   "source": [
    "conn = engine.connect()\n",
    "\n",
    "from sqlalchemy.orm import Session\n",
    "from sqlalchemy.ext.declarative import declarative_base\n",
    "Base = declarative_base()\n",
    "\n",
    "session = Session(bind=engine)\n",
    "Base.metadata.create_all(engine)"
   ]
  },
  {
   "cell_type": "code",
   "execution_count": 50,
   "metadata": {},
   "outputs": [],
   "source": [
    "\n",
    "session.commit()"
   ]
  },
  {
   "cell_type": "code",
   "execution_count": 51,
   "metadata": {},
   "outputs": [
    {
     "ename": "NameError",
     "evalue": "name 'migration_paths' is not defined",
     "output_type": "error",
     "traceback": [
      "\u001b[1;31m---------------------------------------------------------------------------\u001b[0m",
      "\u001b[1;31mNameError\u001b[0m                                 Traceback (most recent call last)",
      "\u001b[1;32m<ipython-input-51-58f2017e646c>\u001b[0m in \u001b[0;36m<module>\u001b[1;34m\u001b[0m\n\u001b[1;32m----> 1\u001b[1;33m \u001b[0mnames\u001b[0m \u001b[1;33m=\u001b[0m \u001b[0msession\u001b[0m\u001b[1;33m.\u001b[0m\u001b[0mquery\u001b[0m\u001b[1;33m(\u001b[0m\u001b[0mmigration_paths\u001b[0m\u001b[1;33m)\u001b[0m\u001b[1;33m\u001b[0m\u001b[1;33m\u001b[0m\u001b[0m\n\u001b[0m\u001b[0;32m      2\u001b[0m \u001b[1;32mfor\u001b[0m \u001b[0mname\u001b[0m \u001b[1;32min\u001b[0m \u001b[0mnames\u001b[0m\u001b[1;33m:\u001b[0m\u001b[1;33m\u001b[0m\u001b[1;33m\u001b[0m\u001b[0m\n\u001b[0;32m      3\u001b[0m     \u001b[0mprint\u001b[0m\u001b[1;33m(\u001b[0m\u001b[0mmigration_paths\u001b[0m\u001b[1;33m.\u001b[0m\u001b[0manimal\u001b[0m\u001b[1;33m-\u001b[0m\u001b[0mid\u001b[0m\u001b[1;33m)\u001b[0m\u001b[1;33m\u001b[0m\u001b[1;33m\u001b[0m\u001b[0m\n",
      "\u001b[1;31mNameError\u001b[0m: name 'migration_paths' is not defined"
     ]
    }
   ],
   "source": [
    "names = session.query(migration_paths)\n",
    "for name in names:\n",
    "    print(migration_paths.animal-id)"
   ]
  },
  {
   "cell_type": "markdown",
   "metadata": {},
   "source": [
    "# list of cities"
   ]
  },
  {
   "cell_type": "code",
   "execution_count": 53,
   "metadata": {},
   "outputs": [],
   "source": [
    "from citipy import citipy\n"
   ]
  },
  {
   "cell_type": "code",
   "execution_count": 61,
   "metadata": {},
   "outputs": [
    {
     "data": {
      "text/plain": [
       "list"
      ]
     },
     "execution_count": 61,
     "metadata": {},
     "output_type": "execute_result"
    }
   ],
   "source": [
    "lats = new_vulture_data_df['location-lat'].values.tolist()\n",
    "lngs = new_vulture_data_df['location-long'].values.tolist()\n",
    "type(long)"
   ]
  },
  {
   "cell_type": "code",
   "execution_count": 56,
   "metadata": {},
   "outputs": [],
   "source": [
    "lat_lngs = []\n",
    "cities = []"
   ]
  },
  {
   "cell_type": "code",
   "execution_count": 63,
   "metadata": {},
   "outputs": [
    {
     "data": {
      "text/plain": [
       "1556"
      ]
     },
     "execution_count": 63,
     "metadata": {},
     "output_type": "execute_result"
    }
   ],
   "source": [
    "\n",
    "\n",
    "lat_lngs = zip(lats, lngs)\n",
    "\n",
    "# Identify nearest city for each lat, lng combination\n",
    "for lat_lng in lat_lngs:\n",
    "    city = citipy.nearest_city(lat_lng[0], lat_lng[1]).city_name\n",
    "    \n",
    "    # If the city is unique, then add it to a our cities list\n",
    "    if city not in cities:\n",
    "        cities.append(city)\n",
    "\n",
    "\n",
    "# Print the city count to confirm sufficient count\n",
    "cities_list=list(cities)\n",
    "len(cities)"
   ]
  },
  {
   "cell_type": "code",
   "execution_count": null,
   "metadata": {},
   "outputs": [],
   "source": []
  }
 ],
 "metadata": {
  "kernelspec": {
   "display_name": "Python 3",
   "language": "python",
   "name": "python3"
  },
  "language_info": {
   "codemirror_mode": {
    "name": "ipython",
    "version": 3
   },
   "file_extension": ".py",
   "mimetype": "text/x-python",
   "name": "python",
   "nbconvert_exporter": "python",
   "pygments_lexer": "ipython3",
   "version": "3.6.7"
  },
  "nteract": {
   "version": "0.12.3"
  }
 },
 "nbformat": 4,
 "nbformat_minor": 2
}
