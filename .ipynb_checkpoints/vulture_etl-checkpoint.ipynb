{
 "cells": [
  {
   "cell_type": "code",
   "execution_count": 1,
   "metadata": {},
   "outputs": [],
   "source": [
    "import pandas as pd\n",
    "from sqlalchemy import create_engine"
   ]
  },
  {
   "cell_type": "markdown",
   "metadata": {
    "slideshow": {
     "slide_type": "-"
    }
   },
   "source": [
    "### Store CSV into DataFrame"
   ]
  },
  {
   "cell_type": "code",
   "execution_count": 10,
   "metadata": {},
   "outputs": [
    {
     "data": {
      "text/html": [
       "<div>\n",
       "<style scoped>\n",
       "    .dataframe tbody tr th:only-of-type {\n",
       "        vertical-align: middle;\n",
       "    }\n",
       "\n",
       "    .dataframe tbody tr th {\n",
       "        vertical-align: top;\n",
       "    }\n",
       "\n",
       "    .dataframe thead th {\n",
       "        text-align: right;\n",
       "    }\n",
       "</style>\n",
       "<table border=\"1\" class=\"dataframe\">\n",
       "  <thead>\n",
       "    <tr style=\"text-align: right;\">\n",
       "      <th></th>\n",
       "      <th>event-id</th>\n",
       "      <th>visible</th>\n",
       "      <th>timestamp</th>\n",
       "      <th>location-long</th>\n",
       "      <th>location-lat</th>\n",
       "      <th>algorithm-marked-outlier</th>\n",
       "      <th>gps:hdop</th>\n",
       "      <th>gps:satellite-count</th>\n",
       "      <th>gps-time-to-fix</th>\n",
       "      <th>gps:vdop</th>\n",
       "      <th>...</th>\n",
       "      <th>height-raw</th>\n",
       "      <th>location-error-text</th>\n",
       "      <th>manually-marked-outlier</th>\n",
       "      <th>raptor-workshop:migration-state</th>\n",
       "      <th>vertical-error-numerical</th>\n",
       "      <th>sensor-type</th>\n",
       "      <th>individual-taxon-canonical-name</th>\n",
       "      <th>tag-local-identifier</th>\n",
       "      <th>individual-local-identifier</th>\n",
       "      <th>study-name</th>\n",
       "    </tr>\n",
       "  </thead>\n",
       "  <tbody>\n",
       "    <tr>\n",
       "      <th>0</th>\n",
       "      <td>2165431108</td>\n",
       "      <td>True</td>\n",
       "      <td>2004-09-06 17:00:00.000</td>\n",
       "      <td>-75.28533</td>\n",
       "      <td>40.77800</td>\n",
       "      <td>NaN</td>\n",
       "      <td>NaN</td>\n",
       "      <td>NaN</td>\n",
       "      <td>NaN</td>\n",
       "      <td>NaN</td>\n",
       "      <td>...</td>\n",
       "      <td>NaN</td>\n",
       "      <td>NaN</td>\n",
       "      <td>NaN</td>\n",
       "      <td>NaN</td>\n",
       "      <td>NaN</td>\n",
       "      <td>gps</td>\n",
       "      <td>Cathartes aura</td>\n",
       "      <td>52067</td>\n",
       "      <td>Irma</td>\n",
       "      <td>Vultures Acopian Center USA 2003-2016</td>\n",
       "    </tr>\n",
       "    <tr>\n",
       "      <th>1</th>\n",
       "      <td>2165431109</td>\n",
       "      <td>True</td>\n",
       "      <td>2004-09-06 18:00:00.000</td>\n",
       "      <td>-75.28533</td>\n",
       "      <td>40.77817</td>\n",
       "      <td>NaN</td>\n",
       "      <td>NaN</td>\n",
       "      <td>NaN</td>\n",
       "      <td>NaN</td>\n",
       "      <td>NaN</td>\n",
       "      <td>...</td>\n",
       "      <td>NaN</td>\n",
       "      <td>NaN</td>\n",
       "      <td>NaN</td>\n",
       "      <td>NaN</td>\n",
       "      <td>NaN</td>\n",
       "      <td>gps</td>\n",
       "      <td>Cathartes aura</td>\n",
       "      <td>52067</td>\n",
       "      <td>Irma</td>\n",
       "      <td>Vultures Acopian Center USA 2003-2016</td>\n",
       "    </tr>\n",
       "    <tr>\n",
       "      <th>2</th>\n",
       "      <td>2165431110</td>\n",
       "      <td>True</td>\n",
       "      <td>2004-09-06 19:00:00.000</td>\n",
       "      <td>-75.28933</td>\n",
       "      <td>40.77433</td>\n",
       "      <td>NaN</td>\n",
       "      <td>NaN</td>\n",
       "      <td>NaN</td>\n",
       "      <td>NaN</td>\n",
       "      <td>NaN</td>\n",
       "      <td>...</td>\n",
       "      <td>NaN</td>\n",
       "      <td>NaN</td>\n",
       "      <td>NaN</td>\n",
       "      <td>NaN</td>\n",
       "      <td>NaN</td>\n",
       "      <td>gps</td>\n",
       "      <td>Cathartes aura</td>\n",
       "      <td>52067</td>\n",
       "      <td>Irma</td>\n",
       "      <td>Vultures Acopian Center USA 2003-2016</td>\n",
       "    </tr>\n",
       "    <tr>\n",
       "      <th>3</th>\n",
       "      <td>2165431111</td>\n",
       "      <td>True</td>\n",
       "      <td>2004-09-06 20:00:00.000</td>\n",
       "      <td>-75.28900</td>\n",
       "      <td>40.77433</td>\n",
       "      <td>NaN</td>\n",
       "      <td>NaN</td>\n",
       "      <td>NaN</td>\n",
       "      <td>NaN</td>\n",
       "      <td>NaN</td>\n",
       "      <td>...</td>\n",
       "      <td>NaN</td>\n",
       "      <td>NaN</td>\n",
       "      <td>NaN</td>\n",
       "      <td>NaN</td>\n",
       "      <td>NaN</td>\n",
       "      <td>gps</td>\n",
       "      <td>Cathartes aura</td>\n",
       "      <td>52067</td>\n",
       "      <td>Irma</td>\n",
       "      <td>Vultures Acopian Center USA 2003-2016</td>\n",
       "    </tr>\n",
       "    <tr>\n",
       "      <th>4</th>\n",
       "      <td>2165431112</td>\n",
       "      <td>True</td>\n",
       "      <td>2004-09-07 00:00:00.000</td>\n",
       "      <td>-75.28900</td>\n",
       "      <td>40.77417</td>\n",
       "      <td>NaN</td>\n",
       "      <td>NaN</td>\n",
       "      <td>NaN</td>\n",
       "      <td>NaN</td>\n",
       "      <td>NaN</td>\n",
       "      <td>...</td>\n",
       "      <td>NaN</td>\n",
       "      <td>NaN</td>\n",
       "      <td>NaN</td>\n",
       "      <td>NaN</td>\n",
       "      <td>NaN</td>\n",
       "      <td>gps</td>\n",
       "      <td>Cathartes aura</td>\n",
       "      <td>52067</td>\n",
       "      <td>Irma</td>\n",
       "      <td>Vultures Acopian Center USA 2003-2016</td>\n",
       "    </tr>\n",
       "  </tbody>\n",
       "</table>\n",
       "<p>5 rows × 23 columns</p>\n",
       "</div>"
      ],
      "text/plain": [
       "     event-id  visible                timestamp  location-long  location-lat  \\\n",
       "0  2165431108     True  2004-09-06 17:00:00.000      -75.28533      40.77800   \n",
       "1  2165431109     True  2004-09-06 18:00:00.000      -75.28533      40.77817   \n",
       "2  2165431110     True  2004-09-06 19:00:00.000      -75.28933      40.77433   \n",
       "3  2165431111     True  2004-09-06 20:00:00.000      -75.28900      40.77433   \n",
       "4  2165431112     True  2004-09-07 00:00:00.000      -75.28900      40.77417   \n",
       "\n",
       "  algorithm-marked-outlier  gps:hdop  gps:satellite-count  gps-time-to-fix  \\\n",
       "0                      NaN       NaN                  NaN              NaN   \n",
       "1                      NaN       NaN                  NaN              NaN   \n",
       "2                      NaN       NaN                  NaN              NaN   \n",
       "3                      NaN       NaN                  NaN              NaN   \n",
       "4                      NaN       NaN                  NaN              NaN   \n",
       "\n",
       "   gps:vdop                  ...                    height-raw  \\\n",
       "0       NaN                  ...                           NaN   \n",
       "1       NaN                  ...                           NaN   \n",
       "2       NaN                  ...                           NaN   \n",
       "3       NaN                  ...                           NaN   \n",
       "4       NaN                  ...                           NaN   \n",
       "\n",
       "   location-error-text  manually-marked-outlier  \\\n",
       "0                  NaN                      NaN   \n",
       "1                  NaN                      NaN   \n",
       "2                  NaN                      NaN   \n",
       "3                  NaN                      NaN   \n",
       "4                  NaN                      NaN   \n",
       "\n",
       "  raptor-workshop:migration-state vertical-error-numerical sensor-type  \\\n",
       "0                             NaN                      NaN         gps   \n",
       "1                             NaN                      NaN         gps   \n",
       "2                             NaN                      NaN         gps   \n",
       "3                             NaN                      NaN         gps   \n",
       "4                             NaN                      NaN         gps   \n",
       "\n",
       "  individual-taxon-canonical-name  tag-local-identifier  \\\n",
       "0                  Cathartes aura                 52067   \n",
       "1                  Cathartes aura                 52067   \n",
       "2                  Cathartes aura                 52067   \n",
       "3                  Cathartes aura                 52067   \n",
       "4                  Cathartes aura                 52067   \n",
       "\n",
       "  individual-local-identifier                             study-name  \n",
       "0                        Irma  Vultures Acopian Center USA 2003-2016  \n",
       "1                        Irma  Vultures Acopian Center USA 2003-2016  \n",
       "2                        Irma  Vultures Acopian Center USA 2003-2016  \n",
       "3                        Irma  Vultures Acopian Center USA 2003-2016  \n",
       "4                        Irma  Vultures Acopian Center USA 2003-2016  \n",
       "\n",
       "[5 rows x 23 columns]"
      ]
     },
     "execution_count": 10,
     "metadata": {},
     "output_type": "execute_result"
    }
   ],
   "source": [
    "csv_file = \"Resources/Vultures_Acopian_Center_USA_2003-2016.csv\"\n",
    "vulture_data_df = pd.read_csv(csv_file, low_memory=False)\n",
    "vulture_data_df.head()"
   ]
  },
  {
   "cell_type": "code",
   "execution_count": 11,
   "metadata": {},
   "outputs": [
    {
     "data": {
      "text/plain": [
       "Index(['event-id', 'visible', 'timestamp', 'location-long', 'location-lat',\n",
       "       'algorithm-marked-outlier', 'gps:hdop', 'gps:satellite-count',\n",
       "       'gps-time-to-fix', 'gps:vdop', 'ground-speed', 'heading',\n",
       "       'height-above-ellipsoid', 'height-raw', 'location-error-text',\n",
       "       'manually-marked-outlier', 'raptor-workshop:migration-state',\n",
       "       'vertical-error-numerical', 'sensor-type',\n",
       "       'individual-taxon-canonical-name', 'tag-local-identifier',\n",
       "       'individual-local-identifier', 'study-name'],\n",
       "      dtype='object')"
      ]
     },
     "execution_count": 11,
     "metadata": {},
     "output_type": "execute_result"
    }
   ],
   "source": [
    "vulture_data_df.keys()"
   ]
  },
  {
   "cell_type": "markdown",
   "metadata": {},
   "source": [
    "### Create new data with select columns"
   ]
  },
  {
   "cell_type": "code",
   "execution_count": 14,
   "metadata": {},
   "outputs": [
    {
     "data": {
      "text/html": [
       "<div>\n",
       "<style scoped>\n",
       "    .dataframe tbody tr th:only-of-type {\n",
       "        vertical-align: middle;\n",
       "    }\n",
       "\n",
       "    .dataframe tbody tr th {\n",
       "        vertical-align: top;\n",
       "    }\n",
       "\n",
       "    .dataframe thead th {\n",
       "        text-align: right;\n",
       "    }\n",
       "</style>\n",
       "<table border=\"1\" class=\"dataframe\">\n",
       "  <thead>\n",
       "    <tr style=\"text-align: right;\">\n",
       "      <th></th>\n",
       "      <th>timestamp</th>\n",
       "      <th>location-long</th>\n",
       "      <th>location-lat</th>\n",
       "      <th>individual-taxon-canonical-name</th>\n",
       "      <th>tag-local-identifier</th>\n",
       "      <th>individual-local-identifier</th>\n",
       "    </tr>\n",
       "  </thead>\n",
       "  <tbody>\n",
       "    <tr>\n",
       "      <th>0</th>\n",
       "      <td>2004-09-06 17:00:00.000</td>\n",
       "      <td>-75.28533</td>\n",
       "      <td>40.77800</td>\n",
       "      <td>Cathartes aura</td>\n",
       "      <td>52067</td>\n",
       "      <td>Irma</td>\n",
       "    </tr>\n",
       "    <tr>\n",
       "      <th>1</th>\n",
       "      <td>2004-09-06 18:00:00.000</td>\n",
       "      <td>-75.28533</td>\n",
       "      <td>40.77817</td>\n",
       "      <td>Cathartes aura</td>\n",
       "      <td>52067</td>\n",
       "      <td>Irma</td>\n",
       "    </tr>\n",
       "    <tr>\n",
       "      <th>2</th>\n",
       "      <td>2004-09-06 19:00:00.000</td>\n",
       "      <td>-75.28933</td>\n",
       "      <td>40.77433</td>\n",
       "      <td>Cathartes aura</td>\n",
       "      <td>52067</td>\n",
       "      <td>Irma</td>\n",
       "    </tr>\n",
       "    <tr>\n",
       "      <th>3</th>\n",
       "      <td>2004-09-06 20:00:00.000</td>\n",
       "      <td>-75.28900</td>\n",
       "      <td>40.77433</td>\n",
       "      <td>Cathartes aura</td>\n",
       "      <td>52067</td>\n",
       "      <td>Irma</td>\n",
       "    </tr>\n",
       "    <tr>\n",
       "      <th>4</th>\n",
       "      <td>2004-09-07 00:00:00.000</td>\n",
       "      <td>-75.28900</td>\n",
       "      <td>40.77417</td>\n",
       "      <td>Cathartes aura</td>\n",
       "      <td>52067</td>\n",
       "      <td>Irma</td>\n",
       "    </tr>\n",
       "  </tbody>\n",
       "</table>\n",
       "</div>"
      ],
      "text/plain": [
       "                 timestamp  location-long  location-lat  \\\n",
       "0  2004-09-06 17:00:00.000      -75.28533      40.77800   \n",
       "1  2004-09-06 18:00:00.000      -75.28533      40.77817   \n",
       "2  2004-09-06 19:00:00.000      -75.28933      40.77433   \n",
       "3  2004-09-06 20:00:00.000      -75.28900      40.77433   \n",
       "4  2004-09-07 00:00:00.000      -75.28900      40.77417   \n",
       "\n",
       "  individual-taxon-canonical-name  tag-local-identifier  \\\n",
       "0                  Cathartes aura                 52067   \n",
       "1                  Cathartes aura                 52067   \n",
       "2                  Cathartes aura                 52067   \n",
       "3                  Cathartes aura                 52067   \n",
       "4                  Cathartes aura                 52067   \n",
       "\n",
       "  individual-local-identifier  \n",
       "0                        Irma  \n",
       "1                        Irma  \n",
       "2                        Irma  \n",
       "3                        Irma  \n",
       "4                        Irma  "
      ]
     },
     "execution_count": 14,
     "metadata": {},
     "output_type": "execute_result"
    }
   ],
   "source": [
    "# Select columns \n",
    "new_vulture_data_df = vulture_data_df[['timestamp', 'location-long', 'location-lat','individual-taxon-canonical-name', 'tag-local-identifier',\n",
    "       'individual-local-identifier']].copy()\n",
    "new_vulture_data_df.head()"
   ]
  },
  {
   "cell_type": "markdown",
   "metadata": {},
   "source": [
    "### Clean DataFrame"
   ]
  },
  {
   "cell_type": "code",
   "execution_count": 19,
   "metadata": {},
   "outputs": [
    {
     "data": {
      "text/plain": [
       "timestamp                          686382\n",
       "location-long                      684217\n",
       "location-lat                       684217\n",
       "individual-taxon-canonical-name    686382\n",
       "tag-local-identifier               686382\n",
       "individual-local-identifier        686382\n",
       "dtype: int64"
      ]
     },
     "execution_count": 19,
     "metadata": {},
     "output_type": "execute_result"
    }
   ],
   "source": [
    "new_vulture_data_df.count()"
   ]
  },
  {
   "cell_type": "code",
   "execution_count": 22,
   "metadata": {},
   "outputs": [
    {
     "data": {
      "text/plain": [
       "timestamp                          684217\n",
       "location-long                      684217\n",
       "location-lat                       684217\n",
       "individual-taxon-canonical-name    684217\n",
       "tag-local-identifier               684217\n",
       "individual-local-identifier        684217\n",
       "dtype: int64"
      ]
     },
     "execution_count": 22,
     "metadata": {},
     "output_type": "execute_result"
    }
   ],
   "source": [
    "# drop rows without long and lat\n",
    "new_vulture_data_df = new_vulture_data_df.dropna(how=\"any\")\n",
    "new_vulture_data_df.count()"
   ]
  },
  {
   "cell_type": "code",
   "execution_count": 25,
   "metadata": {},
   "outputs": [
    {
     "data": {
      "text/plain": [
       "timestamp                          548655\n",
       "location-long                      548655\n",
       "location-lat                       548655\n",
       "individual-taxon-canonical-name    548655\n",
       "tag-local-identifier               548655\n",
       "individual-local-identifier        548655\n",
       "dtype: int64"
      ]
     },
     "execution_count": 25,
     "metadata": {},
     "output_type": "execute_result"
    }
   ],
   "source": [
    "# filter data to only keep turkey vulture (Cathartes aura) data\n",
    "new_vulture_data_df = new_vulture_data_df.loc[new_vulture_data_df\n",
    "                                              [\"individual-taxon-canonical-name\"] == \"Cathartes aura\", :]\n",
    "new_vulture_data_df.count()"
   ]
  },
  {
   "cell_type": "code",
   "execution_count": 23,
   "metadata": {},
   "outputs": [
    {
     "data": {
      "text/plain": [
       "timestamp                           object\n",
       "location-long                      float64\n",
       "location-lat                       float64\n",
       "individual-taxon-canonical-name     object\n",
       "tag-local-identifier                 int64\n",
       "individual-local-identifier         object\n",
       "dtype: object"
      ]
     },
     "execution_count": 23,
     "metadata": {},
     "output_type": "execute_result"
    }
   ],
   "source": [
    "new_vulture_data_df.dtypes"
   ]
  },
  {
   "cell_type": "code",
   "execution_count": null,
   "metadata": {},
   "outputs": [],
   "source": [
    "# check to prevent duplicate loading (inqury for database)"
   ]
  },
  {
   "cell_type": "code",
   "execution_count": null,
   "metadata": {},
   "outputs": [],
   "source": []
  },
  {
   "cell_type": "code",
   "execution_count": null,
   "metadata": {},
   "outputs": [],
   "source": []
  },
  {
   "cell_type": "markdown",
   "metadata": {},
   "source": [
    "### Store Info CSV to DataFrame"
   ]
  },
  {
   "cell_type": "markdown",
   "metadata": {},
   "source": [
    "### Connect to local database"
   ]
  },
  {
   "cell_type": "markdown",
   "metadata": {},
   "source": [
    "### Connect to local database"
   ]
  },
  {
   "cell_type": "code",
   "execution_count": null,
   "metadata": {},
   "outputs": [],
   "source": [
    "database_path = \"etl\"\n",
    "engine = create_engine(f\"sqlite:///{database_path}\")"
   ]
  },
  {
   "cell_type": "markdown",
   "metadata": {},
   "source": [
    "### Check for tables"
   ]
  },
  {
   "cell_type": "code",
   "execution_count": null,
   "metadata": {},
   "outputs": [],
   "source": [
    "engine.table_names()"
   ]
  },
  {
   "cell_type": "markdown",
   "metadata": {},
   "source": [
    "### Use pandas to load csv converted DataFrame into database"
   ]
  },
  {
   "cell_type": "code",
   "execution_count": null,
   "metadata": {},
   "outputs": [],
   "source": [
    "new_customer_data_df.to_sql(name='customer_name', con=engine, if_exists='append', index=False)"
   ]
  },
  {
   "cell_type": "markdown",
   "metadata": {},
   "source": [
    "### Use pandas to load json converted DataFrame into database"
   ]
  },
  {
   "cell_type": "code",
   "execution_count": null,
   "metadata": {},
   "outputs": [],
   "source": [
    "new_customer_location_df.to_sql(name='customer_location', con=engine, if_exists='append', index=False)"
   ]
  },
  {
   "cell_type": "markdown",
   "metadata": {},
   "source": [
    "### Confirm data has been added by querying the customer_name table\n",
    "* NOTE: can also check using pgAdmin"
   ]
  },
  {
   "cell_type": "code",
   "execution_count": null,
   "metadata": {},
   "outputs": [],
   "source": [
    "pd.read_sql_query('select * from customer_name', con=engine).head()"
   ]
  },
  {
   "cell_type": "markdown",
   "metadata": {},
   "source": [
    "### Confirm data has been added by querying the customer_location table"
   ]
  },
  {
   "cell_type": "code",
   "execution_count": null,
   "metadata": {},
   "outputs": [],
   "source": [
    "pd.read_sql_query('select * from customer_location', con=engine).head()"
   ]
  },
  {
   "cell_type": "code",
   "execution_count": null,
   "metadata": {},
   "outputs": [],
   "source": []
  }
 ],
 "metadata": {
  "kernelspec": {
   "display_name": "Python 3",
   "language": "python",
   "name": "python3"
  },
  "language_info": {
   "codemirror_mode": {
    "name": "ipython",
    "version": 3
   },
   "file_extension": ".py",
   "mimetype": "text/x-python",
   "name": "python",
   "nbconvert_exporter": "python",
   "pygments_lexer": "ipython3",
   "version": "3.7.1"
  },
  "nteract": {
   "version": "0.12.3"
  }
 },
 "nbformat": 4,
 "nbformat_minor": 2
}
