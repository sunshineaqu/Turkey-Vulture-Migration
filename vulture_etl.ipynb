{
 "cells": [
  {
   "cell_type": "code",
   "execution_count": 1,
   "metadata": {},
   "outputs": [],
   "source": [
    "import pandas as pd\n",
    "from sqlalchemy import create_engine"
   ]
  },
  {
   "cell_type": "markdown",
   "metadata": {
    "slideshow": {
     "slide_type": "-"
    }
   },
   "source": [
    "### Store CSV into DataFrame"
   ]
  },
  {
   "cell_type": "code",
   "execution_count": 7,
   "metadata": {},
   "outputs": [
    {
     "data": {
      "text/html": [
       "<div>\n",
       "<style scoped>\n",
       "    .dataframe tbody tr th:only-of-type {\n",
       "        vertical-align: middle;\n",
       "    }\n",
       "\n",
       "    .dataframe tbody tr th {\n",
       "        vertical-align: top;\n",
       "    }\n",
       "\n",
       "    .dataframe thead th {\n",
       "        text-align: right;\n",
       "    }\n",
       "</style>\n",
       "<table border=\"1\" class=\"dataframe\">\n",
       "  <thead>\n",
       "    <tr style=\"text-align: right;\">\n",
       "      <th></th>\n",
       "      <th>tag-id</th>\n",
       "      <th>animal-id</th>\n",
       "      <th>animal-taxon</th>\n",
       "      <th>deploy-on-date</th>\n",
       "      <th>deploy-off-date</th>\n",
       "      <th>animal-comments</th>\n",
       "      <th>animal-life-stage</th>\n",
       "      <th>animal-mass</th>\n",
       "      <th>attachment-type</th>\n",
       "      <th>deployment-comments</th>\n",
       "      <th>deployment-id</th>\n",
       "      <th>duty-cycle</th>\n",
       "      <th>study-site</th>\n",
       "      <th>tag-manufacturer-name</th>\n",
       "      <th>tag-mass</th>\n",
       "      <th>tag-model</th>\n",
       "    </tr>\n",
       "  </thead>\n",
       "  <tbody>\n",
       "    <tr>\n",
       "      <th>0</th>\n",
       "      <td>42500</td>\n",
       "      <td>Butterball</td>\n",
       "      <td>Cathartes aura</td>\n",
       "      <td>2003-11-14 16:00:00.000</td>\n",
       "      <td>2004-03-14 20:00:01.000</td>\n",
       "      <td>migratory</td>\n",
       "      <td>adult</td>\n",
       "      <td>2372.0</td>\n",
       "      <td>harness</td>\n",
       "      <td>trapped in Pennsylvania using padded-leg hold ...</td>\n",
       "      <td>42500-Butterball</td>\n",
       "      <td>1 fix per hour</td>\n",
       "      <td>East Coast of North America</td>\n",
       "      <td>Microwave Telemetry</td>\n",
       "      <td>70.0</td>\n",
       "      <td>PTT100</td>\n",
       "    </tr>\n",
       "    <tr>\n",
       "      <th>1</th>\n",
       "      <td>52067</td>\n",
       "      <td>Irma</td>\n",
       "      <td>Cathartes aura</td>\n",
       "      <td>2004-09-06 17:00:00.000</td>\n",
       "      <td>2013-03-18 22:00:01.000</td>\n",
       "      <td>non-migratory</td>\n",
       "      <td>adult</td>\n",
       "      <td>2012.0</td>\n",
       "      <td>harness</td>\n",
       "      <td>trapped in Pennsylvania using padded-leg hold ...</td>\n",
       "      <td>52067-Irma</td>\n",
       "      <td>1 fix per hour</td>\n",
       "      <td>East Coast of North America</td>\n",
       "      <td>Microwave Telemetry</td>\n",
       "      <td>70.0</td>\n",
       "      <td>PTT100</td>\n",
       "    </tr>\n",
       "    <tr>\n",
       "      <th>2</th>\n",
       "      <td>42500</td>\n",
       "      <td>Schaumboch</td>\n",
       "      <td>Cathartes aura</td>\n",
       "      <td>2004-10-08 15:00:00.000</td>\n",
       "      <td>2006-03-29 17:00:01.000</td>\n",
       "      <td>migratory</td>\n",
       "      <td>adult</td>\n",
       "      <td>1951.0</td>\n",
       "      <td>harness</td>\n",
       "      <td>trapped in Pennsylvania using padded-leg hold ...</td>\n",
       "      <td>42500-Schaumboch</td>\n",
       "      <td>1 fix per hour</td>\n",
       "      <td>East Coast of North America</td>\n",
       "      <td>Microwave Telemetry</td>\n",
       "      <td>70.0</td>\n",
       "      <td>PTT100</td>\n",
       "    </tr>\n",
       "    <tr>\n",
       "      <th>3</th>\n",
       "      <td>52069</td>\n",
       "      <td>Disney</td>\n",
       "      <td>Cathartes aura</td>\n",
       "      <td>2004-10-11 14:00:00.000</td>\n",
       "      <td>2011-10-18 23:00:01.000</td>\n",
       "      <td>migratory</td>\n",
       "      <td>adult</td>\n",
       "      <td>2108.0</td>\n",
       "      <td>harness</td>\n",
       "      <td>trapped in Pennsylvania using padded-leg hold ...</td>\n",
       "      <td>52069-Disney</td>\n",
       "      <td>1 fix per hour</td>\n",
       "      <td>East Coast of North America</td>\n",
       "      <td>Microwave Telemetry</td>\n",
       "      <td>70.0</td>\n",
       "      <td>PTT100</td>\n",
       "    </tr>\n",
       "    <tr>\n",
       "      <th>4</th>\n",
       "      <td>57954</td>\n",
       "      <td>Prado</td>\n",
       "      <td>Cathartes aura</td>\n",
       "      <td>2005-11-02 15:00:00.000</td>\n",
       "      <td>2009-07-07 00:00:01.000</td>\n",
       "      <td>non-migratory</td>\n",
       "      <td>adult</td>\n",
       "      <td>1710.0</td>\n",
       "      <td>harness</td>\n",
       "      <td>trapped in California using walk-in traps</td>\n",
       "      <td>57954-Prado</td>\n",
       "      <td>1 fix per hour</td>\n",
       "      <td>West Coast of North America</td>\n",
       "      <td>Microwave Telemetry</td>\n",
       "      <td>70.0</td>\n",
       "      <td>PTT100</td>\n",
       "    </tr>\n",
       "  </tbody>\n",
       "</table>\n",
       "</div>"
      ],
      "text/plain": [
       "   tag-id   animal-id    animal-taxon           deploy-on-date  \\\n",
       "0   42500  Butterball  Cathartes aura  2003-11-14 16:00:00.000   \n",
       "1   52067        Irma  Cathartes aura  2004-09-06 17:00:00.000   \n",
       "2   42500  Schaumboch  Cathartes aura  2004-10-08 15:00:00.000   \n",
       "3   52069      Disney  Cathartes aura  2004-10-11 14:00:00.000   \n",
       "4   57954       Prado  Cathartes aura  2005-11-02 15:00:00.000   \n",
       "\n",
       "           deploy-off-date animal-comments animal-life-stage  animal-mass  \\\n",
       "0  2004-03-14 20:00:01.000       migratory             adult       2372.0   \n",
       "1  2013-03-18 22:00:01.000   non-migratory             adult       2012.0   \n",
       "2  2006-03-29 17:00:01.000       migratory             adult       1951.0   \n",
       "3  2011-10-18 23:00:01.000       migratory             adult       2108.0   \n",
       "4  2009-07-07 00:00:01.000   non-migratory             adult       1710.0   \n",
       "\n",
       "  attachment-type                                deployment-comments  \\\n",
       "0         harness  trapped in Pennsylvania using padded-leg hold ...   \n",
       "1         harness  trapped in Pennsylvania using padded-leg hold ...   \n",
       "2         harness  trapped in Pennsylvania using padded-leg hold ...   \n",
       "3         harness  trapped in Pennsylvania using padded-leg hold ...   \n",
       "4         harness          trapped in California using walk-in traps   \n",
       "\n",
       "      deployment-id      duty-cycle                   study-site  \\\n",
       "0  42500-Butterball  1 fix per hour  East Coast of North America   \n",
       "1        52067-Irma  1 fix per hour  East Coast of North America   \n",
       "2  42500-Schaumboch  1 fix per hour  East Coast of North America   \n",
       "3      52069-Disney  1 fix per hour  East Coast of North America   \n",
       "4       57954-Prado  1 fix per hour  West Coast of North America   \n",
       "\n",
       "  tag-manufacturer-name  tag-mass tag-model  \n",
       "0   Microwave Telemetry      70.0    PTT100  \n",
       "1   Microwave Telemetry      70.0    PTT100  \n",
       "2   Microwave Telemetry      70.0    PTT100  \n",
       "3   Microwave Telemetry      70.0    PTT100  \n",
       "4   Microwave Telemetry      70.0    PTT100  "
      ]
     },
     "execution_count": 7,
     "metadata": {},
     "output_type": "execute_result"
    }
   ],
   "source": [
    "csv_file = \"Resources/Turkey vultures in North and South America-reference-data.csv\"\n",
    "vulture_data_df = pd.read_csv(csv_file, low_memory=False)\n",
    "vulture_data_df.head()"
   ]
  },
  {
   "cell_type": "code",
   "execution_count": 8,
   "metadata": {},
   "outputs": [
    {
     "data": {
      "text/plain": [
       "Index(['tag-id', 'animal-id', 'animal-taxon', 'deploy-on-date',\n",
       "       'deploy-off-date', 'animal-comments', 'animal-life-stage',\n",
       "       'animal-mass', 'attachment-type', 'deployment-comments',\n",
       "       'deployment-id', 'duty-cycle', 'study-site', 'tag-manufacturer-name',\n",
       "       'tag-mass', 'tag-model'],\n",
       "      dtype='object')"
      ]
     },
     "execution_count": 8,
     "metadata": {},
     "output_type": "execute_result"
    }
   ],
   "source": [
    "vulture_data_df.keys()"
   ]
  },
  {
   "cell_type": "markdown",
   "metadata": {},
   "source": [
    "### Create new data with select columns"
   ]
  },
  {
   "cell_type": "code",
   "execution_count": 10,
   "metadata": {},
   "outputs": [
    {
     "ename": "KeyError",
     "evalue": "\"['timestamp' 'location-long' 'location-lat'\\n 'individual-taxon-canonical-name' 'tag-local-identifier'\\n 'individual-local-identifier'] not in index\"",
     "output_type": "error",
     "traceback": [
      "\u001b[1;31m---------------------------------------------------------------------------\u001b[0m",
      "\u001b[1;31mKeyError\u001b[0m                                  Traceback (most recent call last)",
      "\u001b[1;32m<ipython-input-10-003e323340ed>\u001b[0m in \u001b[0;36m<module>\u001b[1;34m\u001b[0m\n\u001b[0;32m      1\u001b[0m \u001b[1;31m# Select columns\u001b[0m\u001b[1;33m\u001b[0m\u001b[1;33m\u001b[0m\u001b[1;33m\u001b[0m\u001b[0m\n\u001b[0;32m      2\u001b[0m new_vulture_data_df = vulture_data_df[['timestamp', 'location-long', 'location-lat','individual-taxon-canonical-name', 'tag-local-identifier',\n\u001b[1;32m----> 3\u001b[1;33m        'individual-local-identifier']].copy()\n\u001b[0m\u001b[0;32m      4\u001b[0m \u001b[0mnew_vulture_data_df\u001b[0m\u001b[1;33m.\u001b[0m\u001b[0mhead\u001b[0m\u001b[1;33m(\u001b[0m\u001b[1;33m)\u001b[0m\u001b[1;33m\u001b[0m\u001b[1;33m\u001b[0m\u001b[0m\n",
      "\u001b[1;32m~\\Anaconda3\\lib\\site-packages\\pandas\\core\\frame.py\u001b[0m in \u001b[0;36m__getitem__\u001b[1;34m(self, key)\u001b[0m\n\u001b[0;32m   2680\u001b[0m         \u001b[1;32mif\u001b[0m \u001b[0misinstance\u001b[0m\u001b[1;33m(\u001b[0m\u001b[0mkey\u001b[0m\u001b[1;33m,\u001b[0m \u001b[1;33m(\u001b[0m\u001b[0mSeries\u001b[0m\u001b[1;33m,\u001b[0m \u001b[0mnp\u001b[0m\u001b[1;33m.\u001b[0m\u001b[0mndarray\u001b[0m\u001b[1;33m,\u001b[0m \u001b[0mIndex\u001b[0m\u001b[1;33m,\u001b[0m \u001b[0mlist\u001b[0m\u001b[1;33m)\u001b[0m\u001b[1;33m)\u001b[0m\u001b[1;33m:\u001b[0m\u001b[1;33m\u001b[0m\u001b[1;33m\u001b[0m\u001b[0m\n\u001b[0;32m   2681\u001b[0m             \u001b[1;31m# either boolean or fancy integer index\u001b[0m\u001b[1;33m\u001b[0m\u001b[1;33m\u001b[0m\u001b[1;33m\u001b[0m\u001b[0m\n\u001b[1;32m-> 2682\u001b[1;33m             \u001b[1;32mreturn\u001b[0m \u001b[0mself\u001b[0m\u001b[1;33m.\u001b[0m\u001b[0m_getitem_array\u001b[0m\u001b[1;33m(\u001b[0m\u001b[0mkey\u001b[0m\u001b[1;33m)\u001b[0m\u001b[1;33m\u001b[0m\u001b[1;33m\u001b[0m\u001b[0m\n\u001b[0m\u001b[0;32m   2683\u001b[0m         \u001b[1;32melif\u001b[0m \u001b[0misinstance\u001b[0m\u001b[1;33m(\u001b[0m\u001b[0mkey\u001b[0m\u001b[1;33m,\u001b[0m \u001b[0mDataFrame\u001b[0m\u001b[1;33m)\u001b[0m\u001b[1;33m:\u001b[0m\u001b[1;33m\u001b[0m\u001b[1;33m\u001b[0m\u001b[0m\n\u001b[0;32m   2684\u001b[0m             \u001b[1;32mreturn\u001b[0m \u001b[0mself\u001b[0m\u001b[1;33m.\u001b[0m\u001b[0m_getitem_frame\u001b[0m\u001b[1;33m(\u001b[0m\u001b[0mkey\u001b[0m\u001b[1;33m)\u001b[0m\u001b[1;33m\u001b[0m\u001b[1;33m\u001b[0m\u001b[0m\n",
      "\u001b[1;32m~\\Anaconda3\\lib\\site-packages\\pandas\\core\\frame.py\u001b[0m in \u001b[0;36m_getitem_array\u001b[1;34m(self, key)\u001b[0m\n\u001b[0;32m   2724\u001b[0m             \u001b[1;32mreturn\u001b[0m \u001b[0mself\u001b[0m\u001b[1;33m.\u001b[0m\u001b[0m_take\u001b[0m\u001b[1;33m(\u001b[0m\u001b[0mindexer\u001b[0m\u001b[1;33m,\u001b[0m \u001b[0maxis\u001b[0m\u001b[1;33m=\u001b[0m\u001b[1;36m0\u001b[0m\u001b[1;33m)\u001b[0m\u001b[1;33m\u001b[0m\u001b[1;33m\u001b[0m\u001b[0m\n\u001b[0;32m   2725\u001b[0m         \u001b[1;32melse\u001b[0m\u001b[1;33m:\u001b[0m\u001b[1;33m\u001b[0m\u001b[1;33m\u001b[0m\u001b[0m\n\u001b[1;32m-> 2726\u001b[1;33m             \u001b[0mindexer\u001b[0m \u001b[1;33m=\u001b[0m \u001b[0mself\u001b[0m\u001b[1;33m.\u001b[0m\u001b[0mloc\u001b[0m\u001b[1;33m.\u001b[0m\u001b[0m_convert_to_indexer\u001b[0m\u001b[1;33m(\u001b[0m\u001b[0mkey\u001b[0m\u001b[1;33m,\u001b[0m \u001b[0maxis\u001b[0m\u001b[1;33m=\u001b[0m\u001b[1;36m1\u001b[0m\u001b[1;33m)\u001b[0m\u001b[1;33m\u001b[0m\u001b[1;33m\u001b[0m\u001b[0m\n\u001b[0m\u001b[0;32m   2727\u001b[0m             \u001b[1;32mreturn\u001b[0m \u001b[0mself\u001b[0m\u001b[1;33m.\u001b[0m\u001b[0m_take\u001b[0m\u001b[1;33m(\u001b[0m\u001b[0mindexer\u001b[0m\u001b[1;33m,\u001b[0m \u001b[0maxis\u001b[0m\u001b[1;33m=\u001b[0m\u001b[1;36m1\u001b[0m\u001b[1;33m)\u001b[0m\u001b[1;33m\u001b[0m\u001b[1;33m\u001b[0m\u001b[0m\n\u001b[0;32m   2728\u001b[0m \u001b[1;33m\u001b[0m\u001b[0m\n",
      "\u001b[1;32m~\\Anaconda3\\lib\\site-packages\\pandas\\core\\indexing.py\u001b[0m in \u001b[0;36m_convert_to_indexer\u001b[1;34m(self, obj, axis, is_setter)\u001b[0m\n\u001b[0;32m   1325\u001b[0m                 \u001b[1;32mif\u001b[0m \u001b[0mmask\u001b[0m\u001b[1;33m.\u001b[0m\u001b[0many\u001b[0m\u001b[1;33m(\u001b[0m\u001b[1;33m)\u001b[0m\u001b[1;33m:\u001b[0m\u001b[1;33m\u001b[0m\u001b[1;33m\u001b[0m\u001b[0m\n\u001b[0;32m   1326\u001b[0m                     raise KeyError('{mask} not in index'\n\u001b[1;32m-> 1327\u001b[1;33m                                    .format(mask=objarr[mask]))\n\u001b[0m\u001b[0;32m   1328\u001b[0m \u001b[1;33m\u001b[0m\u001b[0m\n\u001b[0;32m   1329\u001b[0m                 \u001b[1;32mreturn\u001b[0m \u001b[0mcom\u001b[0m\u001b[1;33m.\u001b[0m\u001b[0m_values_from_object\u001b[0m\u001b[1;33m(\u001b[0m\u001b[0mindexer\u001b[0m\u001b[1;33m)\u001b[0m\u001b[1;33m\u001b[0m\u001b[1;33m\u001b[0m\u001b[0m\n",
      "\u001b[1;31mKeyError\u001b[0m: \"['timestamp' 'location-long' 'location-lat'\\n 'individual-taxon-canonical-name' 'tag-local-identifier'\\n 'individual-local-identifier'] not in index\""
     ]
    }
   ],
   "source": [
    "# Select columns \n",
    "new_vulture_data_df = vulture_data_df[['timestamp', 'location-long', 'location-lat','individual-taxon-canonical-name', 'tag-local-identifier',\n",
    "       'individual-local-identifier']].copy()\n",
    "new_vulture_data_df.head()"
   ]
  },
  {
   "cell_type": "markdown",
   "metadata": {},
   "source": [
    "### Clean DataFrame"
   ]
  },
  {
   "cell_type": "code",
   "execution_count": null,
   "metadata": {},
   "outputs": [],
   "source": [
    "new_vulture_data_df.count()"
   ]
  },
  {
   "cell_type": "code",
   "execution_count": null,
   "metadata": {},
   "outputs": [],
   "source": [
    "# drop rows without long and lat\n",
    "new_vulture_data_df = new_vulture_data_df.dropna(how=\"any\")\n",
    "new_vulture_data_df.count()"
   ]
  },
  {
   "cell_type": "code",
   "execution_count": null,
   "metadata": {},
   "outputs": [],
   "source": [
    "# filter data to only keep turkey vulture (Cathartes aura) data\n",
    "new_vulture_data_df = new_vulture_data_df.loc[new_vulture_data_df\n",
    "                                              [\"individual-taxon-canonical-name\"] == \"Cathartes aura\", :]\n",
    "new_vulture_data_df.count()"
   ]
  },
  {
   "cell_type": "code",
   "execution_count": null,
   "metadata": {},
   "outputs": [],
   "source": [
    "new_vulture_data_df.dtypes"
   ]
  },
  {
   "cell_type": "code",
   "execution_count": null,
   "metadata": {},
   "outputs": [],
   "source": [
    "# check to prevent duplicate loading (inqury for database)"
   ]
  },
  {
   "cell_type": "code",
   "execution_count": null,
   "metadata": {},
   "outputs": [],
   "source": []
  },
  {
   "cell_type": "code",
   "execution_count": null,
   "metadata": {},
   "outputs": [],
   "source": []
  },
  {
   "cell_type": "markdown",
   "metadata": {},
   "source": [
    "### Store Info CSV to DataFrame"
   ]
  },
  {
   "cell_type": "markdown",
   "metadata": {},
   "source": [
    "### Connect to local database"
   ]
  },
  {
   "cell_type": "markdown",
   "metadata": {},
   "source": [
    "### Connect to local database"
   ]
  },
  {
   "cell_type": "code",
   "execution_count": null,
   "metadata": {},
   "outputs": [],
   "source": [
    "database_path = \"etl\"\n",
    "engine = create_engine(f\"sqlite:///{database_path}\")"
   ]
  },
  {
   "cell_type": "markdown",
   "metadata": {},
   "source": [
    "### Check for tables"
   ]
  },
  {
   "cell_type": "code",
   "execution_count": null,
   "metadata": {},
   "outputs": [],
   "source": [
    "engine.table_names()"
   ]
  },
  {
   "cell_type": "markdown",
   "metadata": {},
   "source": [
    "### Use pandas to load csv converted DataFrame into database"
   ]
  },
  {
   "cell_type": "code",
   "execution_count": null,
   "metadata": {},
   "outputs": [],
   "source": [
    "new_customer_data_df.to_sql(name='customer_name', con=engine, if_exists='append', index=False)"
   ]
  },
  {
   "cell_type": "markdown",
   "metadata": {},
   "source": [
    "### Use pandas to load json converted DataFrame into database"
   ]
  },
  {
   "cell_type": "code",
   "execution_count": null,
   "metadata": {},
   "outputs": [],
   "source": [
    "new_customer_location_df.to_sql(name='customer_location', con=engine, if_exists='append', index=False)"
   ]
  },
  {
   "cell_type": "markdown",
   "metadata": {},
   "source": [
    "### Confirm data has been added by querying the customer_name table\n",
    "* NOTE: can also check using pgAdmin"
   ]
  },
  {
   "cell_type": "code",
   "execution_count": null,
   "metadata": {},
   "outputs": [],
   "source": [
    "pd.read_sql_query('select * from customer_name', con=engine).head()"
   ]
  },
  {
   "cell_type": "markdown",
   "metadata": {},
   "source": [
    "### Confirm data has been added by querying the customer_location table"
   ]
  },
  {
   "cell_type": "code",
   "execution_count": null,
   "metadata": {},
   "outputs": [],
   "source": [
    "pd.read_sql_query('select * from customer_location', con=engine).head()"
   ]
  },
  {
   "cell_type": "code",
   "execution_count": null,
   "metadata": {},
   "outputs": [],
   "source": []
  }
 ],
 "metadata": {
  "kernelspec": {
   "display_name": "Python 3",
   "language": "python",
   "name": "python3"
  },
  "language_info": {
   "codemirror_mode": {
    "name": "ipython",
    "version": 3
   },
   "file_extension": ".py",
   "mimetype": "text/x-python",
   "name": "python",
   "nbconvert_exporter": "python",
   "pygments_lexer": "ipython3",
   "version": "3.7.1"
  },
  "nteract": {
   "version": "0.12.3"
  }
 },
 "nbformat": 4,
 "nbformat_minor": 2
}
