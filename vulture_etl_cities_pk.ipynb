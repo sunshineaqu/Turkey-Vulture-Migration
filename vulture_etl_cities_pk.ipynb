{
 "cells": [
  {
   "cell_type": "code",
   "execution_count": 1,
   "metadata": {},
   "outputs": [],
   "source": [
    "import pandas as pd\n",
    "from sqlalchemy import create_engine"
   ]
  },
  {
   "cell_type": "markdown",
   "metadata": {
    "slideshow": {
     "slide_type": "-"
    }
   },
   "source": [
    "# 1. Creat the initial DB (clean and load)"
   ]
  },
  {
   "cell_type": "markdown",
   "metadata": {},
   "source": [
    "## 1.1 Prepare Migration Dataset using pandas"
   ]
  },
  {
   "cell_type": "markdown",
   "metadata": {},
   "source": [
    "### 1.1.1 Read the data"
   ]
  },
  {
   "cell_type": "code",
   "execution_count": 2,
   "metadata": {},
   "outputs": [
    {
     "data": {
      "text/html": [
       "<div>\n",
       "<style scoped>\n",
       "    .dataframe tbody tr th:only-of-type {\n",
       "        vertical-align: middle;\n",
       "    }\n",
       "\n",
       "    .dataframe tbody tr th {\n",
       "        vertical-align: top;\n",
       "    }\n",
       "\n",
       "    .dataframe thead th {\n",
       "        text-align: right;\n",
       "    }\n",
       "</style>\n",
       "<table border=\"1\" class=\"dataframe\">\n",
       "  <thead>\n",
       "    <tr style=\"text-align: right;\">\n",
       "      <th></th>\n",
       "      <th>event-id</th>\n",
       "      <th>visible</th>\n",
       "      <th>timestamp</th>\n",
       "      <th>location-long</th>\n",
       "      <th>location-lat</th>\n",
       "      <th>manually-marked-outlier</th>\n",
       "      <th>sensor-type</th>\n",
       "      <th>individual-taxon-canonical-name</th>\n",
       "      <th>tag-local-identifier</th>\n",
       "      <th>individual-local-identifier</th>\n",
       "      <th>...</th>\n",
       "      <th>animal-life-stage</th>\n",
       "      <th>animal-mass</th>\n",
       "      <th>attachment-type</th>\n",
       "      <th>deployment-comments</th>\n",
       "      <th>deployment-id</th>\n",
       "      <th>duty-cycle</th>\n",
       "      <th>study-site</th>\n",
       "      <th>tag-manufacturer-name</th>\n",
       "      <th>tag-mass</th>\n",
       "      <th>tag-model</th>\n",
       "    </tr>\n",
       "  </thead>\n",
       "  <tbody>\n",
       "    <tr>\n",
       "      <th>0</th>\n",
       "      <td>283203879</td>\n",
       "      <td>True</td>\n",
       "      <td>2003-11-14 16:00:00.000</td>\n",
       "      <td>-75.39717</td>\n",
       "      <td>40.48933</td>\n",
       "      <td>False</td>\n",
       "      <td>gps</td>\n",
       "      <td>Cathartes aura</td>\n",
       "      <td>42500</td>\n",
       "      <td>Butterball</td>\n",
       "      <td>...</td>\n",
       "      <td>adult</td>\n",
       "      <td>2372.0</td>\n",
       "      <td>harness</td>\n",
       "      <td>trapped in Pennsylvania using padded-leg hold ...</td>\n",
       "      <td>42500-Butterball</td>\n",
       "      <td>1 fix per hour</td>\n",
       "      <td>East Coast of North America</td>\n",
       "      <td>Microwave Telemetry</td>\n",
       "      <td>70</td>\n",
       "      <td>PTT100</td>\n",
       "    </tr>\n",
       "    <tr>\n",
       "      <th>1</th>\n",
       "      <td>283203880</td>\n",
       "      <td>True</td>\n",
       "      <td>2003-11-14 17:00:00.000</td>\n",
       "      <td>-75.39717</td>\n",
       "      <td>40.48933</td>\n",
       "      <td>False</td>\n",
       "      <td>gps</td>\n",
       "      <td>Cathartes aura</td>\n",
       "      <td>42500</td>\n",
       "      <td>Butterball</td>\n",
       "      <td>...</td>\n",
       "      <td>adult</td>\n",
       "      <td>2372.0</td>\n",
       "      <td>harness</td>\n",
       "      <td>trapped in Pennsylvania using padded-leg hold ...</td>\n",
       "      <td>42500-Butterball</td>\n",
       "      <td>1 fix per hour</td>\n",
       "      <td>East Coast of North America</td>\n",
       "      <td>Microwave Telemetry</td>\n",
       "      <td>70</td>\n",
       "      <td>PTT100</td>\n",
       "    </tr>\n",
       "  </tbody>\n",
       "</table>\n",
       "<p>2 rows × 32 columns</p>\n",
       "</div>"
      ],
      "text/plain": [
       "    event-id  visible                timestamp  location-long  location-lat  \\\n",
       "0  283203879     True  2003-11-14 16:00:00.000      -75.39717      40.48933   \n",
       "1  283203880     True  2003-11-14 17:00:00.000      -75.39717      40.48933   \n",
       "\n",
       "   manually-marked-outlier sensor-type individual-taxon-canonical-name  \\\n",
       "0                    False         gps                  Cathartes aura   \n",
       "1                    False         gps                  Cathartes aura   \n",
       "\n",
       "   tag-local-identifier individual-local-identifier    ...     \\\n",
       "0                 42500                  Butterball    ...      \n",
       "1                 42500                  Butterball    ...      \n",
       "\n",
       "  animal-life-stage  animal-mass  attachment-type  \\\n",
       "0             adult       2372.0          harness   \n",
       "1             adult       2372.0          harness   \n",
       "\n",
       "                                 deployment-comments     deployment-id  \\\n",
       "0  trapped in Pennsylvania using padded-leg hold ...  42500-Butterball   \n",
       "1  trapped in Pennsylvania using padded-leg hold ...  42500-Butterball   \n",
       "\n",
       "       duty-cycle                   study-site tag-manufacturer-name tag-mass  \\\n",
       "0  1 fix per hour  East Coast of North America   Microwave Telemetry       70   \n",
       "1  1 fix per hour  East Coast of North America   Microwave Telemetry       70   \n",
       "\n",
       "  tag-model  \n",
       "0    PTT100  \n",
       "1    PTT100  \n",
       "\n",
       "[2 rows x 32 columns]"
      ]
     },
     "execution_count": 2,
     "metadata": {},
     "output_type": "execute_result"
    }
   ],
   "source": [
    "excel_file = \"Resources/Turkey vultures in North and South America - migration.xlsx\"\n",
    "vulture_data_df = pd.read_excel(excel_file, index_col=None)\n",
    "vulture_data_df.head(2)"
   ]
  },
  {
   "cell_type": "code",
   "execution_count": 3,
   "metadata": {},
   "outputs": [
    {
     "data": {
      "text/plain": [
       "Index(['event-id', 'visible', 'timestamp', 'location-long', 'location-lat',\n",
       "       'manually-marked-outlier', 'sensor-type',\n",
       "       'individual-taxon-canonical-name', 'tag-local-identifier',\n",
       "       'individual-local-identifier', 'study-name', 'utm-easting',\n",
       "       'utm-northing', 'utm-zone', 'study-timezone', 'study-local-timestamp',\n",
       "       'tag-id', 'animal-id', 'animal-taxon', 'deploy-on-date',\n",
       "       'deploy-off-date', 'animal-comments', 'animal-life-stage',\n",
       "       'animal-mass', 'attachment-type', 'deployment-comments',\n",
       "       'deployment-id', 'duty-cycle', 'study-site', 'tag-manufacturer-name',\n",
       "       'tag-mass', 'tag-model'],\n",
       "      dtype='object')"
      ]
     },
     "execution_count": 3,
     "metadata": {},
     "output_type": "execute_result"
    }
   ],
   "source": [
    "vulture_data_df.keys()\n",
    "# vulture_data_df.columns"
   ]
  },
  {
   "cell_type": "markdown",
   "metadata": {},
   "source": [
    "### 1.1.2 Select columns, and change column names"
   ]
  },
  {
   "cell_type": "code",
   "execution_count": 4,
   "metadata": {},
   "outputs": [
    {
     "data": {
      "text/html": [
       "<div>\n",
       "<style scoped>\n",
       "    .dataframe tbody tr th:only-of-type {\n",
       "        vertical-align: middle;\n",
       "    }\n",
       "\n",
       "    .dataframe tbody tr th {\n",
       "        vertical-align: top;\n",
       "    }\n",
       "\n",
       "    .dataframe thead th {\n",
       "        text-align: right;\n",
       "    }\n",
       "</style>\n",
       "<table border=\"1\" class=\"dataframe\">\n",
       "  <thead>\n",
       "    <tr style=\"text-align: right;\">\n",
       "      <th></th>\n",
       "      <th>event-id</th>\n",
       "      <th>timestamp</th>\n",
       "      <th>location-long</th>\n",
       "      <th>location-lat</th>\n",
       "      <th>individual-taxon-canonical-name</th>\n",
       "      <th>tag-local-identifier</th>\n",
       "      <th>individual-local-identifier</th>\n",
       "    </tr>\n",
       "  </thead>\n",
       "  <tbody>\n",
       "    <tr>\n",
       "      <th>0</th>\n",
       "      <td>283203879</td>\n",
       "      <td>2003-11-14 16:00:00.000</td>\n",
       "      <td>-75.39717</td>\n",
       "      <td>40.48933</td>\n",
       "      <td>Cathartes aura</td>\n",
       "      <td>42500</td>\n",
       "      <td>Butterball</td>\n",
       "    </tr>\n",
       "    <tr>\n",
       "      <th>1</th>\n",
       "      <td>283203880</td>\n",
       "      <td>2003-11-14 17:00:00.000</td>\n",
       "      <td>-75.39717</td>\n",
       "      <td>40.48933</td>\n",
       "      <td>Cathartes aura</td>\n",
       "      <td>42500</td>\n",
       "      <td>Butterball</td>\n",
       "    </tr>\n",
       "    <tr>\n",
       "      <th>2</th>\n",
       "      <td>283203881</td>\n",
       "      <td>2003-11-14 18:00:00.000</td>\n",
       "      <td>-75.33317</td>\n",
       "      <td>40.32467</td>\n",
       "      <td>Cathartes aura</td>\n",
       "      <td>42500</td>\n",
       "      <td>Butterball</td>\n",
       "    </tr>\n",
       "    <tr>\n",
       "      <th>3</th>\n",
       "      <td>283203882</td>\n",
       "      <td>2003-11-14 19:00:00.000</td>\n",
       "      <td>-75.35617</td>\n",
       "      <td>40.33983</td>\n",
       "      <td>Cathartes aura</td>\n",
       "      <td>42500</td>\n",
       "      <td>Butterball</td>\n",
       "    </tr>\n",
       "    <tr>\n",
       "      <th>4</th>\n",
       "      <td>283203883</td>\n",
       "      <td>2003-11-14 20:00:00.000</td>\n",
       "      <td>-75.42650</td>\n",
       "      <td>40.31550</td>\n",
       "      <td>Cathartes aura</td>\n",
       "      <td>42500</td>\n",
       "      <td>Butterball</td>\n",
       "    </tr>\n",
       "  </tbody>\n",
       "</table>\n",
       "</div>"
      ],
      "text/plain": [
       "    event-id                timestamp  location-long  location-lat  \\\n",
       "0  283203879  2003-11-14 16:00:00.000      -75.39717      40.48933   \n",
       "1  283203880  2003-11-14 17:00:00.000      -75.39717      40.48933   \n",
       "2  283203881  2003-11-14 18:00:00.000      -75.33317      40.32467   \n",
       "3  283203882  2003-11-14 19:00:00.000      -75.35617      40.33983   \n",
       "4  283203883  2003-11-14 20:00:00.000      -75.42650      40.31550   \n",
       "\n",
       "  individual-taxon-canonical-name  tag-local-identifier  \\\n",
       "0                  Cathartes aura                 42500   \n",
       "1                  Cathartes aura                 42500   \n",
       "2                  Cathartes aura                 42500   \n",
       "3                  Cathartes aura                 42500   \n",
       "4                  Cathartes aura                 42500   \n",
       "\n",
       "  individual-local-identifier  \n",
       "0                  Butterball  \n",
       "1                  Butterball  \n",
       "2                  Butterball  \n",
       "3                  Butterball  \n",
       "4                  Butterball  "
      ]
     },
     "execution_count": 4,
     "metadata": {},
     "output_type": "execute_result"
    }
   ],
   "source": [
    "# Select columns \n",
    "new_vulture_data_df = vulture_data_df[['event-id', 'timestamp', 'location-long', 'location-lat','individual-taxon-canonical-name', 'tag-local-identifier',\n",
    "       'individual-local-identifier']].copy()\n",
    "new_vulture_data_df.head()"
   ]
  },
  {
   "cell_type": "code",
   "execution_count": 5,
   "metadata": {},
   "outputs": [
    {
     "data": {
      "text/html": [
       "<div>\n",
       "<style scoped>\n",
       "    .dataframe tbody tr th:only-of-type {\n",
       "        vertical-align: middle;\n",
       "    }\n",
       "\n",
       "    .dataframe tbody tr th {\n",
       "        vertical-align: top;\n",
       "    }\n",
       "\n",
       "    .dataframe thead th {\n",
       "        text-align: right;\n",
       "    }\n",
       "</style>\n",
       "<table border=\"1\" class=\"dataframe\">\n",
       "  <thead>\n",
       "    <tr style=\"text-align: right;\">\n",
       "      <th></th>\n",
       "      <th>event_id</th>\n",
       "      <th>timestamp</th>\n",
       "      <th>location_long</th>\n",
       "      <th>location_lat</th>\n",
       "      <th>animal_taxon</th>\n",
       "      <th>tag_id</th>\n",
       "      <th>animal_id</th>\n",
       "    </tr>\n",
       "  </thead>\n",
       "  <tbody>\n",
       "    <tr>\n",
       "      <th>0</th>\n",
       "      <td>283203879</td>\n",
       "      <td>2003-11-14 16:00:00.000</td>\n",
       "      <td>-75.39717</td>\n",
       "      <td>40.48933</td>\n",
       "      <td>Cathartes aura</td>\n",
       "      <td>42500</td>\n",
       "      <td>Butterball</td>\n",
       "    </tr>\n",
       "    <tr>\n",
       "      <th>1</th>\n",
       "      <td>283203880</td>\n",
       "      <td>2003-11-14 17:00:00.000</td>\n",
       "      <td>-75.39717</td>\n",
       "      <td>40.48933</td>\n",
       "      <td>Cathartes aura</td>\n",
       "      <td>42500</td>\n",
       "      <td>Butterball</td>\n",
       "    </tr>\n",
       "    <tr>\n",
       "      <th>2</th>\n",
       "      <td>283203881</td>\n",
       "      <td>2003-11-14 18:00:00.000</td>\n",
       "      <td>-75.33317</td>\n",
       "      <td>40.32467</td>\n",
       "      <td>Cathartes aura</td>\n",
       "      <td>42500</td>\n",
       "      <td>Butterball</td>\n",
       "    </tr>\n",
       "    <tr>\n",
       "      <th>3</th>\n",
       "      <td>283203882</td>\n",
       "      <td>2003-11-14 19:00:00.000</td>\n",
       "      <td>-75.35617</td>\n",
       "      <td>40.33983</td>\n",
       "      <td>Cathartes aura</td>\n",
       "      <td>42500</td>\n",
       "      <td>Butterball</td>\n",
       "    </tr>\n",
       "    <tr>\n",
       "      <th>4</th>\n",
       "      <td>283203883</td>\n",
       "      <td>2003-11-14 20:00:00.000</td>\n",
       "      <td>-75.42650</td>\n",
       "      <td>40.31550</td>\n",
       "      <td>Cathartes aura</td>\n",
       "      <td>42500</td>\n",
       "      <td>Butterball</td>\n",
       "    </tr>\n",
       "  </tbody>\n",
       "</table>\n",
       "</div>"
      ],
      "text/plain": [
       "    event_id                timestamp  location_long  location_lat  \\\n",
       "0  283203879  2003-11-14 16:00:00.000      -75.39717      40.48933   \n",
       "1  283203880  2003-11-14 17:00:00.000      -75.39717      40.48933   \n",
       "2  283203881  2003-11-14 18:00:00.000      -75.33317      40.32467   \n",
       "3  283203882  2003-11-14 19:00:00.000      -75.35617      40.33983   \n",
       "4  283203883  2003-11-14 20:00:00.000      -75.42650      40.31550   \n",
       "\n",
       "     animal_taxon  tag_id   animal_id  \n",
       "0  Cathartes aura   42500  Butterball  \n",
       "1  Cathartes aura   42500  Butterball  \n",
       "2  Cathartes aura   42500  Butterball  \n",
       "3  Cathartes aura   42500  Butterball  \n",
       "4  Cathartes aura   42500  Butterball  "
      ]
     },
     "execution_count": 5,
     "metadata": {},
     "output_type": "execute_result"
    }
   ],
   "source": [
    "#????? change column name ('-' is not compatible in a lot of system)\n",
    "#also change the column name of the following so consisten with the other info datasets 'individual_taxon_canonical_name', 'tag_local_identifier','individual_local_identifier'to 'animal_taxon','tag_id', 'animal_id'\n",
    "\n",
    "new_vulture_data_df.columns = ['event_id', 'timestamp', 'location_long', 'location_lat',\n",
    "                               'animal_taxon', 'tag_id','animal_id']\n",
    "new_vulture_data_df.head()"
   ]
  },
  {
   "cell_type": "markdown",
   "metadata": {},
   "source": [
    "### 1.1.3 Clean DataFrame: drop NA, filter"
   ]
  },
  {
   "cell_type": "code",
   "execution_count": 6,
   "metadata": {},
   "outputs": [
    {
     "data": {
      "text/plain": [
       "event_id         220077\n",
       "timestamp        220077\n",
       "location_long    220077\n",
       "location_lat     220077\n",
       "animal_taxon     220077\n",
       "tag_id           220077\n",
       "animal_id        220077\n",
       "dtype: int64"
      ]
     },
     "execution_count": 6,
     "metadata": {},
     "output_type": "execute_result"
    }
   ],
   "source": [
    "new_vulture_data_df.count()"
   ]
  },
  {
   "cell_type": "code",
   "execution_count": 7,
   "metadata": {},
   "outputs": [
    {
     "data": {
      "text/plain": [
       "event_id         220077\n",
       "timestamp        220077\n",
       "location_long    220077\n",
       "location_lat     220077\n",
       "animal_taxon     220077\n",
       "tag_id           220077\n",
       "animal_id        220077\n",
       "dtype: int64"
      ]
     },
     "execution_count": 7,
     "metadata": {},
     "output_type": "execute_result"
    }
   ],
   "source": [
    "# drop rows without long and lat\n",
    "new_vulture_data_df = new_vulture_data_df.dropna(how=\"any\")\n",
    "new_vulture_data_df.count()"
   ]
  },
  {
   "cell_type": "code",
   "execution_count": 8,
   "metadata": {},
   "outputs": [
    {
     "data": {
      "text/plain": [
       "event_id         220077\n",
       "timestamp        220077\n",
       "location_long    220077\n",
       "location_lat     220077\n",
       "animal_taxon     220077\n",
       "tag_id           220077\n",
       "animal_id        220077\n",
       "dtype: int64"
      ]
     },
     "execution_count": 8,
     "metadata": {},
     "output_type": "execute_result"
    }
   ],
   "source": [
    "# filter data to only keep turkey vulture (Cathartes aura) data\n",
    "new_vulture_data_df = new_vulture_data_df.loc[new_vulture_data_df\n",
    "                                              ['animal_taxon'] == \"Cathartes aura\", :]\n",
    "new_vulture_data_df.count()"
   ]
  },
  {
   "cell_type": "code",
   "execution_count": 9,
   "metadata": {},
   "outputs": [],
   "source": [
    "# new_vulture_data_df.set_index(\"event_id\")"
   ]
  },
  {
   "cell_type": "code",
   "execution_count": 10,
   "metadata": {},
   "outputs": [
    {
     "data": {
      "text/plain": [
       "event_id           int64\n",
       "timestamp         object\n",
       "location_long    float64\n",
       "location_lat     float64\n",
       "animal_taxon      object\n",
       "tag_id             int64\n",
       "animal_id         object\n",
       "dtype: object"
      ]
     },
     "execution_count": 10,
     "metadata": {},
     "output_type": "execute_result"
    }
   ],
   "source": [
    "new_vulture_data_df.dtypes"
   ]
  },
  {
   "cell_type": "markdown",
   "metadata": {},
   "source": [
    "## 1.2 Prepare Vulture Info Dataset using pandas"
   ]
  },
  {
   "cell_type": "code",
   "execution_count": 11,
   "metadata": {},
   "outputs": [
    {
     "data": {
      "text/html": [
       "<div>\n",
       "<style scoped>\n",
       "    .dataframe tbody tr th:only-of-type {\n",
       "        vertical-align: middle;\n",
       "    }\n",
       "\n",
       "    .dataframe tbody tr th {\n",
       "        vertical-align: top;\n",
       "    }\n",
       "\n",
       "    .dataframe thead th {\n",
       "        text-align: right;\n",
       "    }\n",
       "</style>\n",
       "<table border=\"1\" class=\"dataframe\">\n",
       "  <thead>\n",
       "    <tr style=\"text-align: right;\">\n",
       "      <th></th>\n",
       "      <th>tag-id</th>\n",
       "      <th>animal-id</th>\n",
       "      <th>animal-taxon</th>\n",
       "      <th>deploy-on-date</th>\n",
       "      <th>deploy-off-date</th>\n",
       "      <th>animal-comments</th>\n",
       "      <th>animal-life-stage</th>\n",
       "      <th>animal-mass</th>\n",
       "      <th>attachment-type</th>\n",
       "      <th>deployment-comments</th>\n",
       "      <th>deployment-id</th>\n",
       "      <th>duty-cycle</th>\n",
       "      <th>study-site</th>\n",
       "      <th>tag-manufacturer-name</th>\n",
       "      <th>tag-mass</th>\n",
       "      <th>tag-model</th>\n",
       "    </tr>\n",
       "  </thead>\n",
       "  <tbody>\n",
       "    <tr>\n",
       "      <th>0</th>\n",
       "      <td>42500</td>\n",
       "      <td>Butterball</td>\n",
       "      <td>Cathartes aura</td>\n",
       "      <td>2003-11-14 16:00:00.000</td>\n",
       "      <td>2004-03-14 20:00:01.000</td>\n",
       "      <td>migratory</td>\n",
       "      <td>adult</td>\n",
       "      <td>2372.0</td>\n",
       "      <td>harness</td>\n",
       "      <td>trapped in Pennsylvania using padded-leg hold ...</td>\n",
       "      <td>42500-Butterball</td>\n",
       "      <td>1 fix per hour</td>\n",
       "      <td>East Coast of North America</td>\n",
       "      <td>Microwave Telemetry</td>\n",
       "      <td>70.0</td>\n",
       "      <td>PTT100</td>\n",
       "    </tr>\n",
       "    <tr>\n",
       "      <th>1</th>\n",
       "      <td>52067</td>\n",
       "      <td>Irma</td>\n",
       "      <td>Cathartes aura</td>\n",
       "      <td>2004-09-06 17:00:00.000</td>\n",
       "      <td>2013-03-18 22:00:01.000</td>\n",
       "      <td>non-migratory</td>\n",
       "      <td>adult</td>\n",
       "      <td>2012.0</td>\n",
       "      <td>harness</td>\n",
       "      <td>trapped in Pennsylvania using padded-leg hold ...</td>\n",
       "      <td>52067-Irma</td>\n",
       "      <td>1 fix per hour</td>\n",
       "      <td>East Coast of North America</td>\n",
       "      <td>Microwave Telemetry</td>\n",
       "      <td>70.0</td>\n",
       "      <td>PTT100</td>\n",
       "    </tr>\n",
       "    <tr>\n",
       "      <th>2</th>\n",
       "      <td>42500</td>\n",
       "      <td>Schaumboch</td>\n",
       "      <td>Cathartes aura</td>\n",
       "      <td>2004-10-08 15:00:00.000</td>\n",
       "      <td>2006-03-29 17:00:01.000</td>\n",
       "      <td>migratory</td>\n",
       "      <td>adult</td>\n",
       "      <td>1951.0</td>\n",
       "      <td>harness</td>\n",
       "      <td>trapped in Pennsylvania using padded-leg hold ...</td>\n",
       "      <td>42500-Schaumboch</td>\n",
       "      <td>1 fix per hour</td>\n",
       "      <td>East Coast of North America</td>\n",
       "      <td>Microwave Telemetry</td>\n",
       "      <td>70.0</td>\n",
       "      <td>PTT100</td>\n",
       "    </tr>\n",
       "    <tr>\n",
       "      <th>3</th>\n",
       "      <td>52069</td>\n",
       "      <td>Disney</td>\n",
       "      <td>Cathartes aura</td>\n",
       "      <td>2004-10-11 14:00:00.000</td>\n",
       "      <td>2011-10-18 23:00:01.000</td>\n",
       "      <td>migratory</td>\n",
       "      <td>adult</td>\n",
       "      <td>2108.0</td>\n",
       "      <td>harness</td>\n",
       "      <td>trapped in Pennsylvania using padded-leg hold ...</td>\n",
       "      <td>52069-Disney</td>\n",
       "      <td>1 fix per hour</td>\n",
       "      <td>East Coast of North America</td>\n",
       "      <td>Microwave Telemetry</td>\n",
       "      <td>70.0</td>\n",
       "      <td>PTT100</td>\n",
       "    </tr>\n",
       "    <tr>\n",
       "      <th>4</th>\n",
       "      <td>57954</td>\n",
       "      <td>Prado</td>\n",
       "      <td>Cathartes aura</td>\n",
       "      <td>2005-11-02 15:00:00.000</td>\n",
       "      <td>2009-07-07 00:00:01.000</td>\n",
       "      <td>non-migratory</td>\n",
       "      <td>adult</td>\n",
       "      <td>1710.0</td>\n",
       "      <td>harness</td>\n",
       "      <td>trapped in California using walk-in traps</td>\n",
       "      <td>57954-Prado</td>\n",
       "      <td>1 fix per hour</td>\n",
       "      <td>West Coast of North America</td>\n",
       "      <td>Microwave Telemetry</td>\n",
       "      <td>70.0</td>\n",
       "      <td>PTT100</td>\n",
       "    </tr>\n",
       "  </tbody>\n",
       "</table>\n",
       "</div>"
      ],
      "text/plain": [
       "   tag-id   animal-id    animal-taxon           deploy-on-date  \\\n",
       "0   42500  Butterball  Cathartes aura  2003-11-14 16:00:00.000   \n",
       "1   52067        Irma  Cathartes aura  2004-09-06 17:00:00.000   \n",
       "2   42500  Schaumboch  Cathartes aura  2004-10-08 15:00:00.000   \n",
       "3   52069      Disney  Cathartes aura  2004-10-11 14:00:00.000   \n",
       "4   57954       Prado  Cathartes aura  2005-11-02 15:00:00.000   \n",
       "\n",
       "           deploy-off-date animal-comments animal-life-stage  animal-mass  \\\n",
       "0  2004-03-14 20:00:01.000       migratory             adult       2372.0   \n",
       "1  2013-03-18 22:00:01.000   non-migratory             adult       2012.0   \n",
       "2  2006-03-29 17:00:01.000       migratory             adult       1951.0   \n",
       "3  2011-10-18 23:00:01.000       migratory             adult       2108.0   \n",
       "4  2009-07-07 00:00:01.000   non-migratory             adult       1710.0   \n",
       "\n",
       "  attachment-type                                deployment-comments  \\\n",
       "0         harness  trapped in Pennsylvania using padded-leg hold ...   \n",
       "1         harness  trapped in Pennsylvania using padded-leg hold ...   \n",
       "2         harness  trapped in Pennsylvania using padded-leg hold ...   \n",
       "3         harness  trapped in Pennsylvania using padded-leg hold ...   \n",
       "4         harness          trapped in California using walk-in traps   \n",
       "\n",
       "      deployment-id      duty-cycle                   study-site  \\\n",
       "0  42500-Butterball  1 fix per hour  East Coast of North America   \n",
       "1        52067-Irma  1 fix per hour  East Coast of North America   \n",
       "2  42500-Schaumboch  1 fix per hour  East Coast of North America   \n",
       "3      52069-Disney  1 fix per hour  East Coast of North America   \n",
       "4       57954-Prado  1 fix per hour  West Coast of North America   \n",
       "\n",
       "  tag-manufacturer-name  tag-mass tag-model  \n",
       "0   Microwave Telemetry      70.0    PTT100  \n",
       "1   Microwave Telemetry      70.0    PTT100  \n",
       "2   Microwave Telemetry      70.0    PTT100  \n",
       "3   Microwave Telemetry      70.0    PTT100  \n",
       "4   Microwave Telemetry      70.0    PTT100  "
      ]
     },
     "execution_count": 11,
     "metadata": {},
     "output_type": "execute_result"
    }
   ],
   "source": [
    "# Read data\n",
    "csv_file = \"Resources/Turkey vultures in North and South America-reference-data.csv\"\n",
    "vulture_info_df = pd.read_csv(csv_file, low_memory=False)\n",
    "vulture_info_df.head()"
   ]
  },
  {
   "cell_type": "code",
   "execution_count": 12,
   "metadata": {},
   "outputs": [
    {
     "data": {
      "text/plain": [
       "Index(['tag-id', 'animal-id', 'animal-taxon', 'deploy-on-date',\n",
       "       'deploy-off-date', 'animal-comments', 'animal-life-stage',\n",
       "       'animal-mass', 'attachment-type', 'deployment-comments',\n",
       "       'deployment-id', 'duty-cycle', 'study-site', 'tag-manufacturer-name',\n",
       "       'tag-mass', 'tag-model'],\n",
       "      dtype='object')"
      ]
     },
     "execution_count": 12,
     "metadata": {},
     "output_type": "execute_result"
    }
   ],
   "source": [
    "# Get column names\n",
    "vulture_info_df.columns"
   ]
  },
  {
   "cell_type": "code",
   "execution_count": 13,
   "metadata": {},
   "outputs": [
    {
     "data": {
      "text/html": [
       "<div>\n",
       "<style scoped>\n",
       "    .dataframe tbody tr th:only-of-type {\n",
       "        vertical-align: middle;\n",
       "    }\n",
       "\n",
       "    .dataframe tbody tr th {\n",
       "        vertical-align: top;\n",
       "    }\n",
       "\n",
       "    .dataframe thead th {\n",
       "        text-align: right;\n",
       "    }\n",
       "</style>\n",
       "<table border=\"1\" class=\"dataframe\">\n",
       "  <thead>\n",
       "    <tr style=\"text-align: right;\">\n",
       "      <th></th>\n",
       "      <th>tag-id</th>\n",
       "      <th>animal-id</th>\n",
       "      <th>animal-taxon</th>\n",
       "      <th>deploy-on-date</th>\n",
       "      <th>deploy-off-date</th>\n",
       "      <th>animal-comments</th>\n",
       "      <th>animal-life-stage</th>\n",
       "      <th>animal-mass</th>\n",
       "      <th>deployment-comments</th>\n",
       "      <th>study-site</th>\n",
       "    </tr>\n",
       "  </thead>\n",
       "  <tbody>\n",
       "    <tr>\n",
       "      <th>0</th>\n",
       "      <td>42500</td>\n",
       "      <td>Butterball</td>\n",
       "      <td>Cathartes aura</td>\n",
       "      <td>2003-11-14 16:00:00.000</td>\n",
       "      <td>2004-03-14 20:00:01.000</td>\n",
       "      <td>migratory</td>\n",
       "      <td>adult</td>\n",
       "      <td>2372.0</td>\n",
       "      <td>trapped in Pennsylvania using padded-leg hold ...</td>\n",
       "      <td>East Coast of North America</td>\n",
       "    </tr>\n",
       "  </tbody>\n",
       "</table>\n",
       "</div>"
      ],
      "text/plain": [
       "   tag-id   animal-id    animal-taxon           deploy-on-date  \\\n",
       "0   42500  Butterball  Cathartes aura  2003-11-14 16:00:00.000   \n",
       "\n",
       "           deploy-off-date animal-comments animal-life-stage  animal-mass  \\\n",
       "0  2004-03-14 20:00:01.000       migratory             adult       2372.0   \n",
       "\n",
       "                                 deployment-comments  \\\n",
       "0  trapped in Pennsylvania using padded-leg hold ...   \n",
       "\n",
       "                    study-site  \n",
       "0  East Coast of North America  "
      ]
     },
     "execution_count": 13,
     "metadata": {},
     "output_type": "execute_result"
    }
   ],
   "source": [
    "# Select columns \n",
    "new_vulture_info_df = vulture_info_df[['tag-id', 'animal-id', 'animal-taxon', 'deploy-on-date',\n",
    "       'deploy-off-date', 'animal-comments', 'animal-life-stage',\n",
    "       'animal-mass',  'deployment-comments',\n",
    "        'study-site']].copy()\n",
    "new_vulture_info_df.head(1)"
   ]
  },
  {
   "cell_type": "code",
   "execution_count": 14,
   "metadata": {},
   "outputs": [
    {
     "data": {
      "text/html": [
       "<div>\n",
       "<style scoped>\n",
       "    .dataframe tbody tr th:only-of-type {\n",
       "        vertical-align: middle;\n",
       "    }\n",
       "\n",
       "    .dataframe tbody tr th {\n",
       "        vertical-align: top;\n",
       "    }\n",
       "\n",
       "    .dataframe thead th {\n",
       "        text-align: right;\n",
       "    }\n",
       "</style>\n",
       "<table border=\"1\" class=\"dataframe\">\n",
       "  <thead>\n",
       "    <tr style=\"text-align: right;\">\n",
       "      <th></th>\n",
       "      <th>tag_id</th>\n",
       "      <th>animal_id</th>\n",
       "      <th>animal_taxon</th>\n",
       "      <th>deploy_on_date</th>\n",
       "      <th>deploy_off_date</th>\n",
       "      <th>animal_comments</th>\n",
       "      <th>animal_life_stage</th>\n",
       "      <th>animal_mass</th>\n",
       "      <th>deployment_comments</th>\n",
       "      <th>study_site</th>\n",
       "    </tr>\n",
       "  </thead>\n",
       "  <tbody>\n",
       "    <tr>\n",
       "      <th>0</th>\n",
       "      <td>42500</td>\n",
       "      <td>Butterball</td>\n",
       "      <td>Cathartes aura</td>\n",
       "      <td>2003-11-14 16:00:00.000</td>\n",
       "      <td>2004-03-14 20:00:01.000</td>\n",
       "      <td>migratory</td>\n",
       "      <td>adult</td>\n",
       "      <td>2372.0</td>\n",
       "      <td>trapped in Pennsylvania using padded-leg hold ...</td>\n",
       "      <td>East Coast of North America</td>\n",
       "    </tr>\n",
       "    <tr>\n",
       "      <th>1</th>\n",
       "      <td>52067</td>\n",
       "      <td>Irma</td>\n",
       "      <td>Cathartes aura</td>\n",
       "      <td>2004-09-06 17:00:00.000</td>\n",
       "      <td>2013-03-18 22:00:01.000</td>\n",
       "      <td>non-migratory</td>\n",
       "      <td>adult</td>\n",
       "      <td>2012.0</td>\n",
       "      <td>trapped in Pennsylvania using padded-leg hold ...</td>\n",
       "      <td>East Coast of North America</td>\n",
       "    </tr>\n",
       "    <tr>\n",
       "      <th>2</th>\n",
       "      <td>42500</td>\n",
       "      <td>Schaumboch</td>\n",
       "      <td>Cathartes aura</td>\n",
       "      <td>2004-10-08 15:00:00.000</td>\n",
       "      <td>2006-03-29 17:00:01.000</td>\n",
       "      <td>migratory</td>\n",
       "      <td>adult</td>\n",
       "      <td>1951.0</td>\n",
       "      <td>trapped in Pennsylvania using padded-leg hold ...</td>\n",
       "      <td>East Coast of North America</td>\n",
       "    </tr>\n",
       "    <tr>\n",
       "      <th>3</th>\n",
       "      <td>52069</td>\n",
       "      <td>Disney</td>\n",
       "      <td>Cathartes aura</td>\n",
       "      <td>2004-10-11 14:00:00.000</td>\n",
       "      <td>2011-10-18 23:00:01.000</td>\n",
       "      <td>migratory</td>\n",
       "      <td>adult</td>\n",
       "      <td>2108.0</td>\n",
       "      <td>trapped in Pennsylvania using padded-leg hold ...</td>\n",
       "      <td>East Coast of North America</td>\n",
       "    </tr>\n",
       "    <tr>\n",
       "      <th>4</th>\n",
       "      <td>57954</td>\n",
       "      <td>Prado</td>\n",
       "      <td>Cathartes aura</td>\n",
       "      <td>2005-11-02 15:00:00.000</td>\n",
       "      <td>2009-07-07 00:00:01.000</td>\n",
       "      <td>non-migratory</td>\n",
       "      <td>adult</td>\n",
       "      <td>1710.0</td>\n",
       "      <td>trapped in California using walk-in traps</td>\n",
       "      <td>West Coast of North America</td>\n",
       "    </tr>\n",
       "  </tbody>\n",
       "</table>\n",
       "</div>"
      ],
      "text/plain": [
       "   tag_id   animal_id    animal_taxon           deploy_on_date  \\\n",
       "0   42500  Butterball  Cathartes aura  2003-11-14 16:00:00.000   \n",
       "1   52067        Irma  Cathartes aura  2004-09-06 17:00:00.000   \n",
       "2   42500  Schaumboch  Cathartes aura  2004-10-08 15:00:00.000   \n",
       "3   52069      Disney  Cathartes aura  2004-10-11 14:00:00.000   \n",
       "4   57954       Prado  Cathartes aura  2005-11-02 15:00:00.000   \n",
       "\n",
       "           deploy_off_date animal_comments animal_life_stage  animal_mass  \\\n",
       "0  2004-03-14 20:00:01.000       migratory             adult       2372.0   \n",
       "1  2013-03-18 22:00:01.000   non-migratory             adult       2012.0   \n",
       "2  2006-03-29 17:00:01.000       migratory             adult       1951.0   \n",
       "3  2011-10-18 23:00:01.000       migratory             adult       2108.0   \n",
       "4  2009-07-07 00:00:01.000   non-migratory             adult       1710.0   \n",
       "\n",
       "                                 deployment_comments  \\\n",
       "0  trapped in Pennsylvania using padded-leg hold ...   \n",
       "1  trapped in Pennsylvania using padded-leg hold ...   \n",
       "2  trapped in Pennsylvania using padded-leg hold ...   \n",
       "3  trapped in Pennsylvania using padded-leg hold ...   \n",
       "4          trapped in California using walk-in traps   \n",
       "\n",
       "                    study_site  \n",
       "0  East Coast of North America  \n",
       "1  East Coast of North America  \n",
       "2  East Coast of North America  \n",
       "3  East Coast of North America  \n",
       "4  West Coast of North America  "
      ]
     },
     "execution_count": 14,
     "metadata": {},
     "output_type": "execute_result"
    }
   ],
   "source": [
    "# Change column names ('-' to '_')\n",
    "new_vulture_info_df.columns = ['tag_id', 'animal_id', 'animal_taxon', 'deploy_on_date',\n",
    "       'deploy_off_date', 'animal_comments', 'animal_life_stage',\n",
    "       'animal_mass',  'deployment_comments',\n",
    "        'study_site']\n",
    "new_vulture_info_df.head()"
   ]
  },
  {
   "cell_type": "code",
   "execution_count": 15,
   "metadata": {},
   "outputs": [
    {
     "data": {
      "text/plain": [
       "tag_id                 19\n",
       "animal_id              19\n",
       "animal_taxon           19\n",
       "deploy_on_date         19\n",
       "deploy_off_date        19\n",
       "animal_comments        19\n",
       "animal_life_stage      19\n",
       "animal_mass            12\n",
       "deployment_comments    19\n",
       "study_site             19\n",
       "dtype: int64"
      ]
     },
     "execution_count": 15,
     "metadata": {},
     "output_type": "execute_result"
    }
   ],
   "source": [
    "new_vulture_info_df.count()"
   ]
  },
  {
   "cell_type": "markdown",
   "metadata": {},
   "source": [
    "## 1.3 Create and Load to DB"
   ]
  },
  {
   "cell_type": "markdown",
   "metadata": {},
   "source": [
    "### 1.3.1 Connect to local database"
   ]
  },
  {
   "cell_type": "code",
   "execution_count": 16,
   "metadata": {},
   "outputs": [],
   "source": [
    "database_path = \"vulture_etl\"\n",
    "engine = create_engine(f\"sqlite:///{database_path}\")"
   ]
  },
  {
   "cell_type": "markdown",
   "metadata": {},
   "source": [
    "### 1.3.2 Check for tables and creat new tables"
   ]
  },
  {
   "cell_type": "code",
   "execution_count": 17,
   "metadata": {},
   "outputs": [
    {
     "data": {
      "text/html": [
       "<div>\n",
       "<style scoped>\n",
       "    .dataframe tbody tr th:only-of-type {\n",
       "        vertical-align: middle;\n",
       "    }\n",
       "\n",
       "    .dataframe tbody tr th {\n",
       "        vertical-align: top;\n",
       "    }\n",
       "\n",
       "    .dataframe thead th {\n",
       "        text-align: right;\n",
       "    }\n",
       "</style>\n",
       "<table border=\"1\" class=\"dataframe\">\n",
       "  <thead>\n",
       "    <tr style=\"text-align: right;\">\n",
       "      <th></th>\n",
       "      <th>event_id</th>\n",
       "      <th>timestamp</th>\n",
       "      <th>location_long</th>\n",
       "      <th>location_lat</th>\n",
       "      <th>animal_taxon</th>\n",
       "      <th>tag_id</th>\n",
       "      <th>animal_id</th>\n",
       "    </tr>\n",
       "  </thead>\n",
       "  <tbody>\n",
       "  </tbody>\n",
       "</table>\n",
       "</div>"
      ],
      "text/plain": [
       "Empty DataFrame\n",
       "Columns: [event_id, timestamp, location_long, location_lat, animal_taxon, tag_id, animal_id]\n",
       "Index: []"
      ]
     },
     "execution_count": 17,
     "metadata": {},
     "output_type": "execute_result"
    }
   ],
   "source": [
    "engine.table_names()\n",
    "\n",
    "# ??? SQLite supports a limited subset of ALTER TABLE, add primary keys (https://stackoverflow.com/questions/969187/altering-sqlite-column-type-and-adding-pk-constraint)\n",
    "# trying to create a table with primary key then load it. But the load part (pd.to_sql) keep giving error\n",
    "\n",
    "engine.execute('CREATE TABLE IF NOT EXISTS \"test\" ('\n",
    "                'event_id INTEGER NOT NULL,'\n",
    "               'timestamp VARCHAR,'\n",
    "               'location_long DECIMAL(3,5),'\n",
    "               'location_lat DECIMAL(3,5),'\n",
    "                'animal_taxon VARCHAR,'\n",
    "               'tag_id INTEGER NOT NULL,'\n",
    "               'animal_id VARCHAR,'\n",
    "               'UNIQUE (event_id),'\n",
    "               'PRIMARY KEY (event_id));')\n",
    "\n",
    "pd.read_sql_query('select * from test', con=engine).head()\n",
    "\n",
    "\n",
    "\n",
    "# ????if else to prevent build twice\n",
    "# ??? set foreign key"
   ]
  },
  {
   "cell_type": "markdown",
   "metadata": {},
   "source": [
    "### 1.3.3 Use pandas to load csv converted DataFrame into database"
   ]
  },
  {
   "cell_type": "code",
   "execution_count": 18,
   "metadata": {
    "scrolled": false
   },
   "outputs": [
    {
     "ename": "IntegrityError",
     "evalue": "(sqlite3.IntegrityError) UNIQUE constraint failed: test.event_id [SQL: 'INSERT INTO test (event_id, timestamp, location_long, location_lat, animal_taxon, tag_id, animal_id) VALUES (?, ?, ?, ?, ?, ?, ?)'] [parameters: ((283203879, '2003-11-14 16:00:00.000', -75.39717, 40.48933, 'Cathartes aura', 42500, 'Butterball'), (283203880, '2003-11-14 17:00:00.000', -75.39717, 40.48933, 'Cathartes aura', 42500, 'Butterball'), (283203881, '2003-11-14 18:00:00.000', -75.33317, 40.32467, 'Cathartes aura', 42500, 'Butterball'), (283203882, '2003-11-14 19:00:00.000', -75.35617, 40.33983, 'Cathartes aura', 42500, 'Butterball'), (283203883, '2003-11-14 20:00:00.000', -75.4265, 40.3155, 'Cathartes aura', 42500, 'Butterball'), (283203884, '2003-11-14 21:00:00.000', -75.405, 40.30383, 'Cathartes aura', 42500, 'Butterball'), (283203885, '2003-11-14 22:00:00.000', -75.41133, 40.29567, 'Cathartes aura', 42500, 'Butterball'), (283203886, '2003-11-14 23:00:00.000', -75.41167, 40.29567, 'Cathartes aura', 42500, 'Butterball')  ... displaying 10 of 220077 total bound parameter sets ...  (283231958, '2012-10-21 19:52:00.000', -76.2445, 40.7948, 'Cathartes aura', 85756, 'Mary'), (283231959, '2012-10-21 21:01:00.000', -76.245, 40.7916, 'Cathartes aura', 85756, 'Mary'))] (Background on this error at: http://sqlalche.me/e/gkpj)",
     "output_type": "error",
     "traceback": [
      "\u001b[1;31m---------------------------------------------------------------------------\u001b[0m",
      "\u001b[1;31mIntegrityError\u001b[0m                            Traceback (most recent call last)",
      "\u001b[1;32m~\\Anaconda3\\lib\\site-packages\\sqlalchemy\\engine\\base.py\u001b[0m in \u001b[0;36m_execute_context\u001b[1;34m(self, dialect, constructor, statement, parameters, *args)\u001b[0m\n\u001b[0;32m   1169\u001b[0m                         \u001b[0mparameters\u001b[0m\u001b[1;33m,\u001b[0m\u001b[1;33m\u001b[0m\u001b[1;33m\u001b[0m\u001b[0m\n\u001b[1;32m-> 1170\u001b[1;33m                         context)\n\u001b[0m\u001b[0;32m   1171\u001b[0m             \u001b[1;32melif\u001b[0m \u001b[1;32mnot\u001b[0m \u001b[0mparameters\u001b[0m \u001b[1;32mand\u001b[0m \u001b[0mcontext\u001b[0m\u001b[1;33m.\u001b[0m\u001b[0mno_parameters\u001b[0m\u001b[1;33m:\u001b[0m\u001b[1;33m\u001b[0m\u001b[1;33m\u001b[0m\u001b[0m\n",
      "\u001b[1;32m~\\Anaconda3\\lib\\site-packages\\sqlalchemy\\engine\\default.py\u001b[0m in \u001b[0;36mdo_executemany\u001b[1;34m(self, cursor, statement, parameters, context)\u001b[0m\n\u001b[0;32m    505\u001b[0m     \u001b[1;32mdef\u001b[0m \u001b[0mdo_executemany\u001b[0m\u001b[1;33m(\u001b[0m\u001b[0mself\u001b[0m\u001b[1;33m,\u001b[0m \u001b[0mcursor\u001b[0m\u001b[1;33m,\u001b[0m \u001b[0mstatement\u001b[0m\u001b[1;33m,\u001b[0m \u001b[0mparameters\u001b[0m\u001b[1;33m,\u001b[0m \u001b[0mcontext\u001b[0m\u001b[1;33m=\u001b[0m\u001b[1;32mNone\u001b[0m\u001b[1;33m)\u001b[0m\u001b[1;33m:\u001b[0m\u001b[1;33m\u001b[0m\u001b[1;33m\u001b[0m\u001b[0m\n\u001b[1;32m--> 506\u001b[1;33m         \u001b[0mcursor\u001b[0m\u001b[1;33m.\u001b[0m\u001b[0mexecutemany\u001b[0m\u001b[1;33m(\u001b[0m\u001b[0mstatement\u001b[0m\u001b[1;33m,\u001b[0m \u001b[0mparameters\u001b[0m\u001b[1;33m)\u001b[0m\u001b[1;33m\u001b[0m\u001b[1;33m\u001b[0m\u001b[0m\n\u001b[0m\u001b[0;32m    507\u001b[0m \u001b[1;33m\u001b[0m\u001b[0m\n",
      "\u001b[1;31mIntegrityError\u001b[0m: UNIQUE constraint failed: test.event_id",
      "\nThe above exception was the direct cause of the following exception:\n",
      "\u001b[1;31mIntegrityError\u001b[0m                            Traceback (most recent call last)",
      "\u001b[1;32m<ipython-input-18-8daff5bad8fe>\u001b[0m in \u001b[0;36m<module>\u001b[1;34m\u001b[0m\n\u001b[1;32m----> 1\u001b[1;33m \u001b[0mnew_vulture_data_df\u001b[0m\u001b[1;33m.\u001b[0m\u001b[0mto_sql\u001b[0m\u001b[1;33m(\u001b[0m\u001b[0mname\u001b[0m\u001b[1;33m=\u001b[0m\u001b[1;34m'test'\u001b[0m\u001b[1;33m,\u001b[0m \u001b[0mcon\u001b[0m\u001b[1;33m=\u001b[0m\u001b[0mengine\u001b[0m\u001b[1;33m,\u001b[0m \u001b[0mif_exists\u001b[0m\u001b[1;33m=\u001b[0m\u001b[1;34m'append'\u001b[0m\u001b[1;33m,\u001b[0m \u001b[0mindex\u001b[0m\u001b[1;33m=\u001b[0m\u001b[1;32mFalse\u001b[0m\u001b[1;33m)\u001b[0m\u001b[1;33m\u001b[0m\u001b[1;33m\u001b[0m\u001b[0m\n\u001b[0m",
      "\u001b[1;32m~\\Anaconda3\\lib\\site-packages\\pandas\\core\\generic.py\u001b[0m in \u001b[0;36mto_sql\u001b[1;34m(self, name, con, schema, if_exists, index, index_label, chunksize, dtype)\u001b[0m\n\u001b[0;32m   2128\u001b[0m         sql.to_sql(self, name, con, schema=schema, if_exists=if_exists,\n\u001b[0;32m   2129\u001b[0m                    \u001b[0mindex\u001b[0m\u001b[1;33m=\u001b[0m\u001b[0mindex\u001b[0m\u001b[1;33m,\u001b[0m \u001b[0mindex_label\u001b[0m\u001b[1;33m=\u001b[0m\u001b[0mindex_label\u001b[0m\u001b[1;33m,\u001b[0m \u001b[0mchunksize\u001b[0m\u001b[1;33m=\u001b[0m\u001b[0mchunksize\u001b[0m\u001b[1;33m,\u001b[0m\u001b[1;33m\u001b[0m\u001b[1;33m\u001b[0m\u001b[0m\n\u001b[1;32m-> 2130\u001b[1;33m                    dtype=dtype)\n\u001b[0m\u001b[0;32m   2131\u001b[0m \u001b[1;33m\u001b[0m\u001b[0m\n\u001b[0;32m   2132\u001b[0m     def to_pickle(self, path, compression='infer',\n",
      "\u001b[1;32m~\\Anaconda3\\lib\\site-packages\\pandas\\io\\sql.py\u001b[0m in \u001b[0;36mto_sql\u001b[1;34m(frame, name, con, schema, if_exists, index, index_label, chunksize, dtype)\u001b[0m\n\u001b[0;32m    448\u001b[0m     pandas_sql.to_sql(frame, name, if_exists=if_exists, index=index,\n\u001b[0;32m    449\u001b[0m                       \u001b[0mindex_label\u001b[0m\u001b[1;33m=\u001b[0m\u001b[0mindex_label\u001b[0m\u001b[1;33m,\u001b[0m \u001b[0mschema\u001b[0m\u001b[1;33m=\u001b[0m\u001b[0mschema\u001b[0m\u001b[1;33m,\u001b[0m\u001b[1;33m\u001b[0m\u001b[1;33m\u001b[0m\u001b[0m\n\u001b[1;32m--> 450\u001b[1;33m                       chunksize=chunksize, dtype=dtype)\n\u001b[0m\u001b[0;32m    451\u001b[0m \u001b[1;33m\u001b[0m\u001b[0m\n\u001b[0;32m    452\u001b[0m \u001b[1;33m\u001b[0m\u001b[0m\n",
      "\u001b[1;32m~\\Anaconda3\\lib\\site-packages\\pandas\\io\\sql.py\u001b[0m in \u001b[0;36mto_sql\u001b[1;34m(self, frame, name, if_exists, index, index_label, schema, chunksize, dtype)\u001b[0m\n\u001b[0;32m   1125\u001b[0m                          schema=schema, dtype=dtype)\n\u001b[0;32m   1126\u001b[0m         \u001b[0mtable\u001b[0m\u001b[1;33m.\u001b[0m\u001b[0mcreate\u001b[0m\u001b[1;33m(\u001b[0m\u001b[1;33m)\u001b[0m\u001b[1;33m\u001b[0m\u001b[1;33m\u001b[0m\u001b[0m\n\u001b[1;32m-> 1127\u001b[1;33m         \u001b[0mtable\u001b[0m\u001b[1;33m.\u001b[0m\u001b[0minsert\u001b[0m\u001b[1;33m(\u001b[0m\u001b[0mchunksize\u001b[0m\u001b[1;33m)\u001b[0m\u001b[1;33m\u001b[0m\u001b[1;33m\u001b[0m\u001b[0m\n\u001b[0m\u001b[0;32m   1128\u001b[0m         \u001b[1;32mif\u001b[0m \u001b[1;33m(\u001b[0m\u001b[1;32mnot\u001b[0m \u001b[0mname\u001b[0m\u001b[1;33m.\u001b[0m\u001b[0misdigit\u001b[0m\u001b[1;33m(\u001b[0m\u001b[1;33m)\u001b[0m \u001b[1;32mand\u001b[0m \u001b[1;32mnot\u001b[0m \u001b[0mname\u001b[0m\u001b[1;33m.\u001b[0m\u001b[0mislower\u001b[0m\u001b[1;33m(\u001b[0m\u001b[1;33m)\u001b[0m\u001b[1;33m)\u001b[0m\u001b[1;33m:\u001b[0m\u001b[1;33m\u001b[0m\u001b[1;33m\u001b[0m\u001b[0m\n\u001b[0;32m   1129\u001b[0m             \u001b[1;31m# check for potentially case sensitivity issues (GH7815)\u001b[0m\u001b[1;33m\u001b[0m\u001b[1;33m\u001b[0m\u001b[1;33m\u001b[0m\u001b[0m\n",
      "\u001b[1;32m~\\Anaconda3\\lib\\site-packages\\pandas\\io\\sql.py\u001b[0m in \u001b[0;36minsert\u001b[1;34m(self, chunksize)\u001b[0m\n\u001b[0;32m    639\u001b[0m \u001b[1;33m\u001b[0m\u001b[0m\n\u001b[0;32m    640\u001b[0m                 \u001b[0mchunk_iter\u001b[0m \u001b[1;33m=\u001b[0m \u001b[0mzip\u001b[0m\u001b[1;33m(\u001b[0m\u001b[1;33m*\u001b[0m\u001b[1;33m[\u001b[0m\u001b[0marr\u001b[0m\u001b[1;33m[\u001b[0m\u001b[0mstart_i\u001b[0m\u001b[1;33m:\u001b[0m\u001b[0mend_i\u001b[0m\u001b[1;33m]\u001b[0m \u001b[1;32mfor\u001b[0m \u001b[0marr\u001b[0m \u001b[1;32min\u001b[0m \u001b[0mdata_list\u001b[0m\u001b[1;33m]\u001b[0m\u001b[1;33m)\u001b[0m\u001b[1;33m\u001b[0m\u001b[1;33m\u001b[0m\u001b[0m\n\u001b[1;32m--> 641\u001b[1;33m                 \u001b[0mself\u001b[0m\u001b[1;33m.\u001b[0m\u001b[0m_execute_insert\u001b[0m\u001b[1;33m(\u001b[0m\u001b[0mconn\u001b[0m\u001b[1;33m,\u001b[0m \u001b[0mkeys\u001b[0m\u001b[1;33m,\u001b[0m \u001b[0mchunk_iter\u001b[0m\u001b[1;33m)\u001b[0m\u001b[1;33m\u001b[0m\u001b[1;33m\u001b[0m\u001b[0m\n\u001b[0m\u001b[0;32m    642\u001b[0m \u001b[1;33m\u001b[0m\u001b[0m\n\u001b[0;32m    643\u001b[0m     def _query_iterator(self, result, chunksize, columns, coerce_float=True,\n",
      "\u001b[1;32m~\\Anaconda3\\lib\\site-packages\\pandas\\io\\sql.py\u001b[0m in \u001b[0;36m_execute_insert\u001b[1;34m(self, conn, keys, data_iter)\u001b[0m\n\u001b[0;32m    614\u001b[0m     \u001b[1;32mdef\u001b[0m \u001b[0m_execute_insert\u001b[0m\u001b[1;33m(\u001b[0m\u001b[0mself\u001b[0m\u001b[1;33m,\u001b[0m \u001b[0mconn\u001b[0m\u001b[1;33m,\u001b[0m \u001b[0mkeys\u001b[0m\u001b[1;33m,\u001b[0m \u001b[0mdata_iter\u001b[0m\u001b[1;33m)\u001b[0m\u001b[1;33m:\u001b[0m\u001b[1;33m\u001b[0m\u001b[1;33m\u001b[0m\u001b[0m\n\u001b[0;32m    615\u001b[0m         \u001b[0mdata\u001b[0m \u001b[1;33m=\u001b[0m \u001b[1;33m[\u001b[0m\u001b[1;33m{\u001b[0m\u001b[0mk\u001b[0m\u001b[1;33m:\u001b[0m \u001b[0mv\u001b[0m \u001b[1;32mfor\u001b[0m \u001b[0mk\u001b[0m\u001b[1;33m,\u001b[0m \u001b[0mv\u001b[0m \u001b[1;32min\u001b[0m \u001b[0mzip\u001b[0m\u001b[1;33m(\u001b[0m\u001b[0mkeys\u001b[0m\u001b[1;33m,\u001b[0m \u001b[0mrow\u001b[0m\u001b[1;33m)\u001b[0m\u001b[1;33m}\u001b[0m \u001b[1;32mfor\u001b[0m \u001b[0mrow\u001b[0m \u001b[1;32min\u001b[0m \u001b[0mdata_iter\u001b[0m\u001b[1;33m]\u001b[0m\u001b[1;33m\u001b[0m\u001b[1;33m\u001b[0m\u001b[0m\n\u001b[1;32m--> 616\u001b[1;33m         \u001b[0mconn\u001b[0m\u001b[1;33m.\u001b[0m\u001b[0mexecute\u001b[0m\u001b[1;33m(\u001b[0m\u001b[0mself\u001b[0m\u001b[1;33m.\u001b[0m\u001b[0minsert_statement\u001b[0m\u001b[1;33m(\u001b[0m\u001b[1;33m)\u001b[0m\u001b[1;33m,\u001b[0m \u001b[0mdata\u001b[0m\u001b[1;33m)\u001b[0m\u001b[1;33m\u001b[0m\u001b[1;33m\u001b[0m\u001b[0m\n\u001b[0m\u001b[0;32m    617\u001b[0m \u001b[1;33m\u001b[0m\u001b[0m\n\u001b[0;32m    618\u001b[0m     \u001b[1;32mdef\u001b[0m \u001b[0minsert\u001b[0m\u001b[1;33m(\u001b[0m\u001b[0mself\u001b[0m\u001b[1;33m,\u001b[0m \u001b[0mchunksize\u001b[0m\u001b[1;33m=\u001b[0m\u001b[1;32mNone\u001b[0m\u001b[1;33m)\u001b[0m\u001b[1;33m:\u001b[0m\u001b[1;33m\u001b[0m\u001b[1;33m\u001b[0m\u001b[0m\n",
      "\u001b[1;32m~\\Anaconda3\\lib\\site-packages\\sqlalchemy\\engine\\base.py\u001b[0m in \u001b[0;36mexecute\u001b[1;34m(self, object, *multiparams, **params)\u001b[0m\n\u001b[0;32m    946\u001b[0m             \u001b[1;32mraise\u001b[0m \u001b[0mexc\u001b[0m\u001b[1;33m.\u001b[0m\u001b[0mObjectNotExecutableError\u001b[0m\u001b[1;33m(\u001b[0m\u001b[0mobject\u001b[0m\u001b[1;33m)\u001b[0m\u001b[1;33m\u001b[0m\u001b[1;33m\u001b[0m\u001b[0m\n\u001b[0;32m    947\u001b[0m         \u001b[1;32melse\u001b[0m\u001b[1;33m:\u001b[0m\u001b[1;33m\u001b[0m\u001b[1;33m\u001b[0m\u001b[0m\n\u001b[1;32m--> 948\u001b[1;33m             \u001b[1;32mreturn\u001b[0m \u001b[0mmeth\u001b[0m\u001b[1;33m(\u001b[0m\u001b[0mself\u001b[0m\u001b[1;33m,\u001b[0m \u001b[0mmultiparams\u001b[0m\u001b[1;33m,\u001b[0m \u001b[0mparams\u001b[0m\u001b[1;33m)\u001b[0m\u001b[1;33m\u001b[0m\u001b[1;33m\u001b[0m\u001b[0m\n\u001b[0m\u001b[0;32m    949\u001b[0m \u001b[1;33m\u001b[0m\u001b[0m\n\u001b[0;32m    950\u001b[0m     \u001b[1;32mdef\u001b[0m \u001b[0m_execute_function\u001b[0m\u001b[1;33m(\u001b[0m\u001b[0mself\u001b[0m\u001b[1;33m,\u001b[0m \u001b[0mfunc\u001b[0m\u001b[1;33m,\u001b[0m \u001b[0mmultiparams\u001b[0m\u001b[1;33m,\u001b[0m \u001b[0mparams\u001b[0m\u001b[1;33m)\u001b[0m\u001b[1;33m:\u001b[0m\u001b[1;33m\u001b[0m\u001b[1;33m\u001b[0m\u001b[0m\n",
      "\u001b[1;32m~\\Anaconda3\\lib\\site-packages\\sqlalchemy\\sql\\elements.py\u001b[0m in \u001b[0;36m_execute_on_connection\u001b[1;34m(self, connection, multiparams, params)\u001b[0m\n\u001b[0;32m    267\u001b[0m     \u001b[1;32mdef\u001b[0m \u001b[0m_execute_on_connection\u001b[0m\u001b[1;33m(\u001b[0m\u001b[0mself\u001b[0m\u001b[1;33m,\u001b[0m \u001b[0mconnection\u001b[0m\u001b[1;33m,\u001b[0m \u001b[0mmultiparams\u001b[0m\u001b[1;33m,\u001b[0m \u001b[0mparams\u001b[0m\u001b[1;33m)\u001b[0m\u001b[1;33m:\u001b[0m\u001b[1;33m\u001b[0m\u001b[1;33m\u001b[0m\u001b[0m\n\u001b[0;32m    268\u001b[0m         \u001b[1;32mif\u001b[0m \u001b[0mself\u001b[0m\u001b[1;33m.\u001b[0m\u001b[0msupports_execution\u001b[0m\u001b[1;33m:\u001b[0m\u001b[1;33m\u001b[0m\u001b[1;33m\u001b[0m\u001b[0m\n\u001b[1;32m--> 269\u001b[1;33m             \u001b[1;32mreturn\u001b[0m \u001b[0mconnection\u001b[0m\u001b[1;33m.\u001b[0m\u001b[0m_execute_clauseelement\u001b[0m\u001b[1;33m(\u001b[0m\u001b[0mself\u001b[0m\u001b[1;33m,\u001b[0m \u001b[0mmultiparams\u001b[0m\u001b[1;33m,\u001b[0m \u001b[0mparams\u001b[0m\u001b[1;33m)\u001b[0m\u001b[1;33m\u001b[0m\u001b[1;33m\u001b[0m\u001b[0m\n\u001b[0m\u001b[0;32m    270\u001b[0m         \u001b[1;32melse\u001b[0m\u001b[1;33m:\u001b[0m\u001b[1;33m\u001b[0m\u001b[1;33m\u001b[0m\u001b[0m\n\u001b[0;32m    271\u001b[0m             \u001b[1;32mraise\u001b[0m \u001b[0mexc\u001b[0m\u001b[1;33m.\u001b[0m\u001b[0mObjectNotExecutableError\u001b[0m\u001b[1;33m(\u001b[0m\u001b[0mself\u001b[0m\u001b[1;33m)\u001b[0m\u001b[1;33m\u001b[0m\u001b[1;33m\u001b[0m\u001b[0m\n",
      "\u001b[1;32m~\\Anaconda3\\lib\\site-packages\\sqlalchemy\\engine\\base.py\u001b[0m in \u001b[0;36m_execute_clauseelement\u001b[1;34m(self, elem, multiparams, params)\u001b[0m\n\u001b[0;32m   1058\u001b[0m             \u001b[0mcompiled_sql\u001b[0m\u001b[1;33m,\u001b[0m\u001b[1;33m\u001b[0m\u001b[1;33m\u001b[0m\u001b[0m\n\u001b[0;32m   1059\u001b[0m             \u001b[0mdistilled_params\u001b[0m\u001b[1;33m,\u001b[0m\u001b[1;33m\u001b[0m\u001b[1;33m\u001b[0m\u001b[0m\n\u001b[1;32m-> 1060\u001b[1;33m             \u001b[0mcompiled_sql\u001b[0m\u001b[1;33m,\u001b[0m \u001b[0mdistilled_params\u001b[0m\u001b[1;33m\u001b[0m\u001b[1;33m\u001b[0m\u001b[0m\n\u001b[0m\u001b[0;32m   1061\u001b[0m         )\n\u001b[0;32m   1062\u001b[0m         \u001b[1;32mif\u001b[0m \u001b[0mself\u001b[0m\u001b[1;33m.\u001b[0m\u001b[0m_has_events\u001b[0m \u001b[1;32mor\u001b[0m \u001b[0mself\u001b[0m\u001b[1;33m.\u001b[0m\u001b[0mengine\u001b[0m\u001b[1;33m.\u001b[0m\u001b[0m_has_events\u001b[0m\u001b[1;33m:\u001b[0m\u001b[1;33m\u001b[0m\u001b[1;33m\u001b[0m\u001b[0m\n",
      "\u001b[1;32m~\\Anaconda3\\lib\\site-packages\\sqlalchemy\\engine\\base.py\u001b[0m in \u001b[0;36m_execute_context\u001b[1;34m(self, dialect, constructor, statement, parameters, *args)\u001b[0m\n\u001b[0;32m   1198\u001b[0m                 \u001b[0mparameters\u001b[0m\u001b[1;33m,\u001b[0m\u001b[1;33m\u001b[0m\u001b[1;33m\u001b[0m\u001b[0m\n\u001b[0;32m   1199\u001b[0m                 \u001b[0mcursor\u001b[0m\u001b[1;33m,\u001b[0m\u001b[1;33m\u001b[0m\u001b[1;33m\u001b[0m\u001b[0m\n\u001b[1;32m-> 1200\u001b[1;33m                 context)\n\u001b[0m\u001b[0;32m   1201\u001b[0m \u001b[1;33m\u001b[0m\u001b[0m\n\u001b[0;32m   1202\u001b[0m         \u001b[1;32mif\u001b[0m \u001b[0mself\u001b[0m\u001b[1;33m.\u001b[0m\u001b[0m_has_events\u001b[0m \u001b[1;32mor\u001b[0m \u001b[0mself\u001b[0m\u001b[1;33m.\u001b[0m\u001b[0mengine\u001b[0m\u001b[1;33m.\u001b[0m\u001b[0m_has_events\u001b[0m\u001b[1;33m:\u001b[0m\u001b[1;33m\u001b[0m\u001b[1;33m\u001b[0m\u001b[0m\n",
      "\u001b[1;32m~\\Anaconda3\\lib\\site-packages\\sqlalchemy\\engine\\base.py\u001b[0m in \u001b[0;36m_handle_dbapi_exception\u001b[1;34m(self, e, statement, parameters, cursor, context)\u001b[0m\n\u001b[0;32m   1411\u001b[0m                 util.raise_from_cause(\n\u001b[0;32m   1412\u001b[0m                     \u001b[0msqlalchemy_exception\u001b[0m\u001b[1;33m,\u001b[0m\u001b[1;33m\u001b[0m\u001b[1;33m\u001b[0m\u001b[0m\n\u001b[1;32m-> 1413\u001b[1;33m                     \u001b[0mexc_info\u001b[0m\u001b[1;33m\u001b[0m\u001b[1;33m\u001b[0m\u001b[0m\n\u001b[0m\u001b[0;32m   1414\u001b[0m                 )\n\u001b[0;32m   1415\u001b[0m             \u001b[1;32melse\u001b[0m\u001b[1;33m:\u001b[0m\u001b[1;33m\u001b[0m\u001b[1;33m\u001b[0m\u001b[0m\n",
      "\u001b[1;32m~\\Anaconda3\\lib\\site-packages\\sqlalchemy\\util\\compat.py\u001b[0m in \u001b[0;36mraise_from_cause\u001b[1;34m(exception, exc_info)\u001b[0m\n\u001b[0;32m    263\u001b[0m     \u001b[0mexc_type\u001b[0m\u001b[1;33m,\u001b[0m \u001b[0mexc_value\u001b[0m\u001b[1;33m,\u001b[0m \u001b[0mexc_tb\u001b[0m \u001b[1;33m=\u001b[0m \u001b[0mexc_info\u001b[0m\u001b[1;33m\u001b[0m\u001b[1;33m\u001b[0m\u001b[0m\n\u001b[0;32m    264\u001b[0m     \u001b[0mcause\u001b[0m \u001b[1;33m=\u001b[0m \u001b[0mexc_value\u001b[0m \u001b[1;32mif\u001b[0m \u001b[0mexc_value\u001b[0m \u001b[1;32mis\u001b[0m \u001b[1;32mnot\u001b[0m \u001b[0mexception\u001b[0m \u001b[1;32melse\u001b[0m \u001b[1;32mNone\u001b[0m\u001b[1;33m\u001b[0m\u001b[1;33m\u001b[0m\u001b[0m\n\u001b[1;32m--> 265\u001b[1;33m     \u001b[0mreraise\u001b[0m\u001b[1;33m(\u001b[0m\u001b[0mtype\u001b[0m\u001b[1;33m(\u001b[0m\u001b[0mexception\u001b[0m\u001b[1;33m)\u001b[0m\u001b[1;33m,\u001b[0m \u001b[0mexception\u001b[0m\u001b[1;33m,\u001b[0m \u001b[0mtb\u001b[0m\u001b[1;33m=\u001b[0m\u001b[0mexc_tb\u001b[0m\u001b[1;33m,\u001b[0m \u001b[0mcause\u001b[0m\u001b[1;33m=\u001b[0m\u001b[0mcause\u001b[0m\u001b[1;33m)\u001b[0m\u001b[1;33m\u001b[0m\u001b[1;33m\u001b[0m\u001b[0m\n\u001b[0m\u001b[0;32m    266\u001b[0m \u001b[1;33m\u001b[0m\u001b[0m\n\u001b[0;32m    267\u001b[0m \u001b[1;32mif\u001b[0m \u001b[0mpy3k\u001b[0m\u001b[1;33m:\u001b[0m\u001b[1;33m\u001b[0m\u001b[1;33m\u001b[0m\u001b[0m\n",
      "\u001b[1;32m~\\Anaconda3\\lib\\site-packages\\sqlalchemy\\util\\compat.py\u001b[0m in \u001b[0;36mreraise\u001b[1;34m(tp, value, tb, cause)\u001b[0m\n\u001b[0;32m    246\u001b[0m             \u001b[0mvalue\u001b[0m\u001b[1;33m.\u001b[0m\u001b[0m__cause__\u001b[0m \u001b[1;33m=\u001b[0m \u001b[0mcause\u001b[0m\u001b[1;33m\u001b[0m\u001b[1;33m\u001b[0m\u001b[0m\n\u001b[0;32m    247\u001b[0m         \u001b[1;32mif\u001b[0m \u001b[0mvalue\u001b[0m\u001b[1;33m.\u001b[0m\u001b[0m__traceback__\u001b[0m \u001b[1;32mis\u001b[0m \u001b[1;32mnot\u001b[0m \u001b[0mtb\u001b[0m\u001b[1;33m:\u001b[0m\u001b[1;33m\u001b[0m\u001b[1;33m\u001b[0m\u001b[0m\n\u001b[1;32m--> 248\u001b[1;33m             \u001b[1;32mraise\u001b[0m \u001b[0mvalue\u001b[0m\u001b[1;33m.\u001b[0m\u001b[0mwith_traceback\u001b[0m\u001b[1;33m(\u001b[0m\u001b[0mtb\u001b[0m\u001b[1;33m)\u001b[0m\u001b[1;33m\u001b[0m\u001b[1;33m\u001b[0m\u001b[0m\n\u001b[0m\u001b[0;32m    249\u001b[0m         \u001b[1;32mraise\u001b[0m \u001b[0mvalue\u001b[0m\u001b[1;33m\u001b[0m\u001b[1;33m\u001b[0m\u001b[0m\n\u001b[0;32m    250\u001b[0m \u001b[1;33m\u001b[0m\u001b[0m\n",
      "\u001b[1;32m~\\Anaconda3\\lib\\site-packages\\sqlalchemy\\engine\\base.py\u001b[0m in \u001b[0;36m_execute_context\u001b[1;34m(self, dialect, constructor, statement, parameters, *args)\u001b[0m\n\u001b[0;32m   1168\u001b[0m                         \u001b[0mstatement\u001b[0m\u001b[1;33m,\u001b[0m\u001b[1;33m\u001b[0m\u001b[1;33m\u001b[0m\u001b[0m\n\u001b[0;32m   1169\u001b[0m                         \u001b[0mparameters\u001b[0m\u001b[1;33m,\u001b[0m\u001b[1;33m\u001b[0m\u001b[1;33m\u001b[0m\u001b[0m\n\u001b[1;32m-> 1170\u001b[1;33m                         context)\n\u001b[0m\u001b[0;32m   1171\u001b[0m             \u001b[1;32melif\u001b[0m \u001b[1;32mnot\u001b[0m \u001b[0mparameters\u001b[0m \u001b[1;32mand\u001b[0m \u001b[0mcontext\u001b[0m\u001b[1;33m.\u001b[0m\u001b[0mno_parameters\u001b[0m\u001b[1;33m:\u001b[0m\u001b[1;33m\u001b[0m\u001b[1;33m\u001b[0m\u001b[0m\n\u001b[0;32m   1172\u001b[0m                 \u001b[1;32mif\u001b[0m \u001b[0mself\u001b[0m\u001b[1;33m.\u001b[0m\u001b[0mdialect\u001b[0m\u001b[1;33m.\u001b[0m\u001b[0m_has_events\u001b[0m\u001b[1;33m:\u001b[0m\u001b[1;33m\u001b[0m\u001b[1;33m\u001b[0m\u001b[0m\n",
      "\u001b[1;32m~\\Anaconda3\\lib\\site-packages\\sqlalchemy\\engine\\default.py\u001b[0m in \u001b[0;36mdo_executemany\u001b[1;34m(self, cursor, statement, parameters, context)\u001b[0m\n\u001b[0;32m    504\u001b[0m \u001b[1;33m\u001b[0m\u001b[0m\n\u001b[0;32m    505\u001b[0m     \u001b[1;32mdef\u001b[0m \u001b[0mdo_executemany\u001b[0m\u001b[1;33m(\u001b[0m\u001b[0mself\u001b[0m\u001b[1;33m,\u001b[0m \u001b[0mcursor\u001b[0m\u001b[1;33m,\u001b[0m \u001b[0mstatement\u001b[0m\u001b[1;33m,\u001b[0m \u001b[0mparameters\u001b[0m\u001b[1;33m,\u001b[0m \u001b[0mcontext\u001b[0m\u001b[1;33m=\u001b[0m\u001b[1;32mNone\u001b[0m\u001b[1;33m)\u001b[0m\u001b[1;33m:\u001b[0m\u001b[1;33m\u001b[0m\u001b[1;33m\u001b[0m\u001b[0m\n\u001b[1;32m--> 506\u001b[1;33m         \u001b[0mcursor\u001b[0m\u001b[1;33m.\u001b[0m\u001b[0mexecutemany\u001b[0m\u001b[1;33m(\u001b[0m\u001b[0mstatement\u001b[0m\u001b[1;33m,\u001b[0m \u001b[0mparameters\u001b[0m\u001b[1;33m)\u001b[0m\u001b[1;33m\u001b[0m\u001b[1;33m\u001b[0m\u001b[0m\n\u001b[0m\u001b[0;32m    507\u001b[0m \u001b[1;33m\u001b[0m\u001b[0m\n\u001b[0;32m    508\u001b[0m     \u001b[1;32mdef\u001b[0m \u001b[0mdo_execute\u001b[0m\u001b[1;33m(\u001b[0m\u001b[0mself\u001b[0m\u001b[1;33m,\u001b[0m \u001b[0mcursor\u001b[0m\u001b[1;33m,\u001b[0m \u001b[0mstatement\u001b[0m\u001b[1;33m,\u001b[0m \u001b[0mparameters\u001b[0m\u001b[1;33m,\u001b[0m \u001b[0mcontext\u001b[0m\u001b[1;33m=\u001b[0m\u001b[1;32mNone\u001b[0m\u001b[1;33m)\u001b[0m\u001b[1;33m:\u001b[0m\u001b[1;33m\u001b[0m\u001b[1;33m\u001b[0m\u001b[0m\n",
      "\u001b[1;31mIntegrityError\u001b[0m: (sqlite3.IntegrityError) UNIQUE constraint failed: test.event_id [SQL: 'INSERT INTO test (event_id, timestamp, location_long, location_lat, animal_taxon, tag_id, animal_id) VALUES (?, ?, ?, ?, ?, ?, ?)'] [parameters: ((283203879, '2003-11-14 16:00:00.000', -75.39717, 40.48933, 'Cathartes aura', 42500, 'Butterball'), (283203880, '2003-11-14 17:00:00.000', -75.39717, 40.48933, 'Cathartes aura', 42500, 'Butterball'), (283203881, '2003-11-14 18:00:00.000', -75.33317, 40.32467, 'Cathartes aura', 42500, 'Butterball'), (283203882, '2003-11-14 19:00:00.000', -75.35617, 40.33983, 'Cathartes aura', 42500, 'Butterball'), (283203883, '2003-11-14 20:00:00.000', -75.4265, 40.3155, 'Cathartes aura', 42500, 'Butterball'), (283203884, '2003-11-14 21:00:00.000', -75.405, 40.30383, 'Cathartes aura', 42500, 'Butterball'), (283203885, '2003-11-14 22:00:00.000', -75.41133, 40.29567, 'Cathartes aura', 42500, 'Butterball'), (283203886, '2003-11-14 23:00:00.000', -75.41167, 40.29567, 'Cathartes aura', 42500, 'Butterball')  ... displaying 10 of 220077 total bound parameter sets ...  (283231958, '2012-10-21 19:52:00.000', -76.2445, 40.7948, 'Cathartes aura', 85756, 'Mary'), (283231959, '2012-10-21 21:01:00.000', -76.245, 40.7916, 'Cathartes aura', 85756, 'Mary'))] (Background on this error at: http://sqlalche.me/e/gkpj)"
     ]
    }
   ],
   "source": [
    "new_vulture_data_df.to_sql(name='test', con=engine, if_exists='append', index=False)"
   ]
  },
  {
   "cell_type": "code",
   "execution_count": null,
   "metadata": {},
   "outputs": [],
   "source": [
    "new_vulture_info_df.to_sql(name='vulture_detail', con=engine, if_exists='append', index=False)"
   ]
  },
  {
   "cell_type": "code",
   "execution_count": null,
   "metadata": {},
   "outputs": [],
   "source": [
    "# pd.read_sql_query('SELECT sql FROM sqlite_master WHERE name='migration_paths')\n",
    "                "
   ]
  },
  {
   "cell_type": "code",
   "execution_count": null,
   "metadata": {},
   "outputs": [],
   "source": [
    "engine.execute('alter table migration_paths add primary key('event_id')')"
   ]
  },
  {
   "cell_type": "code",
   "execution_count": null,
   "metadata": {},
   "outputs": [],
   "source": [
    "# with engine.connect() as con:\n",
    "#     con.execute('ALTER TABLE `migration_paths` ADD PRIMARY KEY (`event-id`);')\n",
    "    \n",
    "# con = sqlalchemy.create_engine(url, client_encoding='utf8')\n",
    "engine.execute('alter table migration_paths add primary (`event-id`);')"
   ]
  },
  {
   "cell_type": "code",
   "execution_count": null,
   "metadata": {},
   "outputs": [],
   "source": [
    "pd.read_sql_query('select * from migration_paths', con=engine).head()"
   ]
  },
  {
   "cell_type": "code",
   "execution_count": null,
   "metadata": {},
   "outputs": [],
   "source": [
    "pd.read_sql_query('select * from migration_paths', con=engine).count()"
   ]
  },
  {
   "cell_type": "markdown",
   "metadata": {
    "slideshow": {
     "slide_type": "-"
    }
   },
   "source": [
    "# 2. Load New Data from another Source (Acopian Center)"
   ]
  },
  {
   "cell_type": "markdown",
   "metadata": {},
   "source": [
    "## 2.1 Migration path data"
   ]
  },
  {
   "cell_type": "markdown",
   "metadata": {},
   "source": [
    "### 2.1.1 Read the data"
   ]
  },
  {
   "cell_type": "code",
   "execution_count": null,
   "metadata": {},
   "outputs": [],
   "source": [
    "csv_file = \"Resources/Vultures_Acopian_Center_USA_2003-2016.csv\"\n",
    "vulture_data_df = pd.read_csv(csv_file, index_col=None, low_memory=False)\n",
    "vulture_data_df.head(2)"
   ]
  },
  {
   "cell_type": "code",
   "execution_count": null,
   "metadata": {},
   "outputs": [],
   "source": [
    "vulture_data_df.keys()\n",
    "# vulture_data_df.columns"
   ]
  },
  {
   "cell_type": "markdown",
   "metadata": {},
   "source": [
    "## 2.1.2 Select columns, and change column names"
   ]
  },
  {
   "cell_type": "code",
   "execution_count": null,
   "metadata": {},
   "outputs": [],
   "source": [
    "# Select columns \n",
    "new_vulture_data_df = vulture_data_df[['event-id', 'timestamp', 'location-long', 'location-lat','individual-taxon-canonical-name', 'tag-local-identifier',\n",
    "       'individual-local-identifier']].copy()\n",
    "new_vulture_data_df.head()"
   ]
  },
  {
   "cell_type": "code",
   "execution_count": null,
   "metadata": {},
   "outputs": [],
   "source": [
    "#????? change column name ('-' is not compatible in a lot of system)\n",
    "#also change the column name of the following so consisten with the other info datasets 'individual_taxon_canonical_name', 'tag_local_identifier','individual_local_identifier'to 'animal_taxon','tag_id', 'animal_id'\n",
    "\n",
    "new_vulture_data_df.columns = ['event_id', 'timestamp', 'location_long', 'location_lat',\n",
    "                               'animal_taxon', 'tag_id','animal_id']\n",
    "new_vulture_data_df.head()"
   ]
  },
  {
   "cell_type": "markdown",
   "metadata": {},
   "source": [
    "### 2.1.3 Clean DataFrame: drop NA, filter"
   ]
  },
  {
   "cell_type": "code",
   "execution_count": null,
   "metadata": {},
   "outputs": [],
   "source": [
    "new_vulture_data_df.count()"
   ]
  },
  {
   "cell_type": "code",
   "execution_count": null,
   "metadata": {},
   "outputs": [],
   "source": [
    "# drop rows without long and lat\n",
    "new_vulture_data_df = new_vulture_data_df.dropna(how=\"any\")\n",
    "new_vulture_data_df.count()"
   ]
  },
  {
   "cell_type": "code",
   "execution_count": null,
   "metadata": {},
   "outputs": [],
   "source": [
    "# filter data to only keep turkey vulture (Cathartes aura) data\n",
    "new_vulture_data_df = new_vulture_data_df.loc[new_vulture_data_df\n",
    "                                              ['animal_taxon'] == \"Cathartes aura\", :]\n",
    "new_vulture_data_df.count()"
   ]
  },
  {
   "cell_type": "code",
   "execution_count": null,
   "metadata": {},
   "outputs": [],
   "source": [
    "# new_vulture_data_df.set_index(\"event_id\")"
   ]
  },
  {
   "cell_type": "code",
   "execution_count": null,
   "metadata": {},
   "outputs": [],
   "source": [
    "new_vulture_data_df.dtypes"
   ]
  },
  {
   "cell_type": "code",
   "execution_count": null,
   "metadata": {},
   "outputs": [],
   "source": []
  },
  {
   "cell_type": "markdown",
   "metadata": {},
   "source": [
    "### Confirm data has been added by querying the customer_name table\n",
    "* NOTE: can also check using pgAdmin"
   ]
  },
  {
   "cell_type": "code",
   "execution_count": null,
   "metadata": {},
   "outputs": [],
   "source": [
    "pd.read_sql_query('select * from migration_paths', con=engine).head()"
   ]
  },
  {
   "cell_type": "markdown",
   "metadata": {},
   "source": [
    "### Confirm data has been added by querying the customer_location table"
   ]
  },
  {
   "cell_type": "code",
   "execution_count": null,
   "metadata": {},
   "outputs": [],
   "source": [
    "pd.read_sql_query('select * from vulture_detail', con=engine).head()"
   ]
  },
  {
   "cell_type": "code",
   "execution_count": null,
   "metadata": {},
   "outputs": [],
   "source": [
    "engine.table_names()"
   ]
  },
  {
   "cell_type": "code",
   "execution_count": null,
   "metadata": {},
   "outputs": [],
   "source": [
    "conn = engine.connect()\n",
    "\n",
    "from sqlalchemy.orm import Session\n",
    "from sqlalchemy.ext.declarative import declarative_base\n",
    "Base = declarative_base()\n",
    "\n",
    "session = Session(bind=engine)\n",
    "Base.metadata.create_all(engine)"
   ]
  },
  {
   "cell_type": "code",
   "execution_count": null,
   "metadata": {},
   "outputs": [],
   "source": [
    "\n",
    "session.commit()"
   ]
  },
  {
   "cell_type": "code",
   "execution_count": null,
   "metadata": {},
   "outputs": [],
   "source": [
    "names = session.query(migration_paths)\n",
    "for name in names:\n",
    "    \n",
    "    print(migration_paths.animal-id)"
   ]
  },
  {
   "cell_type": "markdown",
   "metadata": {},
   "source": [
    "## Data from Acopian Center"
   ]
  },
  {
   "cell_type": "code",
   "execution_count": null,
   "metadata": {},
   "outputs": [],
   "source": []
  },
  {
   "cell_type": "code",
   "execution_count": null,
   "metadata": {},
   "outputs": [],
   "source": []
  },
  {
   "cell_type": "code",
   "execution_count": null,
   "metadata": {},
   "outputs": [],
   "source": []
  },
  {
   "cell_type": "code",
   "execution_count": null,
   "metadata": {},
   "outputs": [],
   "source": []
  },
  {
   "cell_type": "code",
   "execution_count": null,
   "metadata": {},
   "outputs": [],
   "source": []
  },
  {
   "cell_type": "markdown",
   "metadata": {},
   "source": [
    "# list of cities"
   ]
  },
  {
   "cell_type": "code",
   "execution_count": null,
   "metadata": {},
   "outputs": [],
   "source": [
    "from citipy import citipy\n"
   ]
  },
  {
   "cell_type": "code",
   "execution_count": null,
   "metadata": {},
   "outputs": [],
   "source": [
    "lats = new_vulture_data_df['location-lat'].values.tolist()\n",
    "lngs = new_vulture_data_df['location-long'].values.tolist()\n",
    "type(lngs)"
   ]
  },
  {
   "cell_type": "code",
   "execution_count": null,
   "metadata": {},
   "outputs": [],
   "source": [
    "lat_lngs = []\n",
    "cities = []"
   ]
  },
  {
   "cell_type": "code",
   "execution_count": null,
   "metadata": {},
   "outputs": [],
   "source": [
    "lat_lngs = zip(lats, lngs)\n",
    "\n",
    "# Identify nearest city for each lat, lng combination\n",
    "for lat_lng in lat_lngs:\n",
    "    city = citipy.nearest_city(lat_lng[0], lat_lng[1]).city_name\n",
    "    cities.append(city)\n",
    "\n"
   ]
  },
  {
   "cell_type": "code",
   "execution_count": null,
   "metadata": {},
   "outputs": [],
   "source": [
    "len(cities)\n",
    "cities[-1]"
   ]
  },
  {
   "cell_type": "code",
   "execution_count": null,
   "metadata": {},
   "outputs": [],
   "source": [
    "cities_df = new_vulture_data_df[['event-id', 'location-lat', 'location-long']]\n",
    "cities_df[\"cities\"] = pd.DataFrame({\"cities\" : cities})\n",
    "cities_df[['event-id', 'location-lat', 'location-long', 'cities']]\n"
   ]
  },
  {
   "cell_type": "code",
   "execution_count": null,
   "metadata": {},
   "outputs": [],
   "source": []
  },
  {
   "cell_type": "code",
   "execution_count": null,
   "metadata": {},
   "outputs": [],
   "source": []
  },
  {
   "cell_type": "code",
   "execution_count": null,
   "metadata": {},
   "outputs": [],
   "source": []
  }
 ],
 "metadata": {
  "kernelspec": {
   "display_name": "Python 3",
   "language": "python",
   "name": "python3"
  },
  "language_info": {
   "codemirror_mode": {
    "name": "ipython",
    "version": 3
   },
   "file_extension": ".py",
   "mimetype": "text/x-python",
   "name": "python",
   "nbconvert_exporter": "python",
   "pygments_lexer": "ipython3",
   "version": "3.7.1"
  },
  "nteract": {
   "version": "0.12.3"
  }
 },
 "nbformat": 4,
 "nbformat_minor": 2
}
